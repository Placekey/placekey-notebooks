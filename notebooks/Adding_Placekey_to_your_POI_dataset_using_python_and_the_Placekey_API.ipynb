{
 "cells": [
  {
   "cell_type": "markdown",
   "metadata": {
    "colab_type": "text",
    "id": "tsGfCOVrbtyc"
   },
   "source": [
    "<a href=\"https://placekey.io/\">\n",
    "         <img src=\"https://assets.website-files.com/5f08ccbb93b299154d34ef7f/5f1e9c2bdd643e0d63967ca9_logo-placekey-black.svg\" alt=\"Placekey\" ALIGN=\"left\" width=600>\n",
    "      </a>\n",
    "\n"
   ]
  },
  {
   "cell_type": "markdown",
   "metadata": {
    "colab_type": "text",
    "id": "_5lvg1M6cB79"
   },
   "source": [
    "# Quick Start Guide For Batch Process [Placekey](https://placekey.io/) Matching With Python\n",
    "--------------\n",
    "**[Ryan Fox Squire](https://www.linkedin.com/in/ryanfoxsquire/) | Senior Data Scientist, [SafeGraph](https://safegraph.com/)**\n",
    "\n",
    " <img src=\"https://global-uploads.webflow.com/5baafc2653bd67278f206724/5be267a03f7813daf821b31e_safegraph-logo-hidpi%403x-p-500.png\" alt=\"SafeGraph\" ALIGN=\"center\" width=100>\n",
    "\n",
    "\n",
    "Sep 2020, updated Dec 2020\n",
    "\n",
    "--------------\n",
    "[*Open this notebook in Google CoLab*](https://colab.research.google.com/github/Placekey/placekey-notebooks/blob/main/notebooks/Adding_Placekey_to_your_POI_dataset_using_python_and_the_Placekey_API.ipynb)\n",
    "\n",
    "[*View this notebook on Github*](https://github.com/Placekey/placekey-notebooks/blob/main/notebooks/Adding_Placekey_to_your_POI_dataset_using_python_and_the_Placekey_API.ipynb)\n",
    "\n"
   ]
  },
  {
   "cell_type": "markdown",
   "metadata": {
    "colab_type": "text",
    "id": "JgQ1Hq1WlIiJ"
   },
   "source": [
    "## Summary\n",
    "* [Placekey](https://placekey.io/) is geospatially-aware universal place identifier useful for joining together disparate geospatial, address, and point-of-interest datasets. \n",
    "* Placekey is an open and free to use.\n",
    "* Here we demonstrate how to obtain Placekeys for point-of-interest or address-based data using the [placekey-py](https://github.com/Placekey/placekey-py) python library and Placekey API. \n"
   ]
  },
  {
   "cell_type": "markdown",
   "metadata": {
    "colab_type": "text",
    "id": "AqBzMY7hdRJF"
   },
   "source": [
    "#### What do you need? \n",
    "* Your Placekey API key --> [Register Here](https://dev.placekey.io/default/register) \n",
    "* Your dataset containing points-of-interest, addresses, and/or geospatial coordinates for which you want to assign a universal place identifier (Placekey)\n",
    "\n",
    "\n",
    "#### Have questions or ideas? \n",
    " * Join thousands of geospatial data scientists in the [Placekey Slack Community](https://www.placekey.io/community) to get help and   share ideas.\n",
    " * Follow [Placekey on Github](https://github.com/Placekey)\n",
    " * Tweet [@placekeyio](https://twitter.com/placekeyio?lang=en)"
   ]
  },
  {
   "cell_type": "code",
   "execution_count": 42,
   "metadata": {
    "colab": {},
    "colab_type": "code",
    "id": "5my5K8ATRhIY"
   },
   "outputs": [
    {
     "name": "stdout",
     "output_type": "stream",
     "text": [
      "Requirement already satisfied: placekey in /Users/ryansquire/.pyenv/versions/3.7.4/lib/python3.7/site-packages (0.0.8)\n",
      "Requirement already satisfied: h3 in /Users/ryansquire/.pyenv/versions/3.7.4/lib/python3.7/site-packages (from placekey) (3.6.4)\n",
      "Requirement already satisfied: shapely in /Users/ryansquire/.pyenv/versions/3.7.4/lib/python3.7/site-packages (from placekey) (1.6.4.post2)\n",
      "Requirement already satisfied: requests in /Users/ryansquire/.pyenv/versions/3.7.4/lib/python3.7/site-packages (from placekey) (2.22.0)\n",
      "Requirement already satisfied: ratelimit in /Users/ryansquire/.pyenv/versions/3.7.4/lib/python3.7/site-packages (from placekey) (2.2.1)\n",
      "Requirement already satisfied: backoff in /Users/ryansquire/.pyenv/versions/3.7.4/lib/python3.7/site-packages (from placekey) (1.10.0)\n",
      "Requirement already satisfied: urllib3!=1.25.0,!=1.25.1,<1.26,>=1.21.1 in /Users/ryansquire/.pyenv/versions/3.7.4/lib/python3.7/site-packages (from requests->placekey) (1.25.7)\n",
      "Requirement already satisfied: chardet<3.1.0,>=3.0.2 in /Users/ryansquire/.pyenv/versions/3.7.4/lib/python3.7/site-packages (from requests->placekey) (3.0.4)\n",
      "Requirement already satisfied: idna<2.9,>=2.5 in /Users/ryansquire/.pyenv/versions/3.7.4/lib/python3.7/site-packages (from requests->placekey) (2.8)\n",
      "Requirement already satisfied: certifi>=2017.4.17 in /Users/ryansquire/.pyenv/versions/3.7.4/lib/python3.7/site-packages (from requests->placekey) (2019.11.28)\n"
     ]
    }
   ],
   "source": [
    "!pip install placekey --upgrade\n",
    "\n",
    "import pandas as pd\n",
    "import numpy as np\n",
    "import json\n",
    "from placekey.api import PlacekeyAPI"
   ]
  },
  {
   "cell_type": "markdown",
   "metadata": {
    "colab_type": "text",
    "id": "2F_AG_4wfjoF"
   },
   "source": [
    "## Set Your API Key\n",
    "\n",
    "Get your Placekey API instantly here: [Register for Placekey API](https://dev.placekey.io/default/register) \n"
   ]
  },
  {
   "cell_type": "code",
   "execution_count": 43,
   "metadata": {
    "colab": {},
    "colab_type": "code",
    "id": "n1KoQ7KHdCTt"
   },
   "outputs": [],
   "source": [
    "placekey_api_key = \"ENTER YOUR API KEY HERE\" # fill this in with your personal API key (do not share publicly)\n",
    "# placekey_api_key = pd.read_csv(\"/Users/ryansquire/Documents/datasets/demo_keys/squire_placekey_api_key\").columns[0] # for original author debugging\n",
    "\n",
    "pk_api = PlacekeyAPI(placekey_api_key)"
   ]
  },
  {
   "cell_type": "markdown",
   "metadata": {
    "colab_type": "text",
    "id": "6o_lrzQI8654"
   },
   "source": [
    "## Read in Data\n",
    "* Define `data_path` and `data_filename`\n",
    "* Mind your datatypes (do not drop leading zeros for postal code)\n"
   ]
  },
  {
   "cell_type": "code",
   "execution_count": 44,
   "metadata": {
    "colab": {
     "base_uri": "https://localhost:8080/",
     "height": 34
    },
    "colab_type": "code",
    "id": "Njh3AwQERxpW",
    "outputId": "42cd7161-4365-47dc-b463-45364e2e3b34"
   },
   "outputs": [
    {
     "name": "stdout",
     "output_type": "stream",
     "text": [
      "/Users/ryansquire/Documents/datasets/CostcoWholesaleCorp-Sept-2020-CORE_POI/my_places_data_missing.csv\n"
     ]
    }
   ],
   "source": [
    "data_path = \"/Users/ryansquire/Documents/datasets/CostcoWholesaleCorp-Sept-2020-CORE_POI/\" \n",
    "data_filename = \"my_places_data_missing\"\n",
    "file_suffix = \".csv\"\n",
    "full_path = data_path + data_filename + file_suffix\n",
    "print(full_path)"
   ]
  },
  {
   "cell_type": "code",
   "execution_count": 45,
   "metadata": {
    "colab": {
     "base_uri": "https://localhost:8080/",
     "height": 306
    },
    "colab_type": "code",
    "id": "_5BHtX-hTeTN",
    "outputId": "a2a3a1a6-0f68-499a-efe8-893edbb62638"
   },
   "outputs": [
    {
     "name": "stdout",
     "output_type": "stream",
     "text": [
      "(545, 8)\n"
     ]
    },
    {
     "data": {
      "text/html": [
       "<div>\n",
       "<style scoped>\n",
       "    .dataframe tbody tr th:only-of-type {\n",
       "        vertical-align: middle;\n",
       "    }\n",
       "\n",
       "    .dataframe tbody tr th {\n",
       "        vertical-align: top;\n",
       "    }\n",
       "\n",
       "    .dataframe thead th {\n",
       "        text-align: right;\n",
       "    }\n",
       "</style>\n",
       "<table border=\"1\" class=\"dataframe\">\n",
       "  <thead>\n",
       "    <tr style=\"text-align: right;\">\n",
       "      <th></th>\n",
       "      <th>internal_place_id</th>\n",
       "      <th>store_name</th>\n",
       "      <th>lat</th>\n",
       "      <th>lon</th>\n",
       "      <th>full_address</th>\n",
       "      <th>city</th>\n",
       "      <th>state</th>\n",
       "      <th>zip_code</th>\n",
       "    </tr>\n",
       "  </thead>\n",
       "  <tbody>\n",
       "    <tr>\n",
       "      <td>0</td>\n",
       "      <td>sg:22a7df9c14c148bb969171d93e0950c3</td>\n",
       "      <td>Costco Wholesale Corp.</td>\n",
       "      <td>33.804504</td>\n",
       "      <td>-118.039593</td>\n",
       "      <td>5401 Katella Ave</td>\n",
       "      <td>Cypress</td>\n",
       "      <td>CA</td>\n",
       "      <td>90720</td>\n",
       "    </tr>\n",
       "    <tr>\n",
       "      <td>1</td>\n",
       "      <td>sg:235e4067e4b04332b23e5a38448f6535</td>\n",
       "      <td>Costco Wholesale Corp.</td>\n",
       "      <td>NaN</td>\n",
       "      <td>NaN</td>\n",
       "      <td>25900 SW Heather Pl</td>\n",
       "      <td>Wilsonville</td>\n",
       "      <td>OR</td>\n",
       "      <td>NaN</td>\n",
       "    </tr>\n",
       "    <tr>\n",
       "      <td>2</td>\n",
       "      <td>sg:67591b2e593048a4bd4e09e027ba9caf</td>\n",
       "      <td>Costco Wholesale Corp.</td>\n",
       "      <td>47.445371</td>\n",
       "      <td>-122.248623</td>\n",
       "      <td>400 Costco Dr Ste 150</td>\n",
       "      <td>Tukwila</td>\n",
       "      <td>WA</td>\n",
       "      <td>98188</td>\n",
       "    </tr>\n",
       "    <tr>\n",
       "      <td>3</td>\n",
       "      <td>sg:b568fdaf8fd64651ad1f5931e48440fe</td>\n",
       "      <td>Costco Wholesale Corp.</td>\n",
       "      <td>41.844777</td>\n",
       "      <td>-87.806473</td>\n",
       "      <td>2500 Harlem Ave</td>\n",
       "      <td>North Riverside</td>\n",
       "      <td>IL</td>\n",
       "      <td>60546</td>\n",
       "    </tr>\n",
       "    <tr>\n",
       "      <td>4</td>\n",
       "      <td>sg:ccacecad3a01486a8873a05a1ad9db41</td>\n",
       "      <td>Costco Wholesale Corp.</td>\n",
       "      <td>38.508769</td>\n",
       "      <td>-90.338324</td>\n",
       "      <td>4200 Rusty Rd</td>\n",
       "      <td>Concord</td>\n",
       "      <td>MO</td>\n",
       "      <td>63128</td>\n",
       "    </tr>\n",
       "  </tbody>\n",
       "</table>\n",
       "</div>"
      ],
      "text/plain": [
       "                     internal_place_id              store_name        lat  \\\n",
       "0  sg:22a7df9c14c148bb969171d93e0950c3  Costco Wholesale Corp.  33.804504   \n",
       "1  sg:235e4067e4b04332b23e5a38448f6535  Costco Wholesale Corp.        NaN   \n",
       "2  sg:67591b2e593048a4bd4e09e027ba9caf  Costco Wholesale Corp.  47.445371   \n",
       "3  sg:b568fdaf8fd64651ad1f5931e48440fe  Costco Wholesale Corp.  41.844777   \n",
       "4  sg:ccacecad3a01486a8873a05a1ad9db41  Costco Wholesale Corp.  38.508769   \n",
       "\n",
       "          lon           full_address             city state zip_code  \n",
       "0 -118.039593       5401 Katella Ave          Cypress    CA    90720  \n",
       "1         NaN    25900 SW Heather Pl      Wilsonville    OR      NaN  \n",
       "2 -122.248623  400 Costco Dr Ste 150          Tukwila    WA    98188  \n",
       "3  -87.806473        2500 Harlem Ave  North Riverside    IL    60546  \n",
       "4  -90.338324          4200 Rusty Rd          Concord    MO    63128  "
      ]
     },
     "execution_count": 45,
     "metadata": {},
     "output_type": "execute_result"
    }
   ],
   "source": [
    "my_dtypes = {'internal_place_id':str, \n",
    "             'store_name' : str,\n",
    "             'street_address':str, \n",
    "             'city': str, \n",
    "             'state': str, \n",
    "             'zip_code': str, # This is important so that you do not drop leading zeros\n",
    "             'iso_country_code':str,\n",
    "             'lat' : float,\n",
    "             'lon' : float}\n",
    "orig_df = pd.read_csv(full_path, dtype=my_dtypes)\n",
    "print(orig_df.shape)\n",
    "orig_df.head()"
   ]
  },
  {
   "cell_type": "markdown",
   "metadata": {
    "colab_type": "text",
    "id": "8n4rtjvTUH4g"
   },
   "source": [
    "## Prep Data Column Names for Placekey API\n",
    "\n",
    "https://docs.placekey.io/\n",
    "\n",
    "Make sure to list every column useful for the Placekey API in `column_map` even if you do not need to rename it (see `city` in the example)."
   ]
  },
  {
   "cell_type": "code",
   "execution_count": 23,
   "metadata": {
    "colab": {
     "base_uri": "https://localhost:8080/",
     "height": 309
    },
    "colab_type": "code",
    "id": "9PMqF7EeUG_a",
    "outputId": "6fd8ce19-1d58-404a-b974-ffeee5df49b3"
   },
   "outputs": [
    {
     "data": {
      "text/html": [
       "<div>\n",
       "<style scoped>\n",
       "    .dataframe tbody tr th:only-of-type {\n",
       "        vertical-align: middle;\n",
       "    }\n",
       "\n",
       "    .dataframe tbody tr th {\n",
       "        vertical-align: top;\n",
       "    }\n",
       "\n",
       "    .dataframe thead th {\n",
       "        text-align: right;\n",
       "    }\n",
       "</style>\n",
       "<table border=\"1\" class=\"dataframe\">\n",
       "  <thead>\n",
       "    <tr style=\"text-align: right;\">\n",
       "      <th></th>\n",
       "      <th>query_id</th>\n",
       "      <th>location_name</th>\n",
       "      <th>street_address</th>\n",
       "      <th>city</th>\n",
       "      <th>region</th>\n",
       "      <th>postal_code</th>\n",
       "      <th>latitude</th>\n",
       "      <th>longitude</th>\n",
       "      <th>iso_country_code</th>\n",
       "    </tr>\n",
       "  </thead>\n",
       "  <tbody>\n",
       "    <tr>\n",
       "      <td>0</td>\n",
       "      <td>sg:22a7df9c14c148bb969171d93e0950c3</td>\n",
       "      <td>Costco Wholesale Corp.</td>\n",
       "      <td>5401 Katella Ave</td>\n",
       "      <td>Cypress</td>\n",
       "      <td>CA</td>\n",
       "      <td>90720</td>\n",
       "      <td>33.804504</td>\n",
       "      <td>-118.039593</td>\n",
       "      <td>US</td>\n",
       "    </tr>\n",
       "    <tr>\n",
       "      <td>1</td>\n",
       "      <td>sg:235e4067e4b04332b23e5a38448f6535</td>\n",
       "      <td>Costco Wholesale Corp.</td>\n",
       "      <td>25900 SW Heather Pl</td>\n",
       "      <td>Wilsonville</td>\n",
       "      <td>OR</td>\n",
       "      <td>NaN</td>\n",
       "      <td>NaN</td>\n",
       "      <td>NaN</td>\n",
       "      <td>US</td>\n",
       "    </tr>\n",
       "    <tr>\n",
       "      <td>2</td>\n",
       "      <td>sg:67591b2e593048a4bd4e09e027ba9caf</td>\n",
       "      <td>Costco Wholesale Corp.</td>\n",
       "      <td>400 Costco Dr Ste 150</td>\n",
       "      <td>Tukwila</td>\n",
       "      <td>WA</td>\n",
       "      <td>98188</td>\n",
       "      <td>47.445371</td>\n",
       "      <td>-122.248623</td>\n",
       "      <td>US</td>\n",
       "    </tr>\n",
       "    <tr>\n",
       "      <td>3</td>\n",
       "      <td>sg:b568fdaf8fd64651ad1f5931e48440fe</td>\n",
       "      <td>Costco Wholesale Corp.</td>\n",
       "      <td>2500 Harlem Ave</td>\n",
       "      <td>North Riverside</td>\n",
       "      <td>IL</td>\n",
       "      <td>60546</td>\n",
       "      <td>41.844777</td>\n",
       "      <td>-87.806473</td>\n",
       "      <td>US</td>\n",
       "    </tr>\n",
       "    <tr>\n",
       "      <td>4</td>\n",
       "      <td>sg:ccacecad3a01486a8873a05a1ad9db41</td>\n",
       "      <td>Costco Wholesale Corp.</td>\n",
       "      <td>4200 Rusty Rd</td>\n",
       "      <td>Concord</td>\n",
       "      <td>MO</td>\n",
       "      <td>63128</td>\n",
       "      <td>38.508769</td>\n",
       "      <td>-90.338324</td>\n",
       "      <td>US</td>\n",
       "    </tr>\n",
       "  </tbody>\n",
       "</table>\n",
       "</div>"
      ],
      "text/plain": [
       "                              query_id           location_name  \\\n",
       "0  sg:22a7df9c14c148bb969171d93e0950c3  Costco Wholesale Corp.   \n",
       "1  sg:235e4067e4b04332b23e5a38448f6535  Costco Wholesale Corp.   \n",
       "2  sg:67591b2e593048a4bd4e09e027ba9caf  Costco Wholesale Corp.   \n",
       "3  sg:b568fdaf8fd64651ad1f5931e48440fe  Costco Wholesale Corp.   \n",
       "4  sg:ccacecad3a01486a8873a05a1ad9db41  Costco Wholesale Corp.   \n",
       "\n",
       "          street_address             city region postal_code   latitude  \\\n",
       "0       5401 Katella Ave          Cypress     CA       90720  33.804504   \n",
       "1    25900 SW Heather Pl      Wilsonville     OR         NaN        NaN   \n",
       "2  400 Costco Dr Ste 150          Tukwila     WA       98188  47.445371   \n",
       "3        2500 Harlem Ave  North Riverside     IL       60546  41.844777   \n",
       "4          4200 Rusty Rd          Concord     MO       63128  38.508769   \n",
       "\n",
       "    longitude iso_country_code  \n",
       "0 -118.039593               US  \n",
       "1         NaN               US  \n",
       "2 -122.248623               US  \n",
       "3  -87.806473               US  \n",
       "4  -90.338324               US  "
      ]
     },
     "execution_count": 23,
     "metadata": {},
     "output_type": "execute_result"
    }
   ],
   "source": [
    "query_id_col = \"internal_place_id\" # this column in your data should be unique for every row\n",
    "column_map = {query_id_col: \"query_id\",\n",
    "              \"store_name\" : \"location_name\",\n",
    "              \"full_address\" : \"street_address\",\n",
    "              \"city\": \"city\",\n",
    "              \"state\": \"region\",\n",
    "              \"zip_code\": \"postal_code\",\n",
    "              \"lat\": \"latitude\",\n",
    "              \"lon\": \"longitude\"\n",
    "             }\n",
    "\n",
    "df_for_api = orig_df.rename(columns=column_map)\n",
    "cols = list(column_map.values())\n",
    "df_for_api = df_for_api[cols]\n",
    "\n",
    "# add missing hard-coded columns\n",
    "df_for_api['iso_country_code'] = 'US'\n",
    "df_for_api.head()"
   ]
  },
  {
   "cell_type": "markdown",
   "metadata": {
    "colab_type": "text",
    "id": "6BoQgCrkUArE"
   },
   "source": [
    "## Data Cleaning Best Practices\n",
    "\n",
    "Gotcha's to check for:\n",
    "* \"\"\n",
    "* \" \"\n",
    "* \"null\"/\"Null\"\n",
    "* \"None\"\n",
    "* Missing / Nan\n",
    "* Anything else weird in your data? \n",
    "* Convert all of these to `np.nan` so that they are handled correctly by `json` library"
   ]
  },
  {
   "cell_type": "code",
   "execution_count": 46,
   "metadata": {
    "colab": {
     "base_uri": "https://localhost:8080/",
     "height": 360
    },
    "colab_type": "code",
    "id": "XVkHkZQFT_Fw",
    "outputId": "cbd14abb-432c-4186-e946-177570c64253"
   },
   "outputs": [
    {
     "name": "stdout",
     "output_type": "stream",
     "text": [
      "FYI data missing from at least 1 column in the following number of rows:\n",
      "18\n",
      "Some examples of rows with missing data\n"
     ]
    },
    {
     "data": {
      "text/html": [
       "<div>\n",
       "<style scoped>\n",
       "    .dataframe tbody tr th:only-of-type {\n",
       "        vertical-align: middle;\n",
       "    }\n",
       "\n",
       "    .dataframe tbody tr th {\n",
       "        vertical-align: top;\n",
       "    }\n",
       "\n",
       "    .dataframe thead th {\n",
       "        text-align: right;\n",
       "    }\n",
       "</style>\n",
       "<table border=\"1\" class=\"dataframe\">\n",
       "  <thead>\n",
       "    <tr style=\"text-align: right;\">\n",
       "      <th></th>\n",
       "      <th>query_id</th>\n",
       "      <th>location_name</th>\n",
       "      <th>street_address</th>\n",
       "      <th>city</th>\n",
       "      <th>region</th>\n",
       "      <th>postal_code</th>\n",
       "      <th>latitude</th>\n",
       "      <th>longitude</th>\n",
       "      <th>iso_country_code</th>\n",
       "    </tr>\n",
       "  </thead>\n",
       "  <tbody>\n",
       "    <tr>\n",
       "      <td>1</td>\n",
       "      <td>sg:235e4067e4b04332b23e5a38448f6535</td>\n",
       "      <td>Costco Wholesale Corp.</td>\n",
       "      <td>25900 SW Heather Pl</td>\n",
       "      <td>Wilsonville</td>\n",
       "      <td>OR</td>\n",
       "      <td>NaN</td>\n",
       "      <td>NaN</td>\n",
       "      <td>NaN</td>\n",
       "      <td>US</td>\n",
       "    </tr>\n",
       "    <tr>\n",
       "      <td>5</td>\n",
       "      <td>sg:03cb6aeb0e024bd6bf71626e30b201a0</td>\n",
       "      <td>Costco Wholesale Corp.</td>\n",
       "      <td>5901 Redwood Dr</td>\n",
       "      <td>Rohnert Park</td>\n",
       "      <td>CA</td>\n",
       "      <td>94928</td>\n",
       "      <td>NaN</td>\n",
       "      <td>NaN</td>\n",
       "      <td>US</td>\n",
       "    </tr>\n",
       "    <tr>\n",
       "      <td>10</td>\n",
       "      <td>sg:377f1c2a3c3e4b0885b8addcb4f70997</td>\n",
       "      <td>Costco Wholesale Corp.</td>\n",
       "      <td>1501 W Kelly Ave</td>\n",
       "      <td>Pharr</td>\n",
       "      <td>TX</td>\n",
       "      <td>78577</td>\n",
       "      <td>NaN</td>\n",
       "      <td>NaN</td>\n",
       "      <td>US</td>\n",
       "    </tr>\n",
       "    <tr>\n",
       "      <td>12</td>\n",
       "      <td>sg:98ccf43c4a934f30a943a9564ce4cf0e</td>\n",
       "      <td>Costco Wholesale Corp.</td>\n",
       "      <td>24008 Snohomish Woodinville Rd</td>\n",
       "      <td>Maltby</td>\n",
       "      <td>WA</td>\n",
       "      <td>NaN</td>\n",
       "      <td>47.779382</td>\n",
       "      <td>-122.148732</td>\n",
       "      <td>US</td>\n",
       "    </tr>\n",
       "    <tr>\n",
       "      <td>16</td>\n",
       "      <td>sg:be95a4498ee340db9b5eeb3130124eab</td>\n",
       "      <td>Costco Wholesale Corp.</td>\n",
       "      <td>1415 N Arizona Ave</td>\n",
       "      <td>Gilbert</td>\n",
       "      <td>AZ</td>\n",
       "      <td>NaN</td>\n",
       "      <td>33.376033</td>\n",
       "      <td>-111.840291</td>\n",
       "      <td>US</td>\n",
       "    </tr>\n",
       "  </tbody>\n",
       "</table>\n",
       "</div>"
      ],
      "text/plain": [
       "                               query_id           location_name  \\\n",
       "1   sg:235e4067e4b04332b23e5a38448f6535  Costco Wholesale Corp.   \n",
       "5   sg:03cb6aeb0e024bd6bf71626e30b201a0  Costco Wholesale Corp.   \n",
       "10  sg:377f1c2a3c3e4b0885b8addcb4f70997  Costco Wholesale Corp.   \n",
       "12  sg:98ccf43c4a934f30a943a9564ce4cf0e  Costco Wholesale Corp.   \n",
       "16  sg:be95a4498ee340db9b5eeb3130124eab  Costco Wholesale Corp.   \n",
       "\n",
       "                    street_address          city region postal_code  \\\n",
       "1              25900 SW Heather Pl   Wilsonville     OR         NaN   \n",
       "5                  5901 Redwood Dr  Rohnert Park     CA       94928   \n",
       "10                1501 W Kelly Ave         Pharr     TX       78577   \n",
       "12  24008 Snohomish Woodinville Rd        Maltby     WA         NaN   \n",
       "16              1415 N Arizona Ave       Gilbert     AZ         NaN   \n",
       "\n",
       "     latitude   longitude iso_country_code  \n",
       "1         NaN         NaN               US  \n",
       "5         NaN         NaN               US  \n",
       "10        NaN         NaN               US  \n",
       "12  47.779382 -122.148732               US  \n",
       "16  33.376033 -111.840291               US  "
      ]
     },
     "execution_count": 46,
     "metadata": {},
     "output_type": "execute_result"
    }
   ],
   "source": [
    "df_clean = df_for_api.copy()\n",
    "possible_bad_values = [\"\", \" \", \"null\", \"Null\", \"None\", \"nan\", \"Nan\"] # Any other dirty data you need to clean up? \n",
    "for bad_value in possible_bad_values:\n",
    "  df_clean = df_clean.replace(to_replace=bad_value, value=np.nan)\n",
    "\n",
    "print(\"FYI data missing from at least 1 column in the following number of rows:\")\n",
    "print(df_clean.shape[0] - df_clean.dropna().shape[0])\n",
    "print(\"Some examples of rows with missing data\")\n",
    "df_clean[df_clean.isnull().any(axis=1)].head()"
   ]
  },
  {
   "cell_type": "markdown",
   "metadata": {
    "colab_type": "text",
    "id": "CUEymlw-Z6eX"
   },
   "source": [
    "In this example example dataset some rows are missing `postal_code`, `latitude`/`longitude`, and even the `street_address`. \n",
    "\n",
    "The Placekey API is flexible and powerful and can often handle incomplete data. We will send the API the fields we have and see what comes back. "
   ]
  },
  {
   "cell_type": "markdown",
   "metadata": {
    "colab_type": "text",
    "id": "6b2HtzGMYHpL"
   },
   "source": [
    "### Prepare Data Structure For Batch API \n",
    "\n",
    "https://docs.placekey.io/#5778b1b7-ce57-4cbf-a74e-bf4e2ce5a9ec\n",
    "\n",
    "Advanced: If you want to include options like [`strict_address_matching`](https://docs.placekey.io/#77042b13-ad19-423b-b117-c1ec819ae2f9) for more conservative results, edit the function `prepare_batches_for_API`. "
   ]
  },
  {
   "cell_type": "code",
   "execution_count": 47,
   "metadata": {
    "colab": {
     "base_uri": "https://localhost:8080/",
     "height": 187
    },
    "colab_type": "code",
    "id": "oGw5-nU0T_WG",
    "outputId": "1ab50588-a103-453c-a9a8-62e0a7558d72"
   },
   "outputs": [
    {
     "name": "stdout",
     "output_type": "stream",
     "text": [
      "number of records:  545\n",
      "example record:\n"
     ]
    },
    {
     "data": {
      "text/plain": [
       "{'query_id': 'sg:22a7df9c14c148bb969171d93e0950c3',\n",
       " 'location_name': 'Costco Wholesale Corp.',\n",
       " 'street_address': '5401 Katella Ave',\n",
       " 'city': 'Cypress',\n",
       " 'region': 'CA',\n",
       " 'postal_code': '90720',\n",
       " 'latitude': 33.804504,\n",
       " 'longitude': -118.039593,\n",
       " 'iso_country_code': 'US'}"
      ]
     },
     "execution_count": 47,
     "metadata": {},
     "output_type": "execute_result"
    }
   ],
   "source": [
    "data_jsoned = json.loads(df_clean.to_json(orient=\"records\"))\n",
    "print(\"number of records: \", len(data_jsoned))\n",
    "print(\"example record:\")\n",
    "data_jsoned[0]"
   ]
  },
  {
   "cell_type": "markdown",
   "metadata": {
    "colab_type": "text",
    "id": "bBV4n5PAe5wi"
   },
   "source": [
    "## Request Placekeys From Placekey API and View Results\n",
    "\n"
   ]
  },
  {
   "cell_type": "markdown",
   "metadata": {},
   "source": [
    "##### Placekey for a single place\n",
    "\n",
    "You can use the function [`lookup_placekey()`](https://placekey.github.io/placekey-py/placekey.html#placekey.api.PlacekeyAPI.lookup_batch) to get a Placekey for a single place. "
   ]
  },
  {
   "cell_type": "code",
   "execution_count": 56,
   "metadata": {},
   "outputs": [
    {
     "name": "stdout",
     "output_type": "stream",
     "text": [
      "input: \n",
      " {'query_id': 'sg:22a7df9c14c148bb969171d93e0950c3', 'location_name': 'Costco Wholesale Corp.', 'street_address': '5401 Katella Ave', 'city': 'Cypress', 'region': 'CA', 'postal_code': '90720', 'latitude': 33.804504, 'longitude': -118.039593, 'iso_country_code': 'US'}\n",
      "\n",
      "result: \n",
      " {'query_id': 'sg:22a7df9c14c148bb969171d93e0950c3', 'placekey': 'zzw-224@5z6-3p2-v9f'}\n"
     ]
    }
   ],
   "source": [
    "single_place_example = data_jsoned[0]\n",
    "print(\"input: \\n\",single_place_example)\n",
    "print(\"\\nresult: \\n\",pk_api.lookup_placekey(**single_place_example))"
   ]
  },
  {
   "cell_type": "markdown",
   "metadata": {},
   "source": [
    "##### Placekeys for many places (batch)\n",
    "You can use the function [`lookup_placekeys()`](https://placekey.github.io/placekey-py/placekey.html#placekey.api.PlacekeyAPI.lookup_placekeys) (plural) to get placekeys for many places. "
   ]
  },
  {
   "cell_type": "code",
   "execution_count": 67,
   "metadata": {
    "colab": {
     "base_uri": "https://localhost:8080/",
     "height": 51
    },
    "colab_type": "code",
    "id": "2KEcrkiDT_iH",
    "outputId": "49bb1014-1f1f-4c1e-e680-905cdf76383d"
   },
   "outputs": [
    {
     "name": "stderr",
     "output_type": "stream",
     "text": [
      "2020-12-07 11:22:36,268\tINFO\tProcessed 545 items\n",
      "2020-12-07 11:22:36,269\tINFO\tDone\n"
     ]
    },
    {
     "name": "stdout",
     "output_type": "stream",
     "text": [
      "Example: {'query_id': 'sg:22a7df9c14c148bb969171d93e0950c3', 'placekey': 'zzw-224@5z6-3p2-v9f'}\n",
      "CPU times: user 107 ms, sys: 6.77 ms, total: 114 ms\n",
      "Wall time: 4.6 s\n"
     ]
    }
   ],
   "source": [
    "%%time\n",
    "responses = pk_api.lookup_placekeys(data_jsoned, \n",
    "                                    strict_address_match=False,\n",
    "                                    strict_name_match=False, \n",
    "                                    verbose=True)\n",
    "print(\"Example:\", responses[0])"
   ]
  },
  {
   "cell_type": "markdown",
   "metadata": {},
   "source": [
    "##### Advanced\n",
    "\n",
    "The functions `lookup_placekey()` and `lookup_placekeys()` have several optional parameters. For more conservative results, consider setting the parameters `strict_address_match` and `strict_name_match` to `True` (otherwise, defaults to `False`).\n",
    "\n"
   ]
  },
  {
   "cell_type": "markdown",
   "metadata": {},
   "source": [
    "##### Verify valid results were received"
   ]
  },
  {
   "cell_type": "code",
   "execution_count": 68,
   "metadata": {},
   "outputs": [
    {
     "name": "stdout",
     "output_type": "stream",
     "text": [
      "number of original records:  545\n",
      "total individual queries returned: 545\n",
      "total successful query responses: 545\n"
     ]
    }
   ],
   "source": [
    "def clean_api_responses(data_jsoned, responses):\n",
    "\n",
    "    print(\"number of original records: \", len(data_jsoned))\n",
    "    print(\"total individual queries returned:\", len(responses))\n",
    "\n",
    "    # filter out invalid responses\n",
    "    responses_cleaned = [resp for resp in responses if 'query_id' in resp]\n",
    "    print(\"total successful query responses:\", len(responses_cleaned))\n",
    "    return(responses_cleaned)\n",
    "\n",
    "responses_cleaned = clean_api_responses(data_jsoned, responses)"
   ]
  },
  {
   "cell_type": "code",
   "execution_count": 69,
   "metadata": {},
   "outputs": [
    {
     "data": {
      "text/html": [
       "<div>\n",
       "<style scoped>\n",
       "    .dataframe tbody tr th:only-of-type {\n",
       "        vertical-align: middle;\n",
       "    }\n",
       "\n",
       "    .dataframe tbody tr th {\n",
       "        vertical-align: top;\n",
       "    }\n",
       "\n",
       "    .dataframe thead th {\n",
       "        text-align: right;\n",
       "    }\n",
       "</style>\n",
       "<table border=\"1\" class=\"dataframe\">\n",
       "  <thead>\n",
       "    <tr style=\"text-align: right;\">\n",
       "      <th></th>\n",
       "      <th>query_id</th>\n",
       "      <th>placekey</th>\n",
       "      <th>error</th>\n",
       "    </tr>\n",
       "  </thead>\n",
       "  <tbody>\n",
       "    <tr>\n",
       "      <td>0</td>\n",
       "      <td>sg:22a7df9c14c148bb969171d93e0950c3</td>\n",
       "      <td>zzw-224@5z6-3p2-v9f</td>\n",
       "      <td>NaN</td>\n",
       "    </tr>\n",
       "    <tr>\n",
       "      <td>1</td>\n",
       "      <td>sg:235e4067e4b04332b23e5a38448f6535</td>\n",
       "      <td>222-222@5xc-q57-xqz</td>\n",
       "      <td>NaN</td>\n",
       "    </tr>\n",
       "    <tr>\n",
       "      <td>2</td>\n",
       "      <td>sg:67591b2e593048a4bd4e09e027ba9caf</td>\n",
       "      <td>223-223@5x4-4sg-vfz</td>\n",
       "      <td>NaN</td>\n",
       "    </tr>\n",
       "    <tr>\n",
       "      <td>3</td>\n",
       "      <td>sg:b568fdaf8fd64651ad1f5931e48440fe</td>\n",
       "      <td>zzw-223@5pw-68m-4jv</td>\n",
       "      <td>NaN</td>\n",
       "    </tr>\n",
       "    <tr>\n",
       "      <td>4</td>\n",
       "      <td>sg:ccacecad3a01486a8873a05a1ad9db41</td>\n",
       "      <td>222-222@5pj-24r-7t9</td>\n",
       "      <td>NaN</td>\n",
       "    </tr>\n",
       "    <tr>\n",
       "      <td>5</td>\n",
       "      <td>sg:03cb6aeb0e024bd6bf71626e30b201a0</td>\n",
       "      <td>222-222@5vg-55k-p7q</td>\n",
       "      <td>NaN</td>\n",
       "    </tr>\n",
       "    <tr>\n",
       "      <td>6</td>\n",
       "      <td>sg:3381832b1ba14db09a140e9f13bb386a</td>\n",
       "      <td>zzw-222@5xd-qd6-ghq</td>\n",
       "      <td>NaN</td>\n",
       "    </tr>\n",
       "    <tr>\n",
       "      <td>7</td>\n",
       "      <td>sg:2f347f46f0a34017a061bdf8d7430d01</td>\n",
       "      <td>zzw-222@5qc-x2b-7nq</td>\n",
       "      <td>NaN</td>\n",
       "    </tr>\n",
       "    <tr>\n",
       "      <td>8</td>\n",
       "      <td>sg:20d033ca8fe44c31a02d7325ce069bd3</td>\n",
       "      <td>222-222@5vg-87t-psq</td>\n",
       "      <td>NaN</td>\n",
       "    </tr>\n",
       "    <tr>\n",
       "      <td>9</td>\n",
       "      <td>sg:57f9bfb8ae45495d97f5af97f228d143</td>\n",
       "      <td>222-222@63v-bky-cbk</td>\n",
       "      <td>NaN</td>\n",
       "    </tr>\n",
       "  </tbody>\n",
       "</table>\n",
       "</div>"
      ],
      "text/plain": [
       "                              query_id             placekey error\n",
       "0  sg:22a7df9c14c148bb969171d93e0950c3  zzw-224@5z6-3p2-v9f   NaN\n",
       "1  sg:235e4067e4b04332b23e5a38448f6535  222-222@5xc-q57-xqz   NaN\n",
       "2  sg:67591b2e593048a4bd4e09e027ba9caf  223-223@5x4-4sg-vfz   NaN\n",
       "3  sg:b568fdaf8fd64651ad1f5931e48440fe  zzw-223@5pw-68m-4jv   NaN\n",
       "4  sg:ccacecad3a01486a8873a05a1ad9db41  222-222@5pj-24r-7t9   NaN\n",
       "5  sg:03cb6aeb0e024bd6bf71626e30b201a0  222-222@5vg-55k-p7q   NaN\n",
       "6  sg:3381832b1ba14db09a140e9f13bb386a  zzw-222@5xd-qd6-ghq   NaN\n",
       "7  sg:2f347f46f0a34017a061bdf8d7430d01  zzw-222@5qc-x2b-7nq   NaN\n",
       "8  sg:20d033ca8fe44c31a02d7325ce069bd3  222-222@5vg-87t-psq   NaN\n",
       "9  sg:57f9bfb8ae45495d97f5af97f228d143  222-222@63v-bky-cbk   NaN"
      ]
     },
     "execution_count": 69,
     "metadata": {},
     "output_type": "execute_result"
    }
   ],
   "source": [
    "df_placekeys = pd.read_json(json.dumps(responses_cleaned), dtype={'query_id':str})\n",
    "df_placekeys.head(10)"
   ]
  },
  {
   "cell_type": "markdown",
   "metadata": {
    "colab_type": "text",
    "id": "Ro0oSMf9-6G1"
   },
   "source": [
    "## Add `placekey` Column Back to Original Dataset and Save Results"
   ]
  },
  {
   "cell_type": "code",
   "execution_count": 62,
   "metadata": {
    "colab": {
     "base_uri": "https://localhost:8080/",
     "height": 394
    },
    "colab_type": "code",
    "id": "cfPOPcia_E2o",
    "outputId": "2078de97-44ea-4639-d4d7-3d32e3610a26"
   },
   "outputs": [
    {
     "data": {
      "text/html": [
       "<div>\n",
       "<style scoped>\n",
       "    .dataframe tbody tr th:only-of-type {\n",
       "        vertical-align: middle;\n",
       "    }\n",
       "\n",
       "    .dataframe tbody tr th {\n",
       "        vertical-align: top;\n",
       "    }\n",
       "\n",
       "    .dataframe thead th {\n",
       "        text-align: right;\n",
       "    }\n",
       "</style>\n",
       "<table border=\"1\" class=\"dataframe\">\n",
       "  <thead>\n",
       "    <tr style=\"text-align: right;\">\n",
       "      <th></th>\n",
       "      <th>query_id</th>\n",
       "      <th>placekey</th>\n",
       "      <th>error</th>\n",
       "      <th>internal_place_id</th>\n",
       "      <th>store_name</th>\n",
       "      <th>lat</th>\n",
       "      <th>lon</th>\n",
       "      <th>full_address</th>\n",
       "      <th>city</th>\n",
       "      <th>state</th>\n",
       "      <th>zip_code</th>\n",
       "    </tr>\n",
       "  </thead>\n",
       "  <tbody>\n",
       "    <tr>\n",
       "      <td>0</td>\n",
       "      <td>sg:22a7df9c14c148bb969171d93e0950c3</td>\n",
       "      <td>zzw-224@5z6-3p2-v9f</td>\n",
       "      <td>NaN</td>\n",
       "      <td>sg:22a7df9c14c148bb969171d93e0950c3</td>\n",
       "      <td>Costco Wholesale Corp.</td>\n",
       "      <td>33.804504</td>\n",
       "      <td>-118.039593</td>\n",
       "      <td>5401 Katella Ave</td>\n",
       "      <td>Cypress</td>\n",
       "      <td>CA</td>\n",
       "      <td>90720</td>\n",
       "    </tr>\n",
       "    <tr>\n",
       "      <td>1</td>\n",
       "      <td>sg:235e4067e4b04332b23e5a38448f6535</td>\n",
       "      <td>222-222@5xc-q57-xqz</td>\n",
       "      <td>NaN</td>\n",
       "      <td>sg:235e4067e4b04332b23e5a38448f6535</td>\n",
       "      <td>Costco Wholesale Corp.</td>\n",
       "      <td>NaN</td>\n",
       "      <td>NaN</td>\n",
       "      <td>25900 SW Heather Pl</td>\n",
       "      <td>Wilsonville</td>\n",
       "      <td>OR</td>\n",
       "      <td>NaN</td>\n",
       "    </tr>\n",
       "    <tr>\n",
       "      <td>2</td>\n",
       "      <td>sg:67591b2e593048a4bd4e09e027ba9caf</td>\n",
       "      <td>223-223@5x4-4sg-vfz</td>\n",
       "      <td>NaN</td>\n",
       "      <td>sg:67591b2e593048a4bd4e09e027ba9caf</td>\n",
       "      <td>Costco Wholesale Corp.</td>\n",
       "      <td>47.445371</td>\n",
       "      <td>-122.248623</td>\n",
       "      <td>400 Costco Dr Ste 150</td>\n",
       "      <td>Tukwila</td>\n",
       "      <td>WA</td>\n",
       "      <td>98188</td>\n",
       "    </tr>\n",
       "    <tr>\n",
       "      <td>3</td>\n",
       "      <td>sg:b568fdaf8fd64651ad1f5931e48440fe</td>\n",
       "      <td>zzw-223@5pw-68m-4jv</td>\n",
       "      <td>NaN</td>\n",
       "      <td>sg:b568fdaf8fd64651ad1f5931e48440fe</td>\n",
       "      <td>Costco Wholesale Corp.</td>\n",
       "      <td>41.844777</td>\n",
       "      <td>-87.806473</td>\n",
       "      <td>2500 Harlem Ave</td>\n",
       "      <td>North Riverside</td>\n",
       "      <td>IL</td>\n",
       "      <td>60546</td>\n",
       "    </tr>\n",
       "    <tr>\n",
       "      <td>4</td>\n",
       "      <td>sg:ccacecad3a01486a8873a05a1ad9db41</td>\n",
       "      <td>222-222@5pj-24r-7t9</td>\n",
       "      <td>NaN</td>\n",
       "      <td>sg:ccacecad3a01486a8873a05a1ad9db41</td>\n",
       "      <td>Costco Wholesale Corp.</td>\n",
       "      <td>38.508769</td>\n",
       "      <td>-90.338324</td>\n",
       "      <td>4200 Rusty Rd</td>\n",
       "      <td>Concord</td>\n",
       "      <td>MO</td>\n",
       "      <td>63128</td>\n",
       "    </tr>\n",
       "  </tbody>\n",
       "</table>\n",
       "</div>"
      ],
      "text/plain": [
       "                              query_id             placekey error  \\\n",
       "0  sg:22a7df9c14c148bb969171d93e0950c3  zzw-224@5z6-3p2-v9f   NaN   \n",
       "1  sg:235e4067e4b04332b23e5a38448f6535  222-222@5xc-q57-xqz   NaN   \n",
       "2  sg:67591b2e593048a4bd4e09e027ba9caf  223-223@5x4-4sg-vfz   NaN   \n",
       "3  sg:b568fdaf8fd64651ad1f5931e48440fe  zzw-223@5pw-68m-4jv   NaN   \n",
       "4  sg:ccacecad3a01486a8873a05a1ad9db41  222-222@5pj-24r-7t9   NaN   \n",
       "\n",
       "                     internal_place_id              store_name        lat  \\\n",
       "0  sg:22a7df9c14c148bb969171d93e0950c3  Costco Wholesale Corp.  33.804504   \n",
       "1  sg:235e4067e4b04332b23e5a38448f6535  Costco Wholesale Corp.        NaN   \n",
       "2  sg:67591b2e593048a4bd4e09e027ba9caf  Costco Wholesale Corp.  47.445371   \n",
       "3  sg:b568fdaf8fd64651ad1f5931e48440fe  Costco Wholesale Corp.  41.844777   \n",
       "4  sg:ccacecad3a01486a8873a05a1ad9db41  Costco Wholesale Corp.  38.508769   \n",
       "\n",
       "          lon           full_address             city state zip_code  \n",
       "0 -118.039593       5401 Katella Ave          Cypress    CA    90720  \n",
       "1         NaN    25900 SW Heather Pl      Wilsonville    OR      NaN  \n",
       "2 -122.248623  400 Costco Dr Ste 150          Tukwila    WA    98188  \n",
       "3  -87.806473        2500 Harlem Ave  North Riverside    IL    60546  \n",
       "4  -90.338324          4200 Rusty Rd          Concord    MO    63128  "
      ]
     },
     "execution_count": 62,
     "metadata": {},
     "output_type": "execute_result"
    }
   ],
   "source": [
    "df_join_placekey = pd.merge(orig_df, df_placekeys, left_on=query_id_col, right_on=\"query_id\", how='left')\n",
    "final_cols = list(df_placekeys.columns) + list(orig_df.columns)\n",
    "df_join_placekey = df_join_placekey[final_cols]\n",
    "df_join_placekey.head()"
   ]
  },
  {
   "cell_type": "code",
   "execution_count": 63,
   "metadata": {
    "colab": {
     "base_uri": "https://localhost:8080/",
     "height": 102
    },
    "colab_type": "code",
    "id": "YPJy0CTbZGzT",
    "outputId": "74d8ebfa-336c-4ea9-e547-2d30cbe126cd"
   },
   "outputs": [
    {
     "name": "stdout",
     "output_type": "stream",
     "text": [
      "Summary of results:\n",
      "total records: 545\n",
      "records with a placekey: 542 | 99.45%\n",
      "records missing a placekey: 3 | 0.55% [Missing placekeys may be due to exceeding API rate limit]\n",
      "records missing a query_id: 0 | 0.00% [Invalid query inputs or missing result due to exceeded API rate limit]\n"
     ]
    }
   ],
   "source": [
    "print(\"Summary of results:\")\n",
    "total_recs = df_join_placekey.shape[0]\n",
    "print(\"total records:\", total_recs)\n",
    "print(\"records with a placekey: {0} | {1:.2f}%\".format(df_join_placekey[~df_join_placekey.placekey.isnull()].shape[0],  df_join_placekey[~df_join_placekey.placekey.isnull()].shape[0]*100/total_recs))      \n",
    "print(\"records missing a placekey: {0} | {1:.2f}% [Missing placekeys may be due to exceeding API rate limit]\".format(df_join_placekey[df_join_placekey.placekey.isnull()].shape[0], df_join_placekey[df_join_placekey.placekey.isnull()].shape[0]*100/total_recs))\n",
    "print(\"records missing a query_id: {0} | {1:.2f}% [Invalid query inputs or missing result due to exceeded API rate limit]\".format(df_join_placekey[df_join_placekey.query_id.isnull()].shape[0], df_join_placekey[df_join_placekey.query_id.isnull()].shape[0]*100/total_recs))"
   ]
  },
  {
   "cell_type": "code",
   "execution_count": 64,
   "metadata": {
    "colab": {
     "base_uri": "https://localhost:8080/",
     "height": 411
    },
    "colab_type": "code",
    "id": "MrTECaDUbfPW",
    "outputId": "601e9196-c543-4048-df8c-3f751b31b3fe"
   },
   "outputs": [
    {
     "name": "stdout",
     "output_type": "stream",
     "text": [
      "wrote to:  /Users/ryansquire/Documents/datasets/CostcoWholesaleCorp-Sept-2020-CORE_POI/my_places_data_missing_placekeys.csv\n"
     ]
    },
    {
     "data": {
      "text/html": [
       "<div>\n",
       "<style scoped>\n",
       "    .dataframe tbody tr th:only-of-type {\n",
       "        vertical-align: middle;\n",
       "    }\n",
       "\n",
       "    .dataframe tbody tr th {\n",
       "        vertical-align: top;\n",
       "    }\n",
       "\n",
       "    .dataframe thead th {\n",
       "        text-align: right;\n",
       "    }\n",
       "</style>\n",
       "<table border=\"1\" class=\"dataframe\">\n",
       "  <thead>\n",
       "    <tr style=\"text-align: right;\">\n",
       "      <th></th>\n",
       "      <th>placekey</th>\n",
       "      <th>internal_place_id</th>\n",
       "      <th>store_name</th>\n",
       "      <th>lat</th>\n",
       "      <th>lon</th>\n",
       "      <th>full_address</th>\n",
       "      <th>city</th>\n",
       "      <th>state</th>\n",
       "      <th>zip_code</th>\n",
       "    </tr>\n",
       "  </thead>\n",
       "  <tbody>\n",
       "    <tr>\n",
       "      <td>0</td>\n",
       "      <td>zzw-224@5z6-3p2-v9f</td>\n",
       "      <td>sg:22a7df9c14c148bb969171d93e0950c3</td>\n",
       "      <td>Costco Wholesale Corp.</td>\n",
       "      <td>33.804504</td>\n",
       "      <td>-118.039593</td>\n",
       "      <td>5401 Katella Ave</td>\n",
       "      <td>Cypress</td>\n",
       "      <td>CA</td>\n",
       "      <td>90720</td>\n",
       "    </tr>\n",
       "    <tr>\n",
       "      <td>1</td>\n",
       "      <td>222-222@5xc-q57-xqz</td>\n",
       "      <td>sg:235e4067e4b04332b23e5a38448f6535</td>\n",
       "      <td>Costco Wholesale Corp.</td>\n",
       "      <td>NaN</td>\n",
       "      <td>NaN</td>\n",
       "      <td>25900 SW Heather Pl</td>\n",
       "      <td>Wilsonville</td>\n",
       "      <td>OR</td>\n",
       "      <td>NaN</td>\n",
       "    </tr>\n",
       "    <tr>\n",
       "      <td>2</td>\n",
       "      <td>223-223@5x4-4sg-vfz</td>\n",
       "      <td>sg:67591b2e593048a4bd4e09e027ba9caf</td>\n",
       "      <td>Costco Wholesale Corp.</td>\n",
       "      <td>47.445371</td>\n",
       "      <td>-122.248623</td>\n",
       "      <td>400 Costco Dr Ste 150</td>\n",
       "      <td>Tukwila</td>\n",
       "      <td>WA</td>\n",
       "      <td>98188</td>\n",
       "    </tr>\n",
       "    <tr>\n",
       "      <td>3</td>\n",
       "      <td>zzw-223@5pw-68m-4jv</td>\n",
       "      <td>sg:b568fdaf8fd64651ad1f5931e48440fe</td>\n",
       "      <td>Costco Wholesale Corp.</td>\n",
       "      <td>41.844777</td>\n",
       "      <td>-87.806473</td>\n",
       "      <td>2500 Harlem Ave</td>\n",
       "      <td>North Riverside</td>\n",
       "      <td>IL</td>\n",
       "      <td>60546</td>\n",
       "    </tr>\n",
       "    <tr>\n",
       "      <td>4</td>\n",
       "      <td>222-222@5pj-24r-7t9</td>\n",
       "      <td>sg:ccacecad3a01486a8873a05a1ad9db41</td>\n",
       "      <td>Costco Wholesale Corp.</td>\n",
       "      <td>38.508769</td>\n",
       "      <td>-90.338324</td>\n",
       "      <td>4200 Rusty Rd</td>\n",
       "      <td>Concord</td>\n",
       "      <td>MO</td>\n",
       "      <td>63128</td>\n",
       "    </tr>\n",
       "  </tbody>\n",
       "</table>\n",
       "</div>"
      ],
      "text/plain": [
       "              placekey                    internal_place_id  \\\n",
       "0  zzw-224@5z6-3p2-v9f  sg:22a7df9c14c148bb969171d93e0950c3   \n",
       "1  222-222@5xc-q57-xqz  sg:235e4067e4b04332b23e5a38448f6535   \n",
       "2  223-223@5x4-4sg-vfz  sg:67591b2e593048a4bd4e09e027ba9caf   \n",
       "3  zzw-223@5pw-68m-4jv  sg:b568fdaf8fd64651ad1f5931e48440fe   \n",
       "4  222-222@5pj-24r-7t9  sg:ccacecad3a01486a8873a05a1ad9db41   \n",
       "\n",
       "               store_name        lat         lon           full_address  \\\n",
       "0  Costco Wholesale Corp.  33.804504 -118.039593       5401 Katella Ave   \n",
       "1  Costco Wholesale Corp.        NaN         NaN    25900 SW Heather Pl   \n",
       "2  Costco Wholesale Corp.  47.445371 -122.248623  400 Costco Dr Ste 150   \n",
       "3  Costco Wholesale Corp.  41.844777  -87.806473        2500 Harlem Ave   \n",
       "4  Costco Wholesale Corp.  38.508769  -90.338324          4200 Rusty Rd   \n",
       "\n",
       "              city state zip_code  \n",
       "0          Cypress    CA    90720  \n",
       "1      Wilsonville    OR      NaN  \n",
       "2          Tukwila    WA    98188  \n",
       "3  North Riverside    IL    60546  \n",
       "4          Concord    MO    63128  "
      ]
     },
     "execution_count": 64,
     "metadata": {},
     "output_type": "execute_result"
    }
   ],
   "source": [
    "output_cols = ['placekey'] + list(orig_df.columns)\n",
    "output_df = df_join_placekey[output_cols]\n",
    "\n",
    "write_path = data_path + data_filename + \"_placekeys\" + file_suffix\n",
    "output_df.to_csv(write_path, index=False)\n",
    "print(\"wrote to: \", write_path)\n",
    "output_df.head(5)"
   ]
  },
  {
   "cell_type": "markdown",
   "metadata": {
    "colab_type": "text",
    "id": "FM4ztONQksw7"
   },
   "source": [
    "## Success!\n",
    "\n",
    "#### Have questions or ideas? \n",
    " * Join thousands of geospatial data scientists in the [Placekey Slack Community](https://www.placekey.io/community) to get help from Placekey experts and to share your ideas.\n",
    " * Follow [Placekey on Github](https://github.com/Placekey).\n",
    " * [@placekeyio](https://twitter.com/placekeyio?lang=en).\n",
    "\n",
    "<br>\n",
    "<br>\n",
    "<br>\n",
    "<br>\n",
    "\n",
    "<a href=\"https://placekey.io/\">\n",
    "         <img src=\"https://assets.website-files.com/5f08ccbb93b299154d34ef7f/5f1e9c2bdd643e0d63967ca9_logo-placekey-black.svg\" alt=\"Placekey\" ALIGN=\"left\" width=300>\n",
    "      </a>\n",
    "\n",
    "  "
   ]
  }
 ],
 "metadata": {
  "colab": {
   "collapsed_sections": [],
   "name": "Adding Placekey to your POI dataset using python and the Placekey API.ipynb",
   "provenance": [],
   "toc_visible": true
  },
  "kernelspec": {
   "display_name": "Python 3",
   "language": "python",
   "name": "python3"
  },
  "language_info": {
   "codemirror_mode": {
    "name": "ipython",
    "version": 3
   },
   "file_extension": ".py",
   "mimetype": "text/x-python",
   "name": "python",
   "nbconvert_exporter": "python",
   "pygments_lexer": "ipython3",
   "version": "3.7.4"
  }
 },
 "nbformat": 4,
 "nbformat_minor": 1
}
