{
 "cells": [
  {
   "cell_type": "markdown",
   "metadata": {
    "colab_type": "text",
    "id": "tsGfCOVrbtyc"
   },
   "source": [
    "<a href=\"https://placekey.io/\">\n",
    "         <img src=\"https://assets.website-files.com/5f08ccbb93b299154d34ef7f/5f1e9c2bdd643e0d63967ca9_logo-placekey-black.svg\" alt=\"Placekey\" ALIGN=\"left\" width=600>\n",
    "      </a>\n",
    "\n"
   ]
  },
  {
   "cell_type": "markdown",
   "metadata": {
    "colab_type": "text",
    "id": "_5lvg1M6cB79"
   },
   "source": [
    "# Quick Start Guide For Batch Process [Placekey](https://placekey.io/) Matching With Python\n",
    "--------------\n",
    "**[Ryan Fox Squire](https://www.linkedin.com/in/ryanfoxsquire/) | Senior Data Scientist, [SafeGraph](https://safegraph.com/)**\n",
    "\n",
    " <img src=\"https://global-uploads.webflow.com/5baafc2653bd67278f206724/5be267a03f7813daf821b31e_safegraph-logo-hidpi%403x-p-500.png\" alt=\"SafeGraph\" ALIGN=\"center\" width=100>\n",
    "\n",
    "\n",
    "Sep 2020\n",
    "\n",
    "--------------\n",
    "[*Open this notebook in Google CoLab*](https://colab.research.google.com/github/Placekey/placekey-notebooks/blob/main/notebooks/Adding_Placekey_to_your_POI_dataset_using_python_and_the_Placekey_API.ipynb)\n",
    "\n",
    "[*View this notebook on Github*](https://github.com/Placekey/placekey-notebooks/blob/main/notebooks/Adding_Placekey_to_your_POI_dataset_using_python_and_the_Placekey_API.ipynb)\n",
    "\n"
   ]
  },
  {
   "cell_type": "markdown",
   "metadata": {
    "colab_type": "text",
    "id": "JgQ1Hq1WlIiJ"
   },
   "source": [
    "## Summary\n",
    "* [Placekey](https://placekey.io/) is geospatially-aware universal place identifier useful for joining together disparate geospatial, address, and point-of-interest datasets. \n",
    "* Placekey is an open and free to use.\n",
    "* Here we demonstrate how to obtain Placekeys for point-of-interest or address-based data using the Placekey API and python.\n"
   ]
  },
  {
   "cell_type": "markdown",
   "metadata": {
    "colab_type": "text",
    "id": "AqBzMY7hdRJF"
   },
   "source": [
    "#### What do you need? \n",
    "* Your Placekey API key --> [Register Here](https://dev.placekey.io/default/register) \n",
    "* Your dataset containing points-of-interest, addresses, and/or geospatial coordinates for which you want to assign a universal place identifier (placekey)\n",
    "\n",
    "\n",
    "#### Have questions or ideas? \n",
    " * Join thousands of geospatial data scientists in the [Placekey Slack Community](https://www.placekey.io/community) to get help and   share ideas.\n",
    " * Follow [Placekey on Github](https://github.com/Placekey)\n",
    " * Tweet [@placekeyio](https://twitter.com/placekeyio?lang=en)"
   ]
  },
  {
   "cell_type": "code",
   "execution_count": 4,
   "metadata": {
    "colab": {},
    "colab_type": "code",
    "id": "5my5K8ATRhIY"
   },
   "outputs": [],
   "source": [
    "import pandas as pd\n",
    "import numpy as np\n",
    "import json\n",
    "\n"
   ]
  },
  {
   "cell_type": "markdown",
   "metadata": {
    "colab_type": "text",
    "id": "2F_AG_4wfjoF"
   },
   "source": [
    "## Set Your API Key\n",
    "\n",
    "Get your Placekey API instantly here: [Register for Placekey API](https://dev.placekey.io/default/register) \n"
   ]
  },
  {
   "cell_type": "code",
   "execution_count": 5,
   "metadata": {
    "colab": {},
    "colab_type": "code",
    "id": "n1KoQ7KHdCTt"
   },
   "outputs": [],
   "source": [
    "api_key = \"ENTER YOUR API KEY HERE\" # fill this in with your personal API key (do not share publicly)\n",
    "\n",
    "api_key = pd.read_csv(\"/Users/ryansquire/Documents/datasets/demo_keys/squire_placekey_api_key\").columns[0] # for original author debugging"
   ]
  },
  {
   "cell_type": "markdown",
   "metadata": {
    "colab_type": "text",
    "id": "6o_lrzQI8654"
   },
   "source": [
    "## Read in Data\n",
    "* Define `data_path` and `data_filename`\n",
    "* Mind your datatypes (do not drop leading zeros for postal code)\n"
   ]
  },
  {
   "cell_type": "code",
   "execution_count": 12,
   "metadata": {
    "colab": {
     "base_uri": "https://localhost:8080/",
     "height": 34
    },
    "colab_type": "code",
    "id": "Njh3AwQERxpW",
    "outputId": "42cd7161-4365-47dc-b463-45364e2e3b34"
   },
   "outputs": [
    {
     "name": "stdout",
     "output_type": "stream",
     "text": [
      "/Users/ryansquire/Documents/datasets/CostcoWholesaleCorp-Sept-2020-CORE_POI/my_places_data_missing.csv\n"
     ]
    }
   ],
   "source": [
    "data_path = \"/Users/ryansquire/Documents/datasets/CostcoWholesaleCorp-Sept-2020-CORE_POI/\" \n",
    "data_filename = \"my_places_data_missing\"\n",
    "file_suffix = \".csv\"\n",
    "full_path = data_path + data_filename + file_suffix\n",
    "print(full_path)"
   ]
  },
  {
   "cell_type": "code",
   "execution_count": 13,
   "metadata": {
    "colab": {
     "base_uri": "https://localhost:8080/",
     "height": 306
    },
    "colab_type": "code",
    "id": "_5BHtX-hTeTN",
    "outputId": "a2a3a1a6-0f68-499a-efe8-893edbb62638"
   },
   "outputs": [
    {
     "name": "stdout",
     "output_type": "stream",
     "text": [
      "(545, 8)\n"
     ]
    },
    {
     "data": {
      "text/html": [
       "<div>\n",
       "<style scoped>\n",
       "    .dataframe tbody tr th:only-of-type {\n",
       "        vertical-align: middle;\n",
       "    }\n",
       "\n",
       "    .dataframe tbody tr th {\n",
       "        vertical-align: top;\n",
       "    }\n",
       "\n",
       "    .dataframe thead th {\n",
       "        text-align: right;\n",
       "    }\n",
       "</style>\n",
       "<table border=\"1\" class=\"dataframe\">\n",
       "  <thead>\n",
       "    <tr style=\"text-align: right;\">\n",
       "      <th></th>\n",
       "      <th>internal_place_id</th>\n",
       "      <th>store_name</th>\n",
       "      <th>lat</th>\n",
       "      <th>lon</th>\n",
       "      <th>full_address</th>\n",
       "      <th>city</th>\n",
       "      <th>state</th>\n",
       "      <th>zip_code</th>\n",
       "    </tr>\n",
       "  </thead>\n",
       "  <tbody>\n",
       "    <tr>\n",
       "      <td>0</td>\n",
       "      <td>sg:22a7df9c14c148bb969171d93e0950c3</td>\n",
       "      <td>Costco Wholesale Corp.</td>\n",
       "      <td>33.804504</td>\n",
       "      <td>-118.039593</td>\n",
       "      <td>5401 Katella Ave</td>\n",
       "      <td>Cypress</td>\n",
       "      <td>CA</td>\n",
       "      <td>90720</td>\n",
       "    </tr>\n",
       "    <tr>\n",
       "      <td>1</td>\n",
       "      <td>sg:235e4067e4b04332b23e5a38448f6535</td>\n",
       "      <td>Costco Wholesale Corp.</td>\n",
       "      <td>NaN</td>\n",
       "      <td>NaN</td>\n",
       "      <td>25900 SW Heather Pl</td>\n",
       "      <td>Wilsonville</td>\n",
       "      <td>OR</td>\n",
       "      <td>NaN</td>\n",
       "    </tr>\n",
       "    <tr>\n",
       "      <td>2</td>\n",
       "      <td>sg:67591b2e593048a4bd4e09e027ba9caf</td>\n",
       "      <td>Costco Wholesale Corp.</td>\n",
       "      <td>47.445371</td>\n",
       "      <td>-122.248623</td>\n",
       "      <td>400 Costco Dr Ste 150</td>\n",
       "      <td>Tukwila</td>\n",
       "      <td>WA</td>\n",
       "      <td>98188</td>\n",
       "    </tr>\n",
       "    <tr>\n",
       "      <td>3</td>\n",
       "      <td>sg:b568fdaf8fd64651ad1f5931e48440fe</td>\n",
       "      <td>Costco Wholesale Corp.</td>\n",
       "      <td>41.844777</td>\n",
       "      <td>-87.806473</td>\n",
       "      <td>2500 Harlem Ave</td>\n",
       "      <td>North Riverside</td>\n",
       "      <td>IL</td>\n",
       "      <td>60546</td>\n",
       "    </tr>\n",
       "    <tr>\n",
       "      <td>4</td>\n",
       "      <td>sg:ccacecad3a01486a8873a05a1ad9db41</td>\n",
       "      <td>Costco Wholesale Corp.</td>\n",
       "      <td>38.508769</td>\n",
       "      <td>-90.338324</td>\n",
       "      <td>4200 Rusty Rd</td>\n",
       "      <td>Concord</td>\n",
       "      <td>MO</td>\n",
       "      <td>63128</td>\n",
       "    </tr>\n",
       "  </tbody>\n",
       "</table>\n",
       "</div>"
      ],
      "text/plain": [
       "                     internal_place_id              store_name        lat  \\\n",
       "0  sg:22a7df9c14c148bb969171d93e0950c3  Costco Wholesale Corp.  33.804504   \n",
       "1  sg:235e4067e4b04332b23e5a38448f6535  Costco Wholesale Corp.        NaN   \n",
       "2  sg:67591b2e593048a4bd4e09e027ba9caf  Costco Wholesale Corp.  47.445371   \n",
       "3  sg:b568fdaf8fd64651ad1f5931e48440fe  Costco Wholesale Corp.  41.844777   \n",
       "4  sg:ccacecad3a01486a8873a05a1ad9db41  Costco Wholesale Corp.  38.508769   \n",
       "\n",
       "          lon           full_address             city state zip_code  \n",
       "0 -118.039593       5401 Katella Ave          Cypress    CA    90720  \n",
       "1         NaN    25900 SW Heather Pl      Wilsonville    OR      NaN  \n",
       "2 -122.248623  400 Costco Dr Ste 150          Tukwila    WA    98188  \n",
       "3  -87.806473        2500 Harlem Ave  North Riverside    IL    60546  \n",
       "4  -90.338324          4200 Rusty Rd          Concord    MO    63128  "
      ]
     },
     "execution_count": 13,
     "metadata": {},
     "output_type": "execute_result"
    }
   ],
   "source": [
    "my_dtypes = {'internal_place_id':str, \n",
    "             'store_name' : str,\n",
    "             'street_address':str, \n",
    "             'city': str, \n",
    "             'state': str, \n",
    "             'zip_code': str, # This is important so that you do not drop leading zeros\n",
    "             'iso_country_code':str,\n",
    "             'lat' : float,\n",
    "             'lon' : float}\n",
    "orig_df = pd.read_csv(full_path, dtype=my_dtypes)\n",
    "print(orig_df.shape)\n",
    "orig_df.head()"
   ]
  },
  {
   "cell_type": "markdown",
   "metadata": {
    "colab_type": "text",
    "id": "8n4rtjvTUH4g"
   },
   "source": [
    "## Prep Data Column Names for Placekey API\n",
    "\n",
    "https://docs.placekey.io/\n",
    "\n",
    "Make sure to list every column useful for the Placekey API in `column_map` even if you do not need to rename it (see `city` in the example)."
   ]
  },
  {
   "cell_type": "code",
   "execution_count": 14,
   "metadata": {
    "colab": {
     "base_uri": "https://localhost:8080/",
     "height": 309
    },
    "colab_type": "code",
    "id": "9PMqF7EeUG_a",
    "outputId": "6fd8ce19-1d58-404a-b974-ffeee5df49b3"
   },
   "outputs": [
    {
     "data": {
      "text/html": [
       "<div>\n",
       "<style scoped>\n",
       "    .dataframe tbody tr th:only-of-type {\n",
       "        vertical-align: middle;\n",
       "    }\n",
       "\n",
       "    .dataframe tbody tr th {\n",
       "        vertical-align: top;\n",
       "    }\n",
       "\n",
       "    .dataframe thead th {\n",
       "        text-align: right;\n",
       "    }\n",
       "</style>\n",
       "<table border=\"1\" class=\"dataframe\">\n",
       "  <thead>\n",
       "    <tr style=\"text-align: right;\">\n",
       "      <th></th>\n",
       "      <th>query_id</th>\n",
       "      <th>location_name</th>\n",
       "      <th>street_address</th>\n",
       "      <th>city</th>\n",
       "      <th>region</th>\n",
       "      <th>postal_code</th>\n",
       "      <th>latitude</th>\n",
       "      <th>longitude</th>\n",
       "      <th>iso_country_code</th>\n",
       "    </tr>\n",
       "  </thead>\n",
       "  <tbody>\n",
       "    <tr>\n",
       "      <td>0</td>\n",
       "      <td>sg:22a7df9c14c148bb969171d93e0950c3</td>\n",
       "      <td>Costco Wholesale Corp.</td>\n",
       "      <td>5401 Katella Ave</td>\n",
       "      <td>Cypress</td>\n",
       "      <td>CA</td>\n",
       "      <td>90720</td>\n",
       "      <td>33.804504</td>\n",
       "      <td>-118.039593</td>\n",
       "      <td>US</td>\n",
       "    </tr>\n",
       "    <tr>\n",
       "      <td>1</td>\n",
       "      <td>sg:235e4067e4b04332b23e5a38448f6535</td>\n",
       "      <td>Costco Wholesale Corp.</td>\n",
       "      <td>25900 SW Heather Pl</td>\n",
       "      <td>Wilsonville</td>\n",
       "      <td>OR</td>\n",
       "      <td>NaN</td>\n",
       "      <td>NaN</td>\n",
       "      <td>NaN</td>\n",
       "      <td>US</td>\n",
       "    </tr>\n",
       "    <tr>\n",
       "      <td>2</td>\n",
       "      <td>sg:67591b2e593048a4bd4e09e027ba9caf</td>\n",
       "      <td>Costco Wholesale Corp.</td>\n",
       "      <td>400 Costco Dr Ste 150</td>\n",
       "      <td>Tukwila</td>\n",
       "      <td>WA</td>\n",
       "      <td>98188</td>\n",
       "      <td>47.445371</td>\n",
       "      <td>-122.248623</td>\n",
       "      <td>US</td>\n",
       "    </tr>\n",
       "    <tr>\n",
       "      <td>3</td>\n",
       "      <td>sg:b568fdaf8fd64651ad1f5931e48440fe</td>\n",
       "      <td>Costco Wholesale Corp.</td>\n",
       "      <td>2500 Harlem Ave</td>\n",
       "      <td>North Riverside</td>\n",
       "      <td>IL</td>\n",
       "      <td>60546</td>\n",
       "      <td>41.844777</td>\n",
       "      <td>-87.806473</td>\n",
       "      <td>US</td>\n",
       "    </tr>\n",
       "    <tr>\n",
       "      <td>4</td>\n",
       "      <td>sg:ccacecad3a01486a8873a05a1ad9db41</td>\n",
       "      <td>Costco Wholesale Corp.</td>\n",
       "      <td>4200 Rusty Rd</td>\n",
       "      <td>Concord</td>\n",
       "      <td>MO</td>\n",
       "      <td>63128</td>\n",
       "      <td>38.508769</td>\n",
       "      <td>-90.338324</td>\n",
       "      <td>US</td>\n",
       "    </tr>\n",
       "  </tbody>\n",
       "</table>\n",
       "</div>"
      ],
      "text/plain": [
       "                              query_id           location_name  \\\n",
       "0  sg:22a7df9c14c148bb969171d93e0950c3  Costco Wholesale Corp.   \n",
       "1  sg:235e4067e4b04332b23e5a38448f6535  Costco Wholesale Corp.   \n",
       "2  sg:67591b2e593048a4bd4e09e027ba9caf  Costco Wholesale Corp.   \n",
       "3  sg:b568fdaf8fd64651ad1f5931e48440fe  Costco Wholesale Corp.   \n",
       "4  sg:ccacecad3a01486a8873a05a1ad9db41  Costco Wholesale Corp.   \n",
       "\n",
       "          street_address             city region postal_code   latitude  \\\n",
       "0       5401 Katella Ave          Cypress     CA       90720  33.804504   \n",
       "1    25900 SW Heather Pl      Wilsonville     OR         NaN        NaN   \n",
       "2  400 Costco Dr Ste 150          Tukwila     WA       98188  47.445371   \n",
       "3        2500 Harlem Ave  North Riverside     IL       60546  41.844777   \n",
       "4          4200 Rusty Rd          Concord     MO       63128  38.508769   \n",
       "\n",
       "    longitude iso_country_code  \n",
       "0 -118.039593               US  \n",
       "1         NaN               US  \n",
       "2 -122.248623               US  \n",
       "3  -87.806473               US  \n",
       "4  -90.338324               US  "
      ]
     },
     "execution_count": 14,
     "metadata": {},
     "output_type": "execute_result"
    }
   ],
   "source": [
    "query_id_col = \"internal_place_id\" # this column in your data should be unique for every row\n",
    "column_map = {query_id_col: \"query_id\",\n",
    "              \"store_name\" : \"location_name\",\n",
    "              \"full_address\" : \"street_address\",\n",
    "              \"city\": \"city\",\n",
    "              \"state\": \"region\",\n",
    "              \"zip_code\": \"postal_code\",\n",
    "              \"lat\": \"latitude\",\n",
    "              \"lon\": \"longitude\"\n",
    "             }\n",
    "\n",
    "df_for_api = orig_df.rename(columns=column_map)\n",
    "cols = list(column_map.values())\n",
    "df_for_api = df_for_api[cols]\n",
    "\n",
    "# add missing hard-coded columns\n",
    "df_for_api['iso_country_code'] = 'US'\n",
    "df_for_api.head()"
   ]
  },
  {
   "cell_type": "markdown",
   "metadata": {
    "colab_type": "text",
    "id": "6BoQgCrkUArE"
   },
   "source": [
    "## Data Cleaning Best Practices\n",
    "\n",
    "Gotcha's to check for:\n",
    "* \"\"\n",
    "* \" \"\n",
    "* \"null\"/\"Null\"\n",
    "* \"None\"\n",
    "* Missing / Nan\n",
    "* Anything else weird in your data? \n",
    "* Convert all of these to `np.nan` so that they are handled correctly by `json` library"
   ]
  },
  {
   "cell_type": "code",
   "execution_count": 15,
   "metadata": {
    "colab": {
     "base_uri": "https://localhost:8080/",
     "height": 360
    },
    "colab_type": "code",
    "id": "XVkHkZQFT_Fw",
    "outputId": "cbd14abb-432c-4186-e946-177570c64253"
   },
   "outputs": [
    {
     "name": "stdout",
     "output_type": "stream",
     "text": [
      "FYI data missing from at least 1 column in the following number of rows:\n",
      "18\n",
      "Some examples of rows with missing data\n"
     ]
    },
    {
     "data": {
      "text/html": [
       "<div>\n",
       "<style scoped>\n",
       "    .dataframe tbody tr th:only-of-type {\n",
       "        vertical-align: middle;\n",
       "    }\n",
       "\n",
       "    .dataframe tbody tr th {\n",
       "        vertical-align: top;\n",
       "    }\n",
       "\n",
       "    .dataframe thead th {\n",
       "        text-align: right;\n",
       "    }\n",
       "</style>\n",
       "<table border=\"1\" class=\"dataframe\">\n",
       "  <thead>\n",
       "    <tr style=\"text-align: right;\">\n",
       "      <th></th>\n",
       "      <th>query_id</th>\n",
       "      <th>location_name</th>\n",
       "      <th>street_address</th>\n",
       "      <th>city</th>\n",
       "      <th>region</th>\n",
       "      <th>postal_code</th>\n",
       "      <th>latitude</th>\n",
       "      <th>longitude</th>\n",
       "      <th>iso_country_code</th>\n",
       "    </tr>\n",
       "  </thead>\n",
       "  <tbody>\n",
       "    <tr>\n",
       "      <td>1</td>\n",
       "      <td>sg:235e4067e4b04332b23e5a38448f6535</td>\n",
       "      <td>Costco Wholesale Corp.</td>\n",
       "      <td>25900 SW Heather Pl</td>\n",
       "      <td>Wilsonville</td>\n",
       "      <td>OR</td>\n",
       "      <td>NaN</td>\n",
       "      <td>NaN</td>\n",
       "      <td>NaN</td>\n",
       "      <td>US</td>\n",
       "    </tr>\n",
       "    <tr>\n",
       "      <td>5</td>\n",
       "      <td>sg:03cb6aeb0e024bd6bf71626e30b201a0</td>\n",
       "      <td>Costco Wholesale Corp.</td>\n",
       "      <td>5901 Redwood Dr</td>\n",
       "      <td>Rohnert Park</td>\n",
       "      <td>CA</td>\n",
       "      <td>94928</td>\n",
       "      <td>NaN</td>\n",
       "      <td>NaN</td>\n",
       "      <td>US</td>\n",
       "    </tr>\n",
       "    <tr>\n",
       "      <td>10</td>\n",
       "      <td>sg:377f1c2a3c3e4b0885b8addcb4f70997</td>\n",
       "      <td>Costco Wholesale Corp.</td>\n",
       "      <td>1501 W Kelly Ave</td>\n",
       "      <td>Pharr</td>\n",
       "      <td>TX</td>\n",
       "      <td>78577</td>\n",
       "      <td>NaN</td>\n",
       "      <td>NaN</td>\n",
       "      <td>US</td>\n",
       "    </tr>\n",
       "    <tr>\n",
       "      <td>12</td>\n",
       "      <td>sg:98ccf43c4a934f30a943a9564ce4cf0e</td>\n",
       "      <td>Costco Wholesale Corp.</td>\n",
       "      <td>24008 Snohomish Woodinville Rd</td>\n",
       "      <td>Maltby</td>\n",
       "      <td>WA</td>\n",
       "      <td>NaN</td>\n",
       "      <td>47.779382</td>\n",
       "      <td>-122.148732</td>\n",
       "      <td>US</td>\n",
       "    </tr>\n",
       "    <tr>\n",
       "      <td>16</td>\n",
       "      <td>sg:be95a4498ee340db9b5eeb3130124eab</td>\n",
       "      <td>Costco Wholesale Corp.</td>\n",
       "      <td>1415 N Arizona Ave</td>\n",
       "      <td>Gilbert</td>\n",
       "      <td>AZ</td>\n",
       "      <td>NaN</td>\n",
       "      <td>33.376033</td>\n",
       "      <td>-111.840291</td>\n",
       "      <td>US</td>\n",
       "    </tr>\n",
       "  </tbody>\n",
       "</table>\n",
       "</div>"
      ],
      "text/plain": [
       "                               query_id           location_name  \\\n",
       "1   sg:235e4067e4b04332b23e5a38448f6535  Costco Wholesale Corp.   \n",
       "5   sg:03cb6aeb0e024bd6bf71626e30b201a0  Costco Wholesale Corp.   \n",
       "10  sg:377f1c2a3c3e4b0885b8addcb4f70997  Costco Wholesale Corp.   \n",
       "12  sg:98ccf43c4a934f30a943a9564ce4cf0e  Costco Wholesale Corp.   \n",
       "16  sg:be95a4498ee340db9b5eeb3130124eab  Costco Wholesale Corp.   \n",
       "\n",
       "                    street_address          city region postal_code  \\\n",
       "1              25900 SW Heather Pl   Wilsonville     OR         NaN   \n",
       "5                  5901 Redwood Dr  Rohnert Park     CA       94928   \n",
       "10                1501 W Kelly Ave         Pharr     TX       78577   \n",
       "12  24008 Snohomish Woodinville Rd        Maltby     WA         NaN   \n",
       "16              1415 N Arizona Ave       Gilbert     AZ         NaN   \n",
       "\n",
       "     latitude   longitude iso_country_code  \n",
       "1         NaN         NaN               US  \n",
       "5         NaN         NaN               US  \n",
       "10        NaN         NaN               US  \n",
       "12  47.779382 -122.148732               US  \n",
       "16  33.376033 -111.840291               US  "
      ]
     },
     "execution_count": 15,
     "metadata": {},
     "output_type": "execute_result"
    }
   ],
   "source": [
    "df_clean = df_for_api.copy()\n",
    "possible_bad_values = [\"\", \" \", \"null\", \"Null\", \"None\", \"nan\", \"Nan\"] # Any other dirty data you need to clean up? \n",
    "for bad_value in possible_bad_values:\n",
    "  df_clean = df_clean.replace(to_replace=bad_value, value=np.nan)\n",
    "\n",
    "print(\"FYI data missing from at least 1 column in the following number of rows:\")\n",
    "print(df_clean.shape[0] - df_clean.dropna().shape[0])\n",
    "print(\"Some examples of rows with missing data\")\n",
    "df_clean[df_clean.isnull().any(axis=1)].head()"
   ]
  },
  {
   "cell_type": "markdown",
   "metadata": {
    "colab_type": "text",
    "id": "CUEymlw-Z6eX"
   },
   "source": [
    "In this example example dataset some rows are missing `postal_code`, `latitude`/`longitude`, and even the `street_address`. \n",
    "\n",
    "The Placekey API is flexible and powerful and can often handle incomplete data. We will send the API the fields we have and see what comes back. "
   ]
  },
  {
   "cell_type": "markdown",
   "metadata": {
    "colab_type": "text",
    "id": "6b2HtzGMYHpL"
   },
   "source": [
    "### Prepare Data Structure For Batch API \n",
    "\n",
    "https://docs.placekey.io/#5778b1b7-ce57-4cbf-a74e-bf4e2ce5a9ec\n",
    "\n",
    "Advanced: If you want to include options like [`strict_address_matching`](https://docs.placekey.io/#77042b13-ad19-423b-b117-c1ec819ae2f9) for more conservative results, edit the function `prepare_batches_for_API`. "
   ]
  },
  {
   "cell_type": "code",
   "execution_count": 55,
   "metadata": {
    "colab": {},
    "colab_type": "code",
    "id": "KW03NUTtbeH_"
   },
   "outputs": [],
   "source": [
    "import http.client\n",
    "import time\n",
    "\n",
    "headers = {\n",
    "    'accept': \"application/json\",\n",
    "    'apikey': api_key,\n",
    "    'content-type': \"application/json\"\n",
    "    }\n",
    "\n",
    "def prepare_batches_for_API(all_batches):\n",
    "    batch_payloads = []\n",
    "    for batch in all_batches:\n",
    "        payload = json.dumps({\"queries\":batch, \n",
    "                              \"options\": {\"strict_address_match\": False}}) #see https://docs.placekey.io/#77042b13-ad19-423b-b117-c1ec819ae2f9\n",
    "        batch_payloads.append(payload)\n",
    "    return batch_payloads\n",
    "\n",
    "def getPlacekeys(batch_payloads, debug=False, autoRetry=True, verbose=True):\n",
    "    conn = http.client.HTTPSConnection(\"api.placekey.io\") \n",
    "    responses = []\n",
    "    for payload in batch_payloads:\n",
    "        while True:\n",
    "          conn.request(\"POST\", \"/v1/placekeys\", payload, headers)\n",
    "          res = conn.getresponse()\n",
    "          data = res.read()\n",
    "          if(res.status==429):\n",
    "            if(autoRetry):\n",
    "              if(verbose): print(\"RATE LIMIT SURPASSED! WAITING 5 SECONDS THEN RETRYING.\")\n",
    "              time.sleep(5) # wait 5 seconds and try again\n",
    "              continue\n",
    "            else:\n",
    "              if(verbose): print(\"RATE LIMIT SURPASSED! autoRetrty=False, expect missing placekeys\")\n",
    "              break\n",
    "          else:\n",
    "            break\n",
    "        if(debug): print(\"data\", data, \"\\n\", \"status\", res.status, \"\\n\", \"headers\", res.getheaders())\n",
    "        responses.append(json.loads(data))\n",
    "    return responses"
   ]
  },
  {
   "cell_type": "code",
   "execution_count": 30,
   "metadata": {
    "colab": {
     "base_uri": "https://localhost:8080/",
     "height": 187
    },
    "colab_type": "code",
    "id": "oGw5-nU0T_WG",
    "outputId": "1ab50588-a103-453c-a9a8-62e0a7558d72"
   },
   "outputs": [
    {
     "name": "stdout",
     "output_type": "stream",
     "text": [
      "number of records:  545\n",
      "example record:\n"
     ]
    },
    {
     "data": {
      "text/plain": [
       "{'query_id': 'sg:22a7df9c14c148bb969171d93e0950c3',\n",
       " 'location_name': 'Costco Wholesale Corp.',\n",
       " 'street_address': '5401 Katella Ave',\n",
       " 'city': 'Cypress',\n",
       " 'region': 'CA',\n",
       " 'postal_code': '90720',\n",
       " 'latitude': 33.804504,\n",
       " 'longitude': -118.039593,\n",
       " 'iso_country_code': 'US'}"
      ]
     },
     "execution_count": 30,
     "metadata": {},
     "output_type": "execute_result"
    }
   ],
   "source": [
    "data_jsoned = json.loads(df_clean.to_json(orient=\"records\"))\n",
    "print(\"number of records: \", len(data_jsoned))\n",
    "print(\"example record:\")\n",
    "data_jsoned[0]"
   ]
  },
  {
   "cell_type": "code",
   "execution_count": 28,
   "metadata": {
    "colab": {
     "base_uri": "https://localhost:8080/",
     "height": 205
    },
    "colab_type": "code",
    "id": "GWqZrLUMT_cH",
    "outputId": "9c6161c5-8ffd-4dc2-c7f0-e87eaded752a"
   },
   "outputs": [
    {
     "name": "stdout",
     "output_type": "stream",
     "text": [
      "Number of batches: 11 \n",
      "\n",
      "example batch:\n"
     ]
    },
    {
     "data": {
      "text/plain": [
       "'{\"queries\": [{\"query_id\": \"sg:22a7df9c14c148bb969171d93e0950c3\", \"location_name\": \"Costco Wholesale Corp.\", \"street_address\": \"5401 Katella Ave\", \"city\": \"Cypress\", \"region\": \"CA\", \"postal_code\": \"90720\", \"latitude\": 33.804504, \"longitude\": -118.039593, \"iso_country_code\": \"US\"}, {\"query_id\": \"sg:235e4067e4b04332b23e5a38448f6535\", \"location_name\": \"Costco Wholesale Corp.\", \"street_address\": \"25900 SW Heather Pl\", \"city\": \"Wilsonville\", \"region\": \"OR\", \"postal_code\": null, \"latitude\": null, \"longitude\": null, \"iso_country_code\": \"US\"}, {\"query_id\": \"sg:67591b2e593048a4bd4e09e027ba9caf\", \"location_name\": \"Costco Wholesale Corp.\", \"street_address\": \"400 Costco Dr Ste 150\", \"city\": \"Tukwila\", \"region\": \"WA\", \"postal_code\": \"98188\", \"latitude\": 47.445371, \"longitude\": -122.248623, \"iso_country_code\": \"US\"}, {\"query_id\": \"sg:b568fdaf8fd64651ad1f5931e48440fe\", \"location_name\": \"Costco Wholesale Corp.\", \"street_address\": \"2500 Harlem Ave\", \"city\": \"North Riverside\", \"region\": \"IL\", \"postal_code\": \"60546\", \"latitude\": 41.844777, \"longitude\": -87.806473, \"iso_country_code\": \"US\"}, {\"query_id\": \"sg:ccacecad3a01486a8873a05a1ad9db41\", \"location_name\": \"Costco Wholesale Corp.\", \"street_address\": \"4200 Rusty Rd\", \"city\": \"Concord\", \"region\": \"MO\", \"postal_code\": \"63128\", \"latitude\": 38.508769, \"longitude\": -90.338324, \"iso_country_code\": \"US\"}, {\"query_id\": \"sg:03cb6aeb0e024bd6bf71626e30b201a0\", \"location_name\": \"Costco Wholesale Corp.\", \"street_address\": \"5901 Redwood Dr\", \"city\": \"Rohnert Park\", \"region\": \"CA\", \"postal_code\": \"94928\", \"latitude\": null, \"longitude\": null, \"iso_country_code\": \"US\"}, {\"query_id\": \"sg:3381832b1ba14db09a140e9f13bb386a\", \"location_name\": \"Costco Wholesale Corp.\", \"street_address\": \"1010 Hawthorne Ave SE\", \"city\": \"Salem\", \"region\": \"OR\", \"postal_code\": \"97301\", \"latitude\": 44.91945, \"longitude\": -122.99539, \"iso_country_code\": \"US\"}, {\"query_id\": \"sg:2f347f46f0a34017a061bdf8d7430d01\", \"location_name\": \"Costco Wholesale Corp.\", \"street_address\": \"198 N 1200 E\", \"city\": \"Lehi\", \"region\": \"UT\", \"postal_code\": \"84043\", \"latitude\": 40.389893, \"longitude\": -111.823239, \"iso_country_code\": \"US\"}, {\"query_id\": \"sg:20d033ca8fe44c31a02d7325ce069bd3\", \"location_name\": \"Costco Wholesale Corp.\", \"street_address\": \"22330 Hathaway Ave\", \"city\": \"Hayward\", \"region\": \"CA\", \"postal_code\": \"94541\", \"latitude\": 37.6674, \"longitude\": -122.102287, \"iso_country_code\": \"US\"}, {\"query_id\": \"sg:57f9bfb8ae45495d97f5af97f228d143\", \"location_name\": \"Costco Wholesale Corp.\", \"street_address\": \"1409 Golden Gate Blvd\", \"city\": \"Mayfield Heights\", \"region\": \"OH\", \"postal_code\": \"44124\", \"latitude\": 41.524, \"longitude\": -81.446493, \"iso_country_code\": \"US\"}, {\"query_id\": \"sg:377f1c2a3c3e4b0885b8addcb4f70997\", \"location_name\": \"Costco Wholesale Corp.\", \"street_address\": \"1501 W Kelly Ave\", \"city\": \"Pharr\", \"region\": \"TX\", \"postal_code\": \"78577\", \"latitude\": null, \"longitude\": null, \"iso_country_code\": \"US\"}, {\"query_id\": \"sg:6f0bbc5fec244009b9e6c9365332bc36\", \"location_name\": \"Costco Wholesale Corp.\", \"street_address\": \"2431 N Germantown Pkwy\", \"city\": \"Cordova\", \"region\": \"TN\", \"postal_code\": \"38016\", \"latitude\": 35.192479, \"longitude\": -89.795662, \"iso_country_code\": \"US\"}, {\"query_id\": \"sg:98ccf43c4a934f30a943a9564ce4cf0e\", \"location_name\": \"Costco Wholesale Corp.\", \"street_address\": \"24008 Snohomish Woodinville Rd\", \"city\": \"Maltby\", \"region\": \"WA\", \"postal_code\": null, \"latitude\": 47.779382, \"longitude\": -122.148732, \"iso_country_code\": \"US\"}, {\"query_id\": \"sg:54e30fd6a9bd4e748dc79912714f4a9e\", \"location_name\": \"Costco Wholesale Corp.\", \"street_address\": \"14555 Valley Center Dr\", \"city\": \"Victorville\", \"region\": \"CA\", \"postal_code\": \"92395\", \"latitude\": 34.515092, \"longitude\": -117.318561, \"iso_country_code\": \"US\"}, {\"query_id\": \"sg:4d620424470b48e4bc04a745e432b17e\", \"location_name\": \"Costco Wholesale Corp.\", \"street_address\": \"241 E Linwood Blvd\", \"city\": \"Kansas City\", \"region\": \"MO\", \"postal_code\": \"64111\", \"latitude\": 39.068076, \"longitude\": -94.579854, \"iso_country_code\": \"US\"}, {\"query_id\": \"sg:869db977355b409286fe4fa3cbddd64c\", \"location_name\": \"Costco Wholesale Corp.\", \"street_address\": \"2800 Independence Dr\", \"city\": \"Livermore\", \"region\": \"CA\", \"postal_code\": \"94551\", \"latitude\": 37.703133, \"longitude\": -121.812725, \"iso_country_code\": \"US\"}, {\"query_id\": \"sg:be95a4498ee340db9b5eeb3130124eab\", \"location_name\": \"Costco Wholesale Corp.\", \"street_address\": \"1415 N Arizona Ave\", \"city\": \"Gilbert\", \"region\": \"AZ\", \"postal_code\": null, \"latitude\": 33.376033, \"longitude\": -111.840291, \"iso_country_code\": \"US\"}, {\"query_id\": \"sg:a2e775301ae64a6c9677c42ca9e66d34\", \"location_name\": \"Costco Wholesale Corp.\", \"street_address\": \"4601 183A Toll Rd\", \"city\": \"Cedar Park\", \"region\": \"TX\", \"postal_code\": null, \"latitude\": 30.527675, \"longitude\": -97.819633, \"iso_country_code\": \"US\"}, {\"query_id\": \"sg:ea2be59666594775b84ac21792e83c0a\", \"location_name\": \"Costco Wholesale Corp.\", \"street_address\": \"2001 Ventura Blvd\", \"city\": \"Oxnard\", \"region\": \"CA\", \"postal_code\": \"93036\", \"latitude\": 34.22556, \"longitude\": -119.148087, \"iso_country_code\": \"US\"}, {\"query_id\": \"sg:1bb5ddca29884cfcbdaeff2b6447cde5\", \"location_name\": \"Costco Wholesale Corp.\", \"street_address\": \"405 Hartford Rd\", \"city\": \"New Britain\", \"region\": \"CT\", \"postal_code\": null, \"latitude\": 41.709419, \"longitude\": -72.763795, \"iso_country_code\": \"US\"}, {\"query_id\": \"sg:0dfa30d849934e46847b2e29bfc6c1d0\", \"location_name\": \"Costco Wholesale Corp.\", \"street_address\": null, \"city\": null, \"region\": null, \"postal_code\": \"92832\", \"latitude\": 33.862222, \"longitude\": -117.922463, \"iso_country_code\": \"US\"}, {\"query_id\": \"sg:70d94c939d8f4807b40dbae2c4688d7e\", \"location_name\": \"Costco Wholesale Corp.\", \"street_address\": \"4401 4th Ave S\", \"city\": \"Seattle\", \"region\": \"WA\", \"postal_code\": \"98134\", \"latitude\": 47.565469, \"longitude\": -122.330304, \"iso_country_code\": \"US\"}, {\"query_id\": \"sg:e594cb3f5d404e9e878602a67608bb95\", \"location_name\": \"Costco Wholesale Corp.\", \"street_address\": \"3747 S Constitution Blvd\", \"city\": \"West Valley City\", \"region\": \"UT\", \"postal_code\": null, \"latitude\": 40.690873, \"longitude\": -111.956967, \"iso_country_code\": \"US\"}, {\"query_id\": \"sg:b021dee6b2684153ac0eb78773ac480b\", \"location_name\": \"Costco Wholesale Corp.\", \"street_address\": \"20 Bridewell Pl\", \"city\": \"Clifton\", \"region\": \"NJ\", \"postal_code\": \"07014\", \"latitude\": 40.8314, \"longitude\": -74.136309, \"iso_country_code\": \"US\"}, {\"query_id\": \"sg:1bd8dda08e6f4b3e85d89960c7d40aed\", \"location_name\": \"Costco Wholesale Corp.\", \"street_address\": \"5050 N Nevada Ave\", \"city\": \"Colorado Springs\", \"region\": \"CO\", \"postal_code\": \"80918\", \"latitude\": 38.904774, \"longitude\": -104.82224, \"iso_country_code\": \"US\"}, {\"query_id\": \"sg:4231fdfaaa644a0baa9eb19b51ab6a75\", \"location_name\": \"Costco Wholesale Corp.\", \"street_address\": \"12324 Hoxie Ave\", \"city\": \"Norwalk\", \"region\": \"CA\", \"postal_code\": \"90650\", \"latitude\": 33.919907, \"longitude\": -118.102267, \"iso_country_code\": \"US\"}, {\"query_id\": \"sg:503425fdd48b4a359351a5a5001240da\", \"location_name\": \"Costco Wholesale Corp.\", \"street_address\": \"851 State Highway 121 Byp\", \"city\": \"Lewisville\", \"region\": \"TX\", \"postal_code\": \"75067\", \"latitude\": 32.998388, \"longitude\": -96.96404, \"iso_country_code\": \"US\"}, {\"query_id\": \"sg:cf607916da734631b92ce17c01bfdc5c\", \"location_name\": \"Costco Wholesale Corp.\", \"street_address\": \"18414 Cottonwood Dr\", \"city\": \"Parker\", \"region\": \"CO\", \"postal_code\": \"80138\", \"latitude\": 39.555342, \"longitude\": -104.776078, \"iso_country_code\": \"US\"}, {\"query_id\": \"sg:01130492d2fc49ddb77f6960fd2662ce\", \"location_name\": \"Costco Wholesale Corp.\", \"street_address\": \"W162N9235 Pershing Ave\", \"city\": \"Menomonee Falls\", \"region\": \"WI\", \"postal_code\": \"53051\", \"latitude\": 43.185797, \"longitude\": -88.112492, \"iso_country_code\": \"US\"}, {\"query_id\": \"sg:09026e0da52a457d8c753a3a63622e07\", \"location_name\": \"Costco Wholesale Corp.\", \"street_address\": \"2345 Fenton Pkwy\", \"city\": \"San Diego\", \"region\": \"CA\", \"postal_code\": \"92108\", \"latitude\": 32.782591, \"longitude\": -117.128554, \"iso_country_code\": \"US\"}, {\"query_id\": \"sg:24cdb44c50ae42c38b4609f0dd5078d4\", \"location_name\": \"Costco Wholesale Corp.\", \"street_address\": \"1375 N Meacham Rd\", \"city\": \"Schaumburg\", \"region\": \"IL\", \"postal_code\": \"60173\", \"latitude\": 42.055246, \"longitude\": -88.041843, \"iso_country_code\": \"US\"}, {\"query_id\": \"sg:34fe2d36f64544328c1abadf8ce91070\", \"location_name\": \"Costco Wholesale Corp.\", \"street_address\": \"200 Costco Way\", \"city\": \"Saint Peters\", \"region\": \"MO\", \"postal_code\": \"63376\", \"latitude\": 38.796223, \"longitude\": -90.606988, \"iso_country_code\": \"US\"}, {\"query_id\": \"sg:576807f55a4242ce9db47c85f20ff121\", \"location_name\": \"Costco Wholesale Corp.\", \"street_address\": \"245 Stafford Park Blvd\", \"city\": \"Stafford Township\", \"region\": \"NJ\", \"postal_code\": \"08050\", \"latitude\": 39.706681, \"longitude\": -74.28757, \"iso_country_code\": \"US\"}, {\"query_id\": \"sg:5171906d30fe427a8296df2c14295bef\", \"location_name\": \"Costco Wholesale Corp.\", \"street_address\": \"3250 W Grant Line Rd\", \"city\": \"Tracy\", \"region\": \"CA\", \"postal_code\": \"95304\", \"latitude\": 37.750341, \"longitude\": -121.47542, \"iso_country_code\": \"US\"}, {\"query_id\": \"sg:1b9447075836411e83a5c98ea32fcd68\", \"location_name\": \"Costco Wholesale Corp.\", \"street_address\": \"625 E University Dr\", \"city\": \"Mishawaka\", \"region\": \"IN\", \"postal_code\": \"46530\", \"latitude\": 41.718858, \"longitude\": -86.171967, \"iso_country_code\": \"US\"}, {\"query_id\": \"sg:11937b35b7cd459e85f9b9478b46dfcd\", \"location_name\": \"Costco Wholesale Corp.\", \"street_address\": \"1130 Broadway\", \"city\": \"Chula Vista\", \"region\": \"CA\", \"postal_code\": \"91911\", \"latitude\": 32.608408, \"longitude\": -117.083759, \"iso_country_code\": \"US\"}, {\"query_id\": \"sg:51a04cdaa81445c89fec1dbfcdc59b67\", \"location_name\": \"Costco Wholesale Corp.\", \"street_address\": \"525 Alakawa St\", \"city\": \"Honolulu\", \"region\": \"HI\", \"postal_code\": \"96817\", \"latitude\": 21.318637, \"longitude\": -157.871175, \"iso_country_code\": \"US\"}, {\"query_id\": \"sg:602e31e0f72443ecbe7b10ea7afd65b9\", \"location_name\": \"Costco Wholesale Corp.\", \"street_address\": \"3250 Northlake Blvd\", \"city\": \"Palm Beach Gardens\", \"region\": \"FL\", \"postal_code\": \"33403\", \"latitude\": 26.80649, \"longitude\": -80.087763, \"iso_country_code\": \"US\"}, {\"query_id\": \"sg:81ed7025fded41b3ae974470baa191e3\", \"location_name\": \"Costco Wholesale Corp.\", \"street_address\": \"16700 N Marketplace Blvd\", \"city\": \"Nampa\", \"region\": \"ID\", \"postal_code\": \"83687\", \"latitude\": 43.615215, \"longitude\": -116.589355, \"iso_country_code\": \"US\"}, {\"query_id\": \"sg:09e7767796ad4fee93a5837ad7717b8e\", \"location_name\": \"Costco Wholesale Corp.\", \"street_address\": \"198 Plaza Dr\", \"city\": \"Vallejo\", \"region\": \"CA\", \"postal_code\": \"94591\", \"latitude\": 38.13307, \"longitude\": -122.213269, \"iso_country_code\": \"US\"}, {\"query_id\": \"sg:2f7e156961fc4a998203d69cf0a76c1b\", \"location_name\": \"Costco Wholesale Corp.\", \"street_address\": \"4570 E Cactus Rd\", \"city\": \"Phoenix\", \"region\": \"AZ\", \"postal_code\": \"85032\", \"latitude\": 33.60342, \"longitude\": -111.985769, \"iso_country_code\": \"US\"}, {\"query_id\": \"sg:7084f43df9a04e6b8a5a67ead6406067\", \"location_name\": \"Costco Wholesale Corp.\", \"street_address\": null, \"city\": null, \"region\": null, \"postal_code\": \"83815\", \"latitude\": 47.709147, \"longitude\": -116.782507, \"iso_country_code\": \"US\"}, {\"query_id\": \"sg:9c60580d62874bf6bc809d766b87d277\", \"location_name\": \"Costco Wholesale Corp.\", \"street_address\": null, \"city\": null, \"region\": null, \"postal_code\": \"08807\", \"latitude\": 40.563471, \"longitude\": -74.558825, \"iso_country_code\": \"US\"}, {\"query_id\": \"sg:87cd021a32054858b9a9ac53bbc79124\", \"location_name\": \"Costco Wholesale Corp.\", \"street_address\": null, \"city\": null, \"region\": null, \"postal_code\": \"20613\", \"latitude\": 38.670503, \"longitude\": -76.873032, \"iso_country_code\": \"US\"}, {\"query_id\": \"sg:8c184ce8343947579faad701b949aee7\", \"location_name\": \"Costco Wholesale Corp.\", \"street_address\": null, \"city\": null, \"region\": null, \"postal_code\": \"23502\", \"latitude\": 36.852383, \"longitude\": -76.199215, \"iso_country_code\": \"US\"}, {\"query_id\": \"sg:dde44b5c82324aa9a1b67b3670855686\", \"location_name\": \"Costco Wholesale Corp.\", \"street_address\": null, \"city\": null, \"region\": null, \"postal_code\": \"84115\", \"latitude\": 40.731224, \"longitude\": -111.900931, \"iso_country_code\": \"US\"}, {\"query_id\": \"sg:d055163a6d224626b2cd9135d96e640f\", \"location_name\": \"Costco Wholesale Corp.\", \"street_address\": null, \"city\": null, \"region\": null, \"postal_code\": \"22801\", \"latitude\": 38.427535, \"longitude\": -78.857409, \"iso_country_code\": \"US\"}, {\"query_id\": \"sg:48e1d5f0dc1e46ffa22edfeb1c58d1c0\", \"location_name\": \"Costco Wholesale Corp.\", \"street_address\": null, \"city\": null, \"region\": null, \"postal_code\": \"48152\", \"latitude\": 42.432886, \"longitude\": -83.429511, \"iso_country_code\": \"US\"}, {\"query_id\": \"sg:4efc01fb5b6d4a4d85600a5a2d9490cf\", \"location_name\": \"Costco Wholesale Corp.\", \"street_address\": null, \"city\": null, \"region\": null, \"postal_code\": \"22306\", \"latitude\": 38.741614, \"longitude\": -77.087777, \"iso_country_code\": \"US\"}, {\"query_id\": \"sg:8b36d41b504449dca6096dbe01be8147\", \"location_name\": \"Costco Wholesale Corp.\", \"street_address\": null, \"city\": null, \"region\": null, \"postal_code\": \"08723\", \"latitude\": 40.0542, \"longitude\": -74.157666, \"iso_country_code\": \"US\"}], \"options\": {\"strict_address_match\": false}}'"
      ]
     },
     "execution_count": 28,
     "metadata": {},
     "output_type": "execute_result"
    }
   ],
   "source": [
    "# Chunk the data into small batches\n",
    "def batch_list_with_fixed_size(data_as_list, max_batch_size=50):\n",
    "    batches = [data_as_list[i:i + max_batch_size] for i in range(0, len(data_as_list), max_batch_size)]\n",
    "    return batches\n",
    "\n",
    "batches = batch_list_with_fixed_size(data_jsoned, max_batch_size=50)\n",
    "batches_json = prepare_batches_for_API(batches)\n",
    "print(\"Number of batches:\" ,len(batches_json), \"\\n\")\n",
    "print(\"example batch:\")\n",
    "batches_json[0]"
   ]
  },
  {
   "cell_type": "markdown",
   "metadata": {
    "colab_type": "text",
    "id": "bBV4n5PAe5wi"
   },
   "source": [
    "## Request Placekeys From Placekey API and View API Results"
   ]
  },
  {
   "cell_type": "code",
   "execution_count": 19,
   "metadata": {
    "colab": {
     "base_uri": "https://localhost:8080/",
     "height": 51
    },
    "colab_type": "code",
    "id": "2KEcrkiDT_iH",
    "outputId": "49bb1014-1f1f-4c1e-e680-905cdf76383d"
   },
   "outputs": [
    {
     "name": "stdout",
     "output_type": "stream",
     "text": [
      "CPU times: user 29.9 ms, sys: 6.7 ms, total: 36.6 ms\n",
      "Wall time: 7.06 s\n"
     ]
    }
   ],
   "source": [
    "%%time\n",
    "responses = getPlacekeys(batches_json)"
   ]
  },
  {
   "cell_type": "code",
   "execution_count": 50,
   "metadata": {
    "colab": {
     "base_uri": "https://localhost:8080/",
     "height": 102
    },
    "colab_type": "code",
    "id": "tjFbpPdqc45c",
    "outputId": "4762431e-5911-4d32-e167-9225777eff61"
   },
   "outputs": [
    {
     "name": "stdout",
     "output_type": "stream",
     "text": [
      "total batches sent: 273\n",
      "total batches returned: 273\n",
      "length of individual batches: 2\n",
      "example individual query response:\n",
      "{'query_id': 'sg:22a7df9c14c148bb969171d93e0950c3', 'placekey': 'zzw-224@5z6-3p2-v9f'}\n"
     ]
    }
   ],
   "source": [
    "def assess_api_responses(batches_json, responses):\n",
    "    print(\"total batches sent:\", len(batches_json))\n",
    "    print(\"total batches returned:\", len(responses))\n",
    "    print(\"length of individual batches:\", len(responses[0]))\n",
    "    print(\"example individual query response:\")\n",
    "    print(responses[0][0])\n",
    "\n",
    "assess_api_responses(batches_json, responses)"
   ]
  },
  {
   "cell_type": "code",
   "execution_count": 51,
   "metadata": {
    "colab": {
     "base_uri": "https://localhost:8080/",
     "height": 51
    },
    "colab_type": "code",
    "id": "enSaaBu6-KuZ",
    "outputId": "83114de7-f07f-47d3-aef9-39e967565858"
   },
   "outputs": [
    {
     "name": "stdout",
     "output_type": "stream",
     "text": [
      "number of original records:  545\n",
      "total individual queries returned: 545\n",
      "total successful query responses: 545\n"
     ]
    }
   ],
   "source": [
    "def unnest_and_filter_responses(data_jsoned, responses):\n",
    "\n",
    "    # un-nest the queries from their batches\n",
    "    print(\"number of original records: \", len(data_jsoned))\n",
    "    responses_flat = [item for sublist in responses for item in sublist]\n",
    "    print(\"total individual queries returned:\", len(responses_flat))\n",
    "\n",
    "    # filter out invalid responses\n",
    "    responses_flat_cleaned = [resp for resp in responses_flat if 'query_id' in resp]\n",
    "    print(\"total successful query responses:\", len(responses_flat_cleaned))\n",
    "    return(responses_flat_cleaned)\n",
    "\n",
    "responses_flat_cleaned = unnest_and_filter_responses(data_jsoned, responses)"
   ]
  },
  {
   "cell_type": "code",
   "execution_count": 32,
   "metadata": {
    "colab": {
     "base_uri": "https://localhost:8080/",
     "height": 359
    },
    "colab_type": "code",
    "id": "3GsfiAf2-nLy",
    "outputId": "6b3ec188-890a-4a60-fb29-19c91ac446bd"
   },
   "outputs": [
    {
     "data": {
      "text/html": [
       "<div>\n",
       "<style scoped>\n",
       "    .dataframe tbody tr th:only-of-type {\n",
       "        vertical-align: middle;\n",
       "    }\n",
       "\n",
       "    .dataframe tbody tr th {\n",
       "        vertical-align: top;\n",
       "    }\n",
       "\n",
       "    .dataframe thead th {\n",
       "        text-align: right;\n",
       "    }\n",
       "</style>\n",
       "<table border=\"1\" class=\"dataframe\">\n",
       "  <thead>\n",
       "    <tr style=\"text-align: right;\">\n",
       "      <th></th>\n",
       "      <th>query_id</th>\n",
       "      <th>placekey</th>\n",
       "    </tr>\n",
       "  </thead>\n",
       "  <tbody>\n",
       "    <tr>\n",
       "      <td>0</td>\n",
       "      <td>sg:22a7df9c14c148bb969171d93e0950c3</td>\n",
       "      <td>zzw-224@5z6-3p2-v9f</td>\n",
       "    </tr>\n",
       "    <tr>\n",
       "      <td>1</td>\n",
       "      <td>sg:235e4067e4b04332b23e5a38448f6535</td>\n",
       "      <td>222-222@5xc-q57-xqz</td>\n",
       "    </tr>\n",
       "    <tr>\n",
       "      <td>2</td>\n",
       "      <td>sg:67591b2e593048a4bd4e09e027ba9caf</td>\n",
       "      <td>223-223@5x4-4sg-vfz</td>\n",
       "    </tr>\n",
       "    <tr>\n",
       "      <td>3</td>\n",
       "      <td>sg:b568fdaf8fd64651ad1f5931e48440fe</td>\n",
       "      <td>zzw-223@5pw-68m-4jv</td>\n",
       "    </tr>\n",
       "    <tr>\n",
       "      <td>4</td>\n",
       "      <td>sg:ccacecad3a01486a8873a05a1ad9db41</td>\n",
       "      <td>222-222@5pj-24r-7t9</td>\n",
       "    </tr>\n",
       "    <tr>\n",
       "      <td>5</td>\n",
       "      <td>sg:03cb6aeb0e024bd6bf71626e30b201a0</td>\n",
       "      <td>222-222@5vg-55k-p7q</td>\n",
       "    </tr>\n",
       "    <tr>\n",
       "      <td>6</td>\n",
       "      <td>sg:3381832b1ba14db09a140e9f13bb386a</td>\n",
       "      <td>zzw-222@5xd-qd6-ghq</td>\n",
       "    </tr>\n",
       "    <tr>\n",
       "      <td>7</td>\n",
       "      <td>sg:2f347f46f0a34017a061bdf8d7430d01</td>\n",
       "      <td>zzw-222@5qc-x2b-7nq</td>\n",
       "    </tr>\n",
       "    <tr>\n",
       "      <td>8</td>\n",
       "      <td>sg:20d033ca8fe44c31a02d7325ce069bd3</td>\n",
       "      <td>222-222@5vg-87t-psq</td>\n",
       "    </tr>\n",
       "    <tr>\n",
       "      <td>9</td>\n",
       "      <td>sg:57f9bfb8ae45495d97f5af97f228d143</td>\n",
       "      <td>222-222@63v-bky-cbk</td>\n",
       "    </tr>\n",
       "  </tbody>\n",
       "</table>\n",
       "</div>"
      ],
      "text/plain": [
       "                              query_id             placekey\n",
       "0  sg:22a7df9c14c148bb969171d93e0950c3  zzw-224@5z6-3p2-v9f\n",
       "1  sg:235e4067e4b04332b23e5a38448f6535  222-222@5xc-q57-xqz\n",
       "2  sg:67591b2e593048a4bd4e09e027ba9caf  223-223@5x4-4sg-vfz\n",
       "3  sg:b568fdaf8fd64651ad1f5931e48440fe  zzw-223@5pw-68m-4jv\n",
       "4  sg:ccacecad3a01486a8873a05a1ad9db41  222-222@5pj-24r-7t9\n",
       "5  sg:03cb6aeb0e024bd6bf71626e30b201a0  222-222@5vg-55k-p7q\n",
       "6  sg:3381832b1ba14db09a140e9f13bb386a  zzw-222@5xd-qd6-ghq\n",
       "7  sg:2f347f46f0a34017a061bdf8d7430d01  zzw-222@5qc-x2b-7nq\n",
       "8  sg:20d033ca8fe44c31a02d7325ce069bd3  222-222@5vg-87t-psq\n",
       "9  sg:57f9bfb8ae45495d97f5af97f228d143  222-222@63v-bky-cbk"
      ]
     },
     "execution_count": 32,
     "metadata": {},
     "output_type": "execute_result"
    }
   ],
   "source": [
    "df_placekeys = pd.read_json(json.dumps(responses_flat_cleaned), dtype={'query_id':str})\n",
    "df_placekeys.head(10)"
   ]
  },
  {
   "cell_type": "markdown",
   "metadata": {
    "colab_type": "text",
    "id": "Ro0oSMf9-6G1"
   },
   "source": [
    "## Add `placekey` Column Back to Original Dataset and Save Results"
   ]
  },
  {
   "cell_type": "code",
   "execution_count": 33,
   "metadata": {
    "colab": {
     "base_uri": "https://localhost:8080/",
     "height": 394
    },
    "colab_type": "code",
    "id": "cfPOPcia_E2o",
    "outputId": "2078de97-44ea-4639-d4d7-3d32e3610a26"
   },
   "outputs": [
    {
     "data": {
      "text/html": [
       "<div>\n",
       "<style scoped>\n",
       "    .dataframe tbody tr th:only-of-type {\n",
       "        vertical-align: middle;\n",
       "    }\n",
       "\n",
       "    .dataframe tbody tr th {\n",
       "        vertical-align: top;\n",
       "    }\n",
       "\n",
       "    .dataframe thead th {\n",
       "        text-align: right;\n",
       "    }\n",
       "</style>\n",
       "<table border=\"1\" class=\"dataframe\">\n",
       "  <thead>\n",
       "    <tr style=\"text-align: right;\">\n",
       "      <th></th>\n",
       "      <th>query_id</th>\n",
       "      <th>placekey</th>\n",
       "      <th>internal_place_id</th>\n",
       "      <th>store_name</th>\n",
       "      <th>lat</th>\n",
       "      <th>lon</th>\n",
       "      <th>full_address</th>\n",
       "      <th>city</th>\n",
       "      <th>state</th>\n",
       "      <th>zip_code</th>\n",
       "    </tr>\n",
       "  </thead>\n",
       "  <tbody>\n",
       "    <tr>\n",
       "      <td>0</td>\n",
       "      <td>sg:22a7df9c14c148bb969171d93e0950c3</td>\n",
       "      <td>zzw-224@5z6-3p2-v9f</td>\n",
       "      <td>sg:22a7df9c14c148bb969171d93e0950c3</td>\n",
       "      <td>Costco Wholesale Corp.</td>\n",
       "      <td>33.804504</td>\n",
       "      <td>-118.039593</td>\n",
       "      <td>5401 Katella Ave</td>\n",
       "      <td>Cypress</td>\n",
       "      <td>CA</td>\n",
       "      <td>90720</td>\n",
       "    </tr>\n",
       "    <tr>\n",
       "      <td>1</td>\n",
       "      <td>sg:235e4067e4b04332b23e5a38448f6535</td>\n",
       "      <td>222-222@5xc-q57-xqz</td>\n",
       "      <td>sg:235e4067e4b04332b23e5a38448f6535</td>\n",
       "      <td>Costco Wholesale Corp.</td>\n",
       "      <td>NaN</td>\n",
       "      <td>NaN</td>\n",
       "      <td>25900 SW Heather Pl</td>\n",
       "      <td>Wilsonville</td>\n",
       "      <td>OR</td>\n",
       "      <td>NaN</td>\n",
       "    </tr>\n",
       "    <tr>\n",
       "      <td>2</td>\n",
       "      <td>sg:67591b2e593048a4bd4e09e027ba9caf</td>\n",
       "      <td>223-223@5x4-4sg-vfz</td>\n",
       "      <td>sg:67591b2e593048a4bd4e09e027ba9caf</td>\n",
       "      <td>Costco Wholesale Corp.</td>\n",
       "      <td>47.445371</td>\n",
       "      <td>-122.248623</td>\n",
       "      <td>400 Costco Dr Ste 150</td>\n",
       "      <td>Tukwila</td>\n",
       "      <td>WA</td>\n",
       "      <td>98188</td>\n",
       "    </tr>\n",
       "    <tr>\n",
       "      <td>3</td>\n",
       "      <td>sg:b568fdaf8fd64651ad1f5931e48440fe</td>\n",
       "      <td>zzw-223@5pw-68m-4jv</td>\n",
       "      <td>sg:b568fdaf8fd64651ad1f5931e48440fe</td>\n",
       "      <td>Costco Wholesale Corp.</td>\n",
       "      <td>41.844777</td>\n",
       "      <td>-87.806473</td>\n",
       "      <td>2500 Harlem Ave</td>\n",
       "      <td>North Riverside</td>\n",
       "      <td>IL</td>\n",
       "      <td>60546</td>\n",
       "    </tr>\n",
       "    <tr>\n",
       "      <td>4</td>\n",
       "      <td>sg:ccacecad3a01486a8873a05a1ad9db41</td>\n",
       "      <td>222-222@5pj-24r-7t9</td>\n",
       "      <td>sg:ccacecad3a01486a8873a05a1ad9db41</td>\n",
       "      <td>Costco Wholesale Corp.</td>\n",
       "      <td>38.508769</td>\n",
       "      <td>-90.338324</td>\n",
       "      <td>4200 Rusty Rd</td>\n",
       "      <td>Concord</td>\n",
       "      <td>MO</td>\n",
       "      <td>63128</td>\n",
       "    </tr>\n",
       "  </tbody>\n",
       "</table>\n",
       "</div>"
      ],
      "text/plain": [
       "                              query_id             placekey  \\\n",
       "0  sg:22a7df9c14c148bb969171d93e0950c3  zzw-224@5z6-3p2-v9f   \n",
       "1  sg:235e4067e4b04332b23e5a38448f6535  222-222@5xc-q57-xqz   \n",
       "2  sg:67591b2e593048a4bd4e09e027ba9caf  223-223@5x4-4sg-vfz   \n",
       "3  sg:b568fdaf8fd64651ad1f5931e48440fe  zzw-223@5pw-68m-4jv   \n",
       "4  sg:ccacecad3a01486a8873a05a1ad9db41  222-222@5pj-24r-7t9   \n",
       "\n",
       "                     internal_place_id              store_name        lat  \\\n",
       "0  sg:22a7df9c14c148bb969171d93e0950c3  Costco Wholesale Corp.  33.804504   \n",
       "1  sg:235e4067e4b04332b23e5a38448f6535  Costco Wholesale Corp.        NaN   \n",
       "2  sg:67591b2e593048a4bd4e09e027ba9caf  Costco Wholesale Corp.  47.445371   \n",
       "3  sg:b568fdaf8fd64651ad1f5931e48440fe  Costco Wholesale Corp.  41.844777   \n",
       "4  sg:ccacecad3a01486a8873a05a1ad9db41  Costco Wholesale Corp.  38.508769   \n",
       "\n",
       "          lon           full_address             city state zip_code  \n",
       "0 -118.039593       5401 Katella Ave          Cypress    CA    90720  \n",
       "1         NaN    25900 SW Heather Pl      Wilsonville    OR      NaN  \n",
       "2 -122.248623  400 Costco Dr Ste 150          Tukwila    WA    98188  \n",
       "3  -87.806473        2500 Harlem Ave  North Riverside    IL    60546  \n",
       "4  -90.338324          4200 Rusty Rd          Concord    MO    63128  "
      ]
     },
     "execution_count": 33,
     "metadata": {},
     "output_type": "execute_result"
    }
   ],
   "source": [
    "df_join_placekey = pd.merge(orig_df, df_placekeys, left_on=query_id_col, right_on=\"query_id\", how='left')\n",
    "final_cols = list(df_placekeys.columns) + list(orig_df.columns)\n",
    "df_join_placekey = df_join_placekey[final_cols]\n",
    "df_join_placekey.head()"
   ]
  },
  {
   "cell_type": "code",
   "execution_count": 59,
   "metadata": {
    "colab": {
     "base_uri": "https://localhost:8080/",
     "height": 102
    },
    "colab_type": "code",
    "id": "YPJy0CTbZGzT",
    "outputId": "74d8ebfa-336c-4ea9-e547-2d30cbe126cd"
   },
   "outputs": [
    {
     "name": "stdout",
     "output_type": "stream",
     "text": [
      "Summary of results:\n",
      "total records: 545\n",
      "records with a placekey: 545 | 100.00%\n",
      "records missing a placekey: 0 | 0.00% [Missing placekeys may be due to exceeding API rate limit]\n",
      "records missing a query_id: 0 | 0.00% [Invalid query inputs or missing result due to exceeded API rate limit]\n"
     ]
    }
   ],
   "source": [
    "print(\"Summary of results:\")\n",
    "total_recs = df_join_placekey.shape[0]\n",
    "print(\"total records:\", total_recs)\n",
    "print(\"records with a placekey: {0} | {1:.2f}%\".format(df_join_placekey[~df_join_placekey.placekey.isnull()].shape[0],  df_join_placekey[~df_join_placekey.placekey.isnull()].shape[0]*100/total_recs))      \n",
    "print(\"records missing a placekey: {0} | {1:.2f}% [Missing placekeys may be due to exceeding API rate limit]\".format(df_join_placekey[df_join_placekey.placekey.isnull()].shape[0], df_join_placekey[df_join_placekey.placekey.isnull()].shape[0]*100/total_recs))\n",
    "print(\"records missing a query_id: {0} | {1:.2f}% [Invalid query inputs or missing result due to exceeded API rate limit]\".format(df_join_placekey[df_join_placekey.query_id.isnull()].shape[0], df_join_placekey[df_join_placekey.query_id.isnull()].shape[0]*100/total_recs))"
   ]
  },
  {
   "cell_type": "code",
   "execution_count": 35,
   "metadata": {
    "colab": {
     "base_uri": "https://localhost:8080/",
     "height": 411
    },
    "colab_type": "code",
    "id": "MrTECaDUbfPW",
    "outputId": "601e9196-c543-4048-df8c-3f751b31b3fe"
   },
   "outputs": [
    {
     "name": "stdout",
     "output_type": "stream",
     "text": [
      "wrote to:  /Users/ryansquire/Documents/datasets/CostcoWholesaleCorp-Sept-2020-CORE_POI/my_places_data_missing_placekeys.csv\n"
     ]
    },
    {
     "data": {
      "text/html": [
       "<div>\n",
       "<style scoped>\n",
       "    .dataframe tbody tr th:only-of-type {\n",
       "        vertical-align: middle;\n",
       "    }\n",
       "\n",
       "    .dataframe tbody tr th {\n",
       "        vertical-align: top;\n",
       "    }\n",
       "\n",
       "    .dataframe thead th {\n",
       "        text-align: right;\n",
       "    }\n",
       "</style>\n",
       "<table border=\"1\" class=\"dataframe\">\n",
       "  <thead>\n",
       "    <tr style=\"text-align: right;\">\n",
       "      <th></th>\n",
       "      <th>placekey</th>\n",
       "      <th>internal_place_id</th>\n",
       "      <th>store_name</th>\n",
       "      <th>lat</th>\n",
       "      <th>lon</th>\n",
       "      <th>full_address</th>\n",
       "      <th>city</th>\n",
       "      <th>state</th>\n",
       "      <th>zip_code</th>\n",
       "    </tr>\n",
       "  </thead>\n",
       "  <tbody>\n",
       "    <tr>\n",
       "      <td>0</td>\n",
       "      <td>zzw-224@5z6-3p2-v9f</td>\n",
       "      <td>sg:22a7df9c14c148bb969171d93e0950c3</td>\n",
       "      <td>Costco Wholesale Corp.</td>\n",
       "      <td>33.804504</td>\n",
       "      <td>-118.039593</td>\n",
       "      <td>5401 Katella Ave</td>\n",
       "      <td>Cypress</td>\n",
       "      <td>CA</td>\n",
       "      <td>90720</td>\n",
       "    </tr>\n",
       "    <tr>\n",
       "      <td>1</td>\n",
       "      <td>222-222@5xc-q57-xqz</td>\n",
       "      <td>sg:235e4067e4b04332b23e5a38448f6535</td>\n",
       "      <td>Costco Wholesale Corp.</td>\n",
       "      <td>NaN</td>\n",
       "      <td>NaN</td>\n",
       "      <td>25900 SW Heather Pl</td>\n",
       "      <td>Wilsonville</td>\n",
       "      <td>OR</td>\n",
       "      <td>NaN</td>\n",
       "    </tr>\n",
       "    <tr>\n",
       "      <td>2</td>\n",
       "      <td>223-223@5x4-4sg-vfz</td>\n",
       "      <td>sg:67591b2e593048a4bd4e09e027ba9caf</td>\n",
       "      <td>Costco Wholesale Corp.</td>\n",
       "      <td>47.445371</td>\n",
       "      <td>-122.248623</td>\n",
       "      <td>400 Costco Dr Ste 150</td>\n",
       "      <td>Tukwila</td>\n",
       "      <td>WA</td>\n",
       "      <td>98188</td>\n",
       "    </tr>\n",
       "    <tr>\n",
       "      <td>3</td>\n",
       "      <td>zzw-223@5pw-68m-4jv</td>\n",
       "      <td>sg:b568fdaf8fd64651ad1f5931e48440fe</td>\n",
       "      <td>Costco Wholesale Corp.</td>\n",
       "      <td>41.844777</td>\n",
       "      <td>-87.806473</td>\n",
       "      <td>2500 Harlem Ave</td>\n",
       "      <td>North Riverside</td>\n",
       "      <td>IL</td>\n",
       "      <td>60546</td>\n",
       "    </tr>\n",
       "    <tr>\n",
       "      <td>4</td>\n",
       "      <td>222-222@5pj-24r-7t9</td>\n",
       "      <td>sg:ccacecad3a01486a8873a05a1ad9db41</td>\n",
       "      <td>Costco Wholesale Corp.</td>\n",
       "      <td>38.508769</td>\n",
       "      <td>-90.338324</td>\n",
       "      <td>4200 Rusty Rd</td>\n",
       "      <td>Concord</td>\n",
       "      <td>MO</td>\n",
       "      <td>63128</td>\n",
       "    </tr>\n",
       "  </tbody>\n",
       "</table>\n",
       "</div>"
      ],
      "text/plain": [
       "              placekey                    internal_place_id  \\\n",
       "0  zzw-224@5z6-3p2-v9f  sg:22a7df9c14c148bb969171d93e0950c3   \n",
       "1  222-222@5xc-q57-xqz  sg:235e4067e4b04332b23e5a38448f6535   \n",
       "2  223-223@5x4-4sg-vfz  sg:67591b2e593048a4bd4e09e027ba9caf   \n",
       "3  zzw-223@5pw-68m-4jv  sg:b568fdaf8fd64651ad1f5931e48440fe   \n",
       "4  222-222@5pj-24r-7t9  sg:ccacecad3a01486a8873a05a1ad9db41   \n",
       "\n",
       "               store_name        lat         lon           full_address  \\\n",
       "0  Costco Wholesale Corp.  33.804504 -118.039593       5401 Katella Ave   \n",
       "1  Costco Wholesale Corp.        NaN         NaN    25900 SW Heather Pl   \n",
       "2  Costco Wholesale Corp.  47.445371 -122.248623  400 Costco Dr Ste 150   \n",
       "3  Costco Wholesale Corp.  41.844777  -87.806473        2500 Harlem Ave   \n",
       "4  Costco Wholesale Corp.  38.508769  -90.338324          4200 Rusty Rd   \n",
       "\n",
       "              city state zip_code  \n",
       "0          Cypress    CA    90720  \n",
       "1      Wilsonville    OR      NaN  \n",
       "2          Tukwila    WA    98188  \n",
       "3  North Riverside    IL    60546  \n",
       "4          Concord    MO    63128  "
      ]
     },
     "execution_count": 35,
     "metadata": {},
     "output_type": "execute_result"
    }
   ],
   "source": [
    "output_cols = ['placekey'] + list(orig_df.columns)\n",
    "output_df = df_join_placekey[output_cols]\n",
    "\n",
    "write_path = data_path + data_filename + \"_placekeys\" + file_suffix\n",
    "output_df.to_csv(write_path, index=False)\n",
    "print(\"wrote to: \", write_path)\n",
    "output_df.head(5)"
   ]
  },
  {
   "cell_type": "markdown",
   "metadata": {},
   "source": [
    "## Advanced: What About The Rate Limit? \n",
    "\n",
    "All Placekey users have an [API rate limit](https://docs.placekey.io/#5b9b15eb-c2d4-4011-b8b2-88e353c903e0) to maintain consistent API performance. \n",
    "\n",
    ">If you exceed this, you will receive a HTTP 429 response code.\n",
    "\n",
    "And no results will be returned. \n",
    "\n",
    "\n",
    "It is easy to exceed the rate limit if you are sending many requests or if you have not optimized the batch size. \n",
    "\n",
    "If you exceed your rate limit, the function `getPlacekeys` will print a warning. By default (`autoRetry=True`) the function will slow down, and try again. If for some reason you do not want to autoRetry, you can set autoRetry=False and the function will simply not return any results when you hit exceed the rate limit (but it will still print warnings as long as `verbose=True`). \n",
    "\n",
    "### Example of Hitting the Rate Limit\n",
    "\n",
    "In the below example, I re-run the same data through the Placekey API, but instead of a batch size of 50, I  use a smaller batch size. The smaller batch size results in many more API queries and exceeds the rate limit. \n"
   ]
  },
  {
   "cell_type": "code",
   "execution_count": 60,
   "metadata": {},
   "outputs": [
    {
     "name": "stdout",
     "output_type": "stream",
     "text": [
      "RATE LIMIT SURPASSED! WAITING 5 SECONDS THEN RETRYING.\n",
      "RATE LIMIT SURPASSED! WAITING 5 SECONDS THEN RETRYING.\n",
      "RATE LIMIT SURPASSED! WAITING 5 SECONDS THEN RETRYING.\n",
      "RATE LIMIT SURPASSED! WAITING 5 SECONDS THEN RETRYING.\n",
      "RATE LIMIT SURPASSED! WAITING 5 SECONDS THEN RETRYING.\n",
      "RATE LIMIT SURPASSED! WAITING 5 SECONDS THEN RETRYING.\n",
      "RATE LIMIT SURPASSED! WAITING 5 SECONDS THEN RETRYING.\n",
      "RATE LIMIT SURPASSED! WAITING 5 SECONDS THEN RETRYING.\n",
      "RATE LIMIT SURPASSED! WAITING 5 SECONDS THEN RETRYING.\n",
      "RATE LIMIT SURPASSED! WAITING 5 SECONDS THEN RETRYING.\n",
      "RATE LIMIT SURPASSED! WAITING 5 SECONDS THEN RETRYING.\n",
      "RATE LIMIT SURPASSED! WAITING 5 SECONDS THEN RETRYING.\n",
      "RATE LIMIT SURPASSED! WAITING 5 SECONDS THEN RETRYING.\n",
      "RATE LIMIT SURPASSED! WAITING 5 SECONDS THEN RETRYING.\n",
      "RATE LIMIT SURPASSED! WAITING 5 SECONDS THEN RETRYING.\n",
      "\n",
      "\n",
      "\n",
      "total batches sent: 273\n",
      "total batches returned: 273\n",
      "length of individual batches: 2\n",
      "example individual query response:\n",
      "{'query_id': 'sg:22a7df9c14c148bb969171d93e0950c3', 'placekey': 'zzw-224@5z6-3p2-v9f'}\n",
      "\n",
      "\n",
      "number of original records:  545\n",
      "total individual queries returned: 545\n",
      "total successful query responses: 545\n"
     ]
    }
   ],
   "source": [
    "# prep data\n",
    "batches = batch_list_with_fixed_size(data_jsoned, max_batch_size=2)\n",
    "batches_json = prepare_batches_for_API(batches)\n",
    "\n",
    "# hit API\n",
    "responses = getPlacekeys(batches_json)\n",
    "\n",
    "# check results\n",
    "print(\"\\n\\n\")\n",
    "assess_api_responses(batches_json, responses)\n",
    "print(\"\\n\")\n",
    "responses_flat_cleaned = unnest_and_filter_responses(data_jsoned, responses)\n"
   ]
  },
  {
   "cell_type": "markdown",
   "metadata": {},
   "source": [
    "However, note, that if we change `autoRetry=False`, then the function will still complete (faster) but it will be missing responses because it exceeded the rate limit. Since this can lead to missing resopnses, we recommend always kepng `autoRetry=True`. "
   ]
  },
  {
   "cell_type": "code",
   "execution_count": 56,
   "metadata": {},
   "outputs": [
    {
     "name": "stdout",
     "output_type": "stream",
     "text": [
      "RATE LIMIT SURPASSED! autoRetrty=False, expect missing placekeys\n",
      "RATE LIMIT SURPASSED! autoRetrty=False, expect missing placekeys\n",
      "RATE LIMIT SURPASSED! autoRetrty=False, expect missing placekeys\n",
      "RATE LIMIT SURPASSED! autoRetrty=False, expect missing placekeys\n",
      "RATE LIMIT SURPASSED! autoRetrty=False, expect missing placekeys\n",
      "RATE LIMIT SURPASSED! autoRetrty=False, expect missing placekeys\n",
      "RATE LIMIT SURPASSED! autoRetrty=False, expect missing placekeys\n",
      "RATE LIMIT SURPASSED! autoRetrty=False, expect missing placekeys\n",
      "RATE LIMIT SURPASSED! autoRetrty=False, expect missing placekeys\n",
      "RATE LIMIT SURPASSED! autoRetrty=False, expect missing placekeys\n",
      "RATE LIMIT SURPASSED! autoRetrty=False, expect missing placekeys\n",
      "RATE LIMIT SURPASSED! autoRetrty=False, expect missing placekeys\n",
      "RATE LIMIT SURPASSED! autoRetrty=False, expect missing placekeys\n",
      "RATE LIMIT SURPASSED! autoRetrty=False, expect missing placekeys\n",
      "RATE LIMIT SURPASSED! autoRetrty=False, expect missing placekeys\n",
      "RATE LIMIT SURPASSED! autoRetrty=False, expect missing placekeys\n",
      "RATE LIMIT SURPASSED! autoRetrty=False, expect missing placekeys\n",
      "RATE LIMIT SURPASSED! autoRetrty=False, expect missing placekeys\n",
      "RATE LIMIT SURPASSED! autoRetrty=False, expect missing placekeys\n",
      "RATE LIMIT SURPASSED! autoRetrty=False, expect missing placekeys\n",
      "RATE LIMIT SURPASSED! autoRetrty=False, expect missing placekeys\n",
      "RATE LIMIT SURPASSED! autoRetrty=False, expect missing placekeys\n",
      "RATE LIMIT SURPASSED! autoRetrty=False, expect missing placekeys\n",
      "RATE LIMIT SURPASSED! autoRetrty=False, expect missing placekeys\n",
      "RATE LIMIT SURPASSED! autoRetrty=False, expect missing placekeys\n",
      "RATE LIMIT SURPASSED! autoRetrty=False, expect missing placekeys\n",
      "RATE LIMIT SURPASSED! autoRetrty=False, expect missing placekeys\n",
      "RATE LIMIT SURPASSED! autoRetrty=False, expect missing placekeys\n",
      "RATE LIMIT SURPASSED! autoRetrty=False, expect missing placekeys\n",
      "RATE LIMIT SURPASSED! autoRetrty=False, expect missing placekeys\n",
      "RATE LIMIT SURPASSED! autoRetrty=False, expect missing placekeys\n",
      "RATE LIMIT SURPASSED! autoRetrty=False, expect missing placekeys\n",
      "RATE LIMIT SURPASSED! autoRetrty=False, expect missing placekeys\n",
      "RATE LIMIT SURPASSED! autoRetrty=False, expect missing placekeys\n",
      "RATE LIMIT SURPASSED! autoRetrty=False, expect missing placekeys\n",
      "RATE LIMIT SURPASSED! autoRetrty=False, expect missing placekeys\n",
      "RATE LIMIT SURPASSED! autoRetrty=False, expect missing placekeys\n",
      "RATE LIMIT SURPASSED! autoRetrty=False, expect missing placekeys\n",
      "RATE LIMIT SURPASSED! autoRetrty=False, expect missing placekeys\n",
      "RATE LIMIT SURPASSED! autoRetrty=False, expect missing placekeys\n",
      "RATE LIMIT SURPASSED! autoRetrty=False, expect missing placekeys\n",
      "RATE LIMIT SURPASSED! autoRetrty=False, expect missing placekeys\n",
      "RATE LIMIT SURPASSED! autoRetrty=False, expect missing placekeys\n",
      "RATE LIMIT SURPASSED! autoRetrty=False, expect missing placekeys\n",
      "RATE LIMIT SURPASSED! autoRetrty=False, expect missing placekeys\n",
      "RATE LIMIT SURPASSED! autoRetrty=False, expect missing placekeys\n",
      "RATE LIMIT SURPASSED! autoRetrty=False, expect missing placekeys\n",
      "RATE LIMIT SURPASSED! autoRetrty=False, expect missing placekeys\n",
      "RATE LIMIT SURPASSED! autoRetrty=False, expect missing placekeys\n",
      "RATE LIMIT SURPASSED! autoRetrty=False, expect missing placekeys\n",
      "RATE LIMIT SURPASSED! autoRetrty=False, expect missing placekeys\n",
      "RATE LIMIT SURPASSED! autoRetrty=False, expect missing placekeys\n",
      "RATE LIMIT SURPASSED! autoRetrty=False, expect missing placekeys\n",
      "RATE LIMIT SURPASSED! autoRetrty=False, expect missing placekeys\n",
      "RATE LIMIT SURPASSED! autoRetrty=False, expect missing placekeys\n",
      "RATE LIMIT SURPASSED! autoRetrty=False, expect missing placekeys\n",
      "RATE LIMIT SURPASSED! autoRetrty=False, expect missing placekeys\n",
      "RATE LIMIT SURPASSED! autoRetrty=False, expect missing placekeys\n",
      "RATE LIMIT SURPASSED! autoRetrty=False, expect missing placekeys\n",
      "RATE LIMIT SURPASSED! autoRetrty=False, expect missing placekeys\n",
      "RATE LIMIT SURPASSED! autoRetrty=False, expect missing placekeys\n",
      "RATE LIMIT SURPASSED! autoRetrty=False, expect missing placekeys\n",
      "RATE LIMIT SURPASSED! autoRetrty=False, expect missing placekeys\n",
      "RATE LIMIT SURPASSED! autoRetrty=False, expect missing placekeys\n",
      "RATE LIMIT SURPASSED! autoRetrty=False, expect missing placekeys\n",
      "RATE LIMIT SURPASSED! autoRetrty=False, expect missing placekeys\n",
      "RATE LIMIT SURPASSED! autoRetrty=False, expect missing placekeys\n",
      "RATE LIMIT SURPASSED! autoRetrty=False, expect missing placekeys\n",
      "RATE LIMIT SURPASSED! autoRetrty=False, expect missing placekeys\n",
      "RATE LIMIT SURPASSED! autoRetrty=False, expect missing placekeys\n",
      "RATE LIMIT SURPASSED! autoRetrty=False, expect missing placekeys\n",
      "RATE LIMIT SURPASSED! autoRetrty=False, expect missing placekeys\n",
      "RATE LIMIT SURPASSED! autoRetrty=False, expect missing placekeys\n",
      "RATE LIMIT SURPASSED! autoRetrty=False, expect missing placekeys\n",
      "RATE LIMIT SURPASSED! autoRetrty=False, expect missing placekeys\n",
      "RATE LIMIT SURPASSED! autoRetrty=False, expect missing placekeys\n",
      "RATE LIMIT SURPASSED! autoRetrty=False, expect missing placekeys\n",
      "RATE LIMIT SURPASSED! autoRetrty=False, expect missing placekeys\n",
      "RATE LIMIT SURPASSED! autoRetrty=False, expect missing placekeys\n",
      "RATE LIMIT SURPASSED! autoRetrty=False, expect missing placekeys\n",
      "RATE LIMIT SURPASSED! autoRetrty=False, expect missing placekeys\n",
      "RATE LIMIT SURPASSED! autoRetrty=False, expect missing placekeys\n",
      "RATE LIMIT SURPASSED! autoRetrty=False, expect missing placekeys\n",
      "RATE LIMIT SURPASSED! autoRetrty=False, expect missing placekeys\n",
      "RATE LIMIT SURPASSED! autoRetrty=False, expect missing placekeys\n",
      "RATE LIMIT SURPASSED! autoRetrty=False, expect missing placekeys\n",
      "RATE LIMIT SURPASSED! autoRetrty=False, expect missing placekeys\n",
      "RATE LIMIT SURPASSED! autoRetrty=False, expect missing placekeys\n",
      "RATE LIMIT SURPASSED! autoRetrty=False, expect missing placekeys\n",
      "RATE LIMIT SURPASSED! autoRetrty=False, expect missing placekeys\n",
      "RATE LIMIT SURPASSED! autoRetrty=False, expect missing placekeys\n",
      "RATE LIMIT SURPASSED! autoRetrty=False, expect missing placekeys\n",
      "RATE LIMIT SURPASSED! autoRetrty=False, expect missing placekeys\n",
      "RATE LIMIT SURPASSED! autoRetrty=False, expect missing placekeys\n",
      "RATE LIMIT SURPASSED! autoRetrty=False, expect missing placekeys\n",
      "RATE LIMIT SURPASSED! autoRetrty=False, expect missing placekeys\n",
      "RATE LIMIT SURPASSED! autoRetrty=False, expect missing placekeys\n",
      "RATE LIMIT SURPASSED! autoRetrty=False, expect missing placekeys\n",
      "RATE LIMIT SURPASSED! autoRetrty=False, expect missing placekeys\n",
      "RATE LIMIT SURPASSED! autoRetrty=False, expect missing placekeys\n",
      "RATE LIMIT SURPASSED! autoRetrty=False, expect missing placekeys\n",
      "RATE LIMIT SURPASSED! autoRetrty=False, expect missing placekeys\n",
      "RATE LIMIT SURPASSED! autoRetrty=False, expect missing placekeys\n",
      "RATE LIMIT SURPASSED! autoRetrty=False, expect missing placekeys\n",
      "RATE LIMIT SURPASSED! autoRetrty=False, expect missing placekeys\n",
      "RATE LIMIT SURPASSED! autoRetrty=False, expect missing placekeys\n",
      "RATE LIMIT SURPASSED! autoRetrty=False, expect missing placekeys\n",
      "RATE LIMIT SURPASSED! autoRetrty=False, expect missing placekeys\n",
      "RATE LIMIT SURPASSED! autoRetrty=False, expect missing placekeys\n",
      "RATE LIMIT SURPASSED! autoRetrty=False, expect missing placekeys\n",
      "RATE LIMIT SURPASSED! autoRetrty=False, expect missing placekeys\n",
      "RATE LIMIT SURPASSED! autoRetrty=False, expect missing placekeys\n",
      "RATE LIMIT SURPASSED! autoRetrty=False, expect missing placekeys\n",
      "RATE LIMIT SURPASSED! autoRetrty=False, expect missing placekeys\n",
      "RATE LIMIT SURPASSED! autoRetrty=False, expect missing placekeys\n",
      "RATE LIMIT SURPASSED! autoRetrty=False, expect missing placekeys\n",
      "RATE LIMIT SURPASSED! autoRetrty=False, expect missing placekeys\n",
      "RATE LIMIT SURPASSED! autoRetrty=False, expect missing placekeys\n",
      "RATE LIMIT SURPASSED! autoRetrty=False, expect missing placekeys\n",
      "RATE LIMIT SURPASSED! autoRetrty=False, expect missing placekeys\n",
      "RATE LIMIT SURPASSED! autoRetrty=False, expect missing placekeys\n",
      "RATE LIMIT SURPASSED! autoRetrty=False, expect missing placekeys\n",
      "RATE LIMIT SURPASSED! autoRetrty=False, expect missing placekeys\n",
      "RATE LIMIT SURPASSED! autoRetrty=False, expect missing placekeys\n",
      "RATE LIMIT SURPASSED! autoRetrty=False, expect missing placekeys\n",
      "RATE LIMIT SURPASSED! autoRetrty=False, expect missing placekeys\n",
      "RATE LIMIT SURPASSED! autoRetrty=False, expect missing placekeys\n",
      "RATE LIMIT SURPASSED! autoRetrty=False, expect missing placekeys\n",
      "RATE LIMIT SURPASSED! autoRetrty=False, expect missing placekeys\n",
      "RATE LIMIT SURPASSED! autoRetrty=False, expect missing placekeys\n"
     ]
    },
    {
     "name": "stdout",
     "output_type": "stream",
     "text": [
      "RATE LIMIT SURPASSED! autoRetrty=False, expect missing placekeys\n",
      "RATE LIMIT SURPASSED! autoRetrty=False, expect missing placekeys\n",
      "RATE LIMIT SURPASSED! autoRetrty=False, expect missing placekeys\n",
      "RATE LIMIT SURPASSED! autoRetrty=False, expect missing placekeys\n",
      "RATE LIMIT SURPASSED! autoRetrty=False, expect missing placekeys\n",
      "RATE LIMIT SURPASSED! autoRetrty=False, expect missing placekeys\n",
      "RATE LIMIT SURPASSED! autoRetrty=False, expect missing placekeys\n",
      "RATE LIMIT SURPASSED! autoRetrty=False, expect missing placekeys\n",
      "RATE LIMIT SURPASSED! autoRetrty=False, expect missing placekeys\n",
      "RATE LIMIT SURPASSED! autoRetrty=False, expect missing placekeys\n",
      "RATE LIMIT SURPASSED! autoRetrty=False, expect missing placekeys\n",
      "RATE LIMIT SURPASSED! autoRetrty=False, expect missing placekeys\n",
      "RATE LIMIT SURPASSED! autoRetrty=False, expect missing placekeys\n",
      "RATE LIMIT SURPASSED! autoRetrty=False, expect missing placekeys\n",
      "RATE LIMIT SURPASSED! autoRetrty=False, expect missing placekeys\n",
      "RATE LIMIT SURPASSED! autoRetrty=False, expect missing placekeys\n",
      "RATE LIMIT SURPASSED! autoRetrty=False, expect missing placekeys\n",
      "RATE LIMIT SURPASSED! autoRetrty=False, expect missing placekeys\n",
      "RATE LIMIT SURPASSED! autoRetrty=False, expect missing placekeys\n",
      "RATE LIMIT SURPASSED! autoRetrty=False, expect missing placekeys\n",
      "RATE LIMIT SURPASSED! autoRetrty=False, expect missing placekeys\n",
      "RATE LIMIT SURPASSED! autoRetrty=False, expect missing placekeys\n",
      "RATE LIMIT SURPASSED! autoRetrty=False, expect missing placekeys\n",
      "RATE LIMIT SURPASSED! autoRetrty=False, expect missing placekeys\n",
      "RATE LIMIT SURPASSED! autoRetrty=False, expect missing placekeys\n",
      "RATE LIMIT SURPASSED! autoRetrty=False, expect missing placekeys\n",
      "RATE LIMIT SURPASSED! autoRetrty=False, expect missing placekeys\n",
      "RATE LIMIT SURPASSED! autoRetrty=False, expect missing placekeys\n",
      "RATE LIMIT SURPASSED! autoRetrty=False, expect missing placekeys\n",
      "RATE LIMIT SURPASSED! autoRetrty=False, expect missing placekeys\n",
      "RATE LIMIT SURPASSED! autoRetrty=False, expect missing placekeys\n",
      "RATE LIMIT SURPASSED! autoRetrty=False, expect missing placekeys\n",
      "RATE LIMIT SURPASSED! autoRetrty=False, expect missing placekeys\n",
      "RATE LIMIT SURPASSED! autoRetrty=False, expect missing placekeys\n",
      "RATE LIMIT SURPASSED! autoRetrty=False, expect missing placekeys\n",
      "RATE LIMIT SURPASSED! autoRetrty=False, expect missing placekeys\n",
      "RATE LIMIT SURPASSED! autoRetrty=False, expect missing placekeys\n",
      "RATE LIMIT SURPASSED! autoRetrty=False, expect missing placekeys\n",
      "RATE LIMIT SURPASSED! autoRetrty=False, expect missing placekeys\n",
      "RATE LIMIT SURPASSED! autoRetrty=False, expect missing placekeys\n",
      "RATE LIMIT SURPASSED! autoRetrty=False, expect missing placekeys\n",
      "RATE LIMIT SURPASSED! autoRetrty=False, expect missing placekeys\n",
      "RATE LIMIT SURPASSED! autoRetrty=False, expect missing placekeys\n",
      "RATE LIMIT SURPASSED! autoRetrty=False, expect missing placekeys\n",
      "RATE LIMIT SURPASSED! autoRetrty=False, expect missing placekeys\n",
      "\n",
      "\n",
      "\n",
      "total batches sent: 273\n",
      "total batches returned: 273\n",
      "length of individual batches: 2\n",
      "example individual query response:\n",
      "{'query_id': 'sg:22a7df9c14c148bb969171d93e0950c3', 'placekey': 'zzw-224@5z6-3p2-v9f'}\n",
      "\n",
      "\n",
      "number of original records:  545\n",
      "total individual queries returned: 370\n",
      "total successful query responses: 195\n"
     ]
    }
   ],
   "source": [
    "# hit API, autoRetry=False\n",
    "responses = getPlacekeys(batches_json, autoRetry=False)\n",
    "\n",
    "# check results\n",
    "print(\"\\n\\n\")\n",
    "assess_api_responses(batches_json, responses)\n",
    "print(\"\\n\")\n",
    "responses_flat_cleaned = unnest_and_filter_responses(data_jsoned, responses)\n"
   ]
  },
  {
   "cell_type": "markdown",
   "metadata": {
    "colab_type": "text",
    "id": "FM4ztONQksw7"
   },
   "source": [
    "## Success!\n",
    "\n",
    "#### Have questions or ideas? \n",
    " * Join thousands of geospatial data scientists in the [Placekey Slack Community](https://www.placekey.io/community) to get help from Placekey experts and to share your ideas.\n",
    " * Follow [Placekey on Github](https://github.com/Placekey).\n",
    " * [@placekeyio](https://twitter.com/placekeyio?lang=en).\n",
    "\n",
    "<br>\n",
    "<br>\n",
    "<br>\n",
    "<br>\n",
    "\n",
    "<a href=\"https://placekey.io/\">\n",
    "         <img src=\"https://assets.website-files.com/5f08ccbb93b299154d34ef7f/5f1e9c2bdd643e0d63967ca9_logo-placekey-black.svg\" alt=\"Placekey\" ALIGN=\"left\" width=300>\n",
    "      </a>\n",
    "\n",
    "  "
   ]
  }
 ],
 "metadata": {
  "colab": {
   "collapsed_sections": [],
   "name": "Adding Placekey to your POI dataset using python and the Placekey API.ipynb",
   "provenance": [],
   "toc_visible": true
  },
  "kernelspec": {
   "display_name": "Python 3",
   "language": "python",
   "name": "python3"
  },
  "language_info": {
   "codemirror_mode": {
    "name": "ipython",
    "version": 3
   },
   "file_extension": ".py",
   "mimetype": "text/x-python",
   "name": "python",
   "nbconvert_exporter": "python",
   "pygments_lexer": "ipython3",
   "version": "3.7.4"
  }
 },
 "nbformat": 4,
 "nbformat_minor": 1
}
