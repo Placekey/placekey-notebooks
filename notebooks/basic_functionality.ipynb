{
 "cells": [
  {
   "cell_type": "markdown",
   "metadata": {},
   "source": [
    "# Basic Placekey Functionality"
   ]
  },
  {
   "cell_type": "markdown",
   "metadata": {},
   "source": [
    "### Install and load the Placekey library"
   ]
  },
  {
   "cell_type": "markdown",
   "metadata": {},
   "source": [
    "If placekey is not installed on your system you can install it and other dependencies for the notebooks in this repo by running\n",
    "```\n",
    "pip install -r requirements.txt\n",
    "```\n",
    "\n",
    "or from a notebook run\n",
    "```\n",
    "!pip install placekey folium shapely geopandas numpy awscli\n",
    "```"
   ]
  },
  {
   "cell_type": "code",
   "execution_count": 1,
   "metadata": {},
   "outputs": [],
   "source": [
    "import placekey as pk\n",
    "import h3 as h3"
   ]
  },
  {
   "cell_type": "markdown",
   "metadata": {},
   "source": [
    "### Conversion between Placekeys and latitude and longitude"
   ]
  },
  {
   "cell_type": "markdown",
   "metadata": {},
   "source": [
    "The most basic functionality of the library is converting between Placekeys and latitude/longitude"
   ]
  },
  {
   "cell_type": "code",
   "execution_count": 2,
   "metadata": {},
   "outputs": [
    {
     "name": "stdout",
     "output_type": "stream",
     "text": [
      "The Placekey for the location of SF City Hall is \"@5vg-7gq-tjv\".\n",
      "The latitude and longitude for the center of \"@5vg-7gq-tjv\" is (37.77988951810222, -122.41864762076004).\n"
     ]
    }
   ],
   "source": [
    "geo = (37.779351, -122.418655)  # The front door of SF City Hall\n",
    "\n",
    "placekey = pk.geo_to_placekey(*geo)\n",
    "print('The Placekey for the location of SF City Hall is \"{}\".'.format(placekey))\n",
    "\n",
    "centroid_lat, centroid_long = pk.placekey_to_geo(placekey)\n",
    "print('The latitude and longitude for the center of \"{}\" is ({}, {}).'.format(placekey, centroid_lat, centroid_long))"
   ]
  },
  {
   "cell_type": "markdown",
   "metadata": {},
   "source": [
    "### Conversion between Placekeys and H3 indices"
   ]
  },
  {
   "cell_type": "markdown",
   "metadata": {},
   "source": [
    "Since the location portion (Where Part) of a Placekey is based on H3, there are also functions for converting back and forth between Plackeys and H3 indices. These H3 indices are always resolution 10. There is also support for working with integer representation of H3 indices as well as the string representation."
   ]
  },
  {
   "cell_type": "code",
   "execution_count": 3,
   "metadata": {},
   "outputs": [
    {
     "name": "stdout",
     "output_type": "stream",
     "text": [
      "The H3 index corresponding to \"@5vg-7gq-tjv\" is \"8a2830828747fff\".\n",
      "\"8a2830828747fff\" has resolution 10.\n",
      "The integer H3 index corresponding to \"@5vg-7gq-tjv\" is 622203769592250367.\n"
     ]
    }
   ],
   "source": [
    "h3_for_placekey = pk.placekey_to_h3(placekey)\n",
    "print('The H3 index corresponding to \"{}\" is \"{}\".'.format(placekey, h3_for_placekey))\n",
    "print('\"{}\" has resolution {}.'.format(h3_for_placekey, h3.h3_get_resolution(h3_for_placekey)))\n",
    "\n",
    "h3_int_for_placekey = pk.placekey_to_h3_int(placekey)\n",
    "print('The integer H3 index corresponding to \"{}\" is {}.'.format(placekey, h3_int_for_placekey))"
   ]
  },
  {
   "cell_type": "markdown",
   "metadata": {},
   "source": [
    "## Converting Placekeys to spatial geometry formats"
   ]
  },
  {
   "cell_type": "markdown",
   "metadata": {},
   "source": [
    "Often when working with Placekeys it is useful to be able to visualize the corresponding hexagon or to operate with that hexagon and other spatial geometries. To that end we've provided funtionality to convert placekeys into several formats for specifying geometric shapes:\n",
    "1. Hexagon boundary coordinates,\n",
    "2. WKT (Weel-Known Text) string for the hexagon boundary,\n",
    "3. GeoJSON dictionary for the hexagon boundary,\n",
    "4. Shapely Polygon object for the hexagon boundary.\n",
    "\n",
    "There are also functions for converting geometric shapes in these formats into lists of Placekeys. See the [advanced functionality notebook]() for examples "
   ]
  },
  {
   "cell_type": "code",
   "execution_count": 4,
   "metadata": {},
   "outputs": [
    {
     "data": {
      "text/plain": [
       "((37.77921928451977, -122.41844077039543),\n",
       " (37.77972548542876, -122.41780166521563),\n",
       " (37.78039571852498, -122.41800851332172),\n",
       " (37.780559746916104, -122.41885447351558),\n",
       " (37.78005354361958, -122.41949357434298),\n",
       " (37.77938331431949, -122.41928671932915))"
      ]
     },
     "execution_count": 4,
     "metadata": {},
     "output_type": "execute_result"
    }
   ],
   "source": [
    "pk.placekey_to_hex_boundary(placekey)"
   ]
  },
  {
   "cell_type": "code",
   "execution_count": 5,
   "metadata": {},
   "outputs": [
    {
     "data": {
      "text/plain": [
       "'POLYGON ((37.77921928451977 -122.4184407703954, 37.77938331431949 -122.4192867193292, 37.78005354361958 -122.419493574343, 37.7805597469161 -122.4188544735156, 37.78039571852498 -122.4180085133217, 37.77972548542876 -122.4178016652156, 37.77921928451977 -122.4184407703954))'"
      ]
     },
     "execution_count": 5,
     "metadata": {},
     "output_type": "execute_result"
    }
   ],
   "source": [
    "pk.placekey_to_wkt(placekey)"
   ]
  },
  {
   "cell_type": "code",
   "execution_count": 6,
   "metadata": {},
   "outputs": [
    {
     "data": {
      "text/plain": [
       "{'type': 'Polygon',\n",
       " 'coordinates': (((-122.41844077039543, 37.77921928451977),\n",
       "   (-122.41780166521563, 37.77972548542876),\n",
       "   (-122.41800851332172, 37.78039571852498),\n",
       "   (-122.41885447351558, 37.780559746916104),\n",
       "   (-122.41949357434298, 37.78005354361958),\n",
       "   (-122.41928671932915, 37.77938331431949),\n",
       "   (-122.41844077039543, 37.77921928451977)),)}"
      ]
     },
     "execution_count": 6,
     "metadata": {},
     "output_type": "execute_result"
    }
   ],
   "source": [
    "pk.placekey_to_geojson(placekey)"
   ]
  },
  {
   "cell_type": "code",
   "execution_count": 7,
   "metadata": {},
   "outputs": [
    {
     "data": {
      "image/svg+xml": [
       "<svg xmlns=\"http://www.w3.org/2000/svg\" xmlns:xlink=\"http://www.w3.org/1999/xlink\" width=\"100.0\" height=\"100.0\" viewBox=\"37.77915160815468 -122.41956125070807 0.0014758151265183983 0.0018272618575281285\" preserveAspectRatio=\"xMinYMin meet\"><g transform=\"matrix(1,0,0,-1,0,-244.8372952395586)\"><path fill-rule=\"evenodd\" fill=\"#66cc99\" stroke=\"#555555\" stroke-width=\"3.654523715056257e-05\" opacity=\"0.6\" d=\"M 37.77921928451977,-122.41844077039543 L 37.77938331431949,-122.41928671932915 L 37.78005354361958,-122.41949357434298 L 37.780559746916104,-122.41885447351558 L 37.78039571852498,-122.41800851332172 L 37.77972548542876,-122.41780166521563 L 37.77921928451977,-122.41844077039543 z\" /></g></svg>"
      ],
      "text/plain": [
       "<shapely.geometry.polygon.Polygon at 0x12101ffd0>"
      ]
     },
     "execution_count": 7,
     "metadata": {},
     "output_type": "execute_result"
    }
   ],
   "source": [
    "pk.placekey_to_polygon(placekey)"
   ]
  }
 ],
 "metadata": {
  "kernelspec": {
   "display_name": "Python 3",
   "language": "python",
   "name": "python3"
  },
  "language_info": {
   "codemirror_mode": {
    "name": "ipython",
    "version": 3
   },
   "file_extension": ".py",
   "mimetype": "text/x-python",
   "name": "python",
   "nbconvert_exporter": "python",
   "pygments_lexer": "ipython3",
   "version": "3.8.5"
  }
 },
 "nbformat": 4,
 "nbformat_minor": 4
}
