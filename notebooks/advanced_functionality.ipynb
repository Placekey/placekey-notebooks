{
 "cells": [
  {
   "cell_type": "markdown",
   "metadata": {},
   "source": [
    "# Advanced Placekey Spatial Functionality"
   ]
  },
  {
   "cell_type": "markdown",
   "metadata": {},
   "source": [
    "### Install and load the Placekey library"
   ]
  },
  {
   "cell_type": "markdown",
   "metadata": {},
   "source": [
    "If placekey is not installed on your system you can install it and other dependencies for the notebooks in this repo by running\n",
    "```\n",
    "pip install -r requirements.txt\n",
    "```\n",
    "\n",
    "or from a notebook run\n",
    "```\n",
    "!pip install placekey folium shapely geopandas numpy awscli\n",
    "```"
   ]
  },
  {
   "cell_type": "code",
   "execution_count": null,
   "metadata": {
    "scrolled": true
   },
   "outputs": [],
   "source": [
    "import placekey as pk\n",
    "import geopandas as gpd\n",
    "import numpy as np\n",
    "import folium"
   ]
  },
  {
   "cell_type": "markdown",
   "metadata": {},
   "source": [
    "## Approximating regions with Placekeys"
   ]
  },
  {
   "cell_type": "markdown",
   "metadata": {},
   "source": [
    "Census block group (CBG) geometries for California. The original file and more are available from the [Census website](https://www.census.gov/geographies/mapping-files/time-series/geo/tiger-line-file.html).\n",
    "\n",
    "We are going to be copying these from the the Placekey public AWS bucket at: `s3://safegraph-public/placekey/notebook-resources/advanced-functionality-notebook/`\n",
    "\n",
    "However, if you are running this with the github repo, you can find the files under `data/CA_2019_census_block_groups_sample/` directory."
   ]
  },
  {
   "cell_type": "code",
   "execution_count": null,
   "metadata": {},
   "outputs": [],
   "source": [
    "!aws s3 --no-sign-request cp s3://safegraph-public/placekey/notebook-resources/advanced-functionality-notebook/CA_2019_census_block_groups_sample.cpg ../data/CA_2019_census_block_groups_sample/\n",
    "!aws s3 --no-sign-request cp s3://safegraph-public/placekey/notebook-resources/advanced-functionality-notebook/CA_2019_census_block_groups_sample.dbf ../data/CA_2019_census_block_groups_sample/\n",
    "!aws s3 --no-sign-request cp s3://safegraph-public/placekey/notebook-resources/advanced-functionality-notebook/CA_2019_census_block_groups_sample.prj ../data/CA_2019_census_block_groups_sample/\n",
    "!aws s3 --no-sign-request cp s3://safegraph-public/placekey/notebook-resources/advanced-functionality-notebook/CA_2019_census_block_groups_sample.shp ../data/CA_2019_census_block_groups_sample/\n",
    "!aws s3 --no-sign-request cp s3://safegraph-public/placekey/notebook-resources/advanced-functionality-notebook/CA_2019_census_block_groups_sample.shx ../data/CA_2019_census_block_groups_sample/"
   ]
  },
  {
   "cell_type": "code",
   "execution_count": null,
   "metadata": {},
   "outputs": [],
   "source": [
    "cbgs = gpd.read_file('../data/CA_2019_census_block_groups_sample/').set_index('GEOID')\n",
    "cbgs.head()"
   ]
  },
  {
   "cell_type": "markdown",
   "metadata": {},
   "source": [
    " The row with `GEOID == 060750124022` corresponds to the CBG that contains San Francisco City Hall, which is the one we want to approximate. GeoPandas stores the geometry of the CBGs in the `geometry` column as Shapely Polygons."
   ]
  },
  {
   "cell_type": "code",
   "execution_count": null,
   "metadata": {},
   "outputs": [],
   "source": [
    "cbg_geometry = cbgs.loc['060750124022']['geometry']\n",
    "cbg_geometry"
   ]
  },
  {
   "cell_type": "markdown",
   "metadata": {},
   "source": [
    "It's nice that Shapely draws the polygon for us, but let's see what it looks like on a map."
   ]
  },
  {
   "cell_type": "code",
   "execution_count": null,
   "metadata": {},
   "outputs": [],
   "source": [
    "cbg_centroid = next(zip(*cbg_geometry.centroid.xy))  # This is a (long, lat) tuple\n",
    "cbg_map = folium.Map(cbg_centroid[::-1], zoom_start=16, tiles='cartodbpositron')\n",
    "folium.GeoJson(cbg_geometry).add_to(cbg_map)\n",
    "cbg_map"
   ]
  },
  {
   "cell_type": "markdown",
   "metadata": {},
   "source": [
    "The function `polygon_to_placekeys()` generates the set of Placekeys which cover a given polygon. This set is split into two disjoint subsets:\n",
    "\n",
    "* **interior**: Placekeys with 100% of their area contained in the polygon,\n",
    "* **boundary**: Placekeys with more than 0% but less tahn 100% of their area contained in the polygon.\n",
    "    \n",
    "There is an optional parameter for this function, `include_touching`, which when `True` will include Placekeys that intersect the polygon, but have 0% of their area contained in the polygon (e.g. they only share boundary points). In case you are working with polygons specified by WKTs or GeoJSONs, there are equivalent functions for those input types (`wkt_to_placekeys()` and `geojson_to_placekeys()`)."
   ]
  },
  {
   "cell_type": "code",
   "execution_count": null,
   "metadata": {},
   "outputs": [],
   "source": [
    "covering_placekeys = pk.polygon_to_placekeys(cbg_geometry, geo_json=True)\n",
    "covering_placekeys"
   ]
  },
  {
   "cell_type": "markdown",
   "metadata": {},
   "source": [
    "Before we continue, here's a function for plotting Placekeys. It can be used on its own, or passed another Folium map to add the Placekeys to."
   ]
  },
  {
   "cell_type": "code",
   "execution_count": null,
   "metadata": {},
   "outputs": [],
   "source": [
    "def draw_placekeys(placekey_values, zoom_start=18, folium_map=None, hex_color='lightblue', weight=2, labels=False):\n",
    "    \"\"\"\n",
    "    :param placekey_values: A list of Placekey strings\n",
    "    :param zoom_start: Folium zoom level. 18 is suitable for neighboring resolution 10 H3s.\n",
    "    :folium_map: A Folium map object to add the Placekeys to\n",
    "    :labels: Whether or not to add labels for Placekeys\n",
    "    :return: a Folium map object\n",
    "    \n",
    "    \"\"\"\n",
    "    geos = [pk.placekey_to_geo(p) for p in placekey_values]\n",
    "    hexagons = [pk.placekey_to_hex_boundary(p) for p in placekey_values]\n",
    "\n",
    "    if folium_map is None:\n",
    "        centroid = np.mean(geos, axis=0)\n",
    "        folium_map = folium.Map((centroid[0], centroid[1]), zoom_start=zoom_start, tiles='cartodbpositron')\n",
    "\n",
    "    for h in hexagons:\n",
    "        folium.Polygon(\n",
    "            locations=h,\n",
    "            weight=weight,\n",
    "            color=hex_color\n",
    "        ).add_to(folium_map)\n",
    "        \n",
    "    if labels:\n",
    "        for p, g in zip(placekey_values, geos):\n",
    "            icon = folium.features.DivIcon(\n",
    "                icon_size=(120, 36),\n",
    "                icon_anchor=(60, 15),\n",
    "                html='<div style=\"align: center; font-size: 12pt; background-color: lightblue; border-radius: 5px; padding: 2px\">{}</div>'.format(p),\n",
    "            )\n",
    "            \n",
    "            folium.map.Marker(\n",
    "                [g[0], g[1]],\n",
    "                icon=icon\n",
    "            ).add_to(folium_map)\n",
    "        \n",
    "    return folium_map"
   ]
  },
  {
   "cell_type": "code",
   "execution_count": null,
   "metadata": {},
   "outputs": [],
   "source": [
    "pk_cbg_map = draw_placekeys(covering_placekeys['boundary'], folium_map=cbg_map, hex_color='orange')\n",
    "pk_cbg_map = draw_placekeys(covering_placekeys['interior'], folium_map=pk_cbg_map, hex_color='red')\n",
    "\n",
    "pk_cbg_map"
   ]
  },
  {
   "cell_type": "markdown",
   "metadata": {},
   "source": [
    "## Proximity of Placekeys"
   ]
  },
  {
   "cell_type": "markdown",
   "metadata": {},
   "source": [
    "Similar Placekeys are physically close to each other, and often physically close places will have similar Placekeys (this won't always be true since we're trying to cover the earth with a linear ordering of codes). Below is our earlier example with Placekeys labelled by their Where part."
   ]
  },
  {
   "cell_type": "code",
   "execution_count": null,
   "metadata": {},
   "outputs": [],
   "source": [
    "draw_placekeys(\n",
    "    covering_placekeys['interior'] + covering_placekeys['boundary'],\n",
    "    zoom_start=17, labels=True\n",
    ")"
   ]
  },
  {
   "cell_type": "markdown",
   "metadata": {},
   "source": [
    "We provide a function for explicitly computing the distance in meters between two Placekeys based on the centers of the Where parts."
   ]
  },
  {
   "cell_type": "code",
   "execution_count": null,
   "metadata": {},
   "outputs": [],
   "source": [
    "pk.placekey_distance('@5vg-7gq-dn5', '@5vg-7gq-t9z')"
   ]
  },
  {
   "cell_type": "markdown",
   "metadata": {},
   "source": [
    "The library also contains a table of the maximal distance in meters between two Placekeys based on the length of their common prefix."
   ]
  },
  {
   "cell_type": "code",
   "execution_count": null,
   "metadata": {},
   "outputs": [],
   "source": [
    "pk.get_prefix_distance_dict()"
   ]
  },
  {
   "cell_type": "markdown",
   "metadata": {},
   "source": [
    "## Outputing Placekeys to geometry formats"
   ]
  },
  {
   "cell_type": "markdown",
   "metadata": {},
   "source": [
    "In case of a need to either visualize Placekeys or to serialize their shape in a data file, the Placekey library has several output options for the geometry of a Placekey. The Placekey library by default\n",
    "1. represents points as (latitudue, longitude)\n",
    "2. orients the boundaries of polygons counter-clockwise\n",
    "\n",
    "The GeoJSON format represents points as (longitude, latitude), so all output functions have a parameter `geo_json` which when `True` will cause points to be output in this format. Setting this flag will also cause list of boundary points to have the first and last entry the same. Functions with `geojson` in their name have `geo_json=True` by default, while other functions have `geo_json=False` by default. This difference is easy to spot with `placekey_to_hex_boundary()`."
   ]
  },
  {
   "cell_type": "code",
   "execution_count": null,
   "metadata": {},
   "outputs": [],
   "source": [
    "pk.placekey_to_hex_boundary('@5vg-7gq-tjv')"
   ]
  },
  {
   "cell_type": "code",
   "execution_count": null,
   "metadata": {},
   "outputs": [],
   "source": [
    "pk.placekey_to_hex_boundary('@5vg-7gq-tjv', geo_json=True)"
   ]
  },
  {
   "cell_type": "markdown",
   "metadata": {},
   "source": [
    "Placekeys can also be output to [Shapely](https://shapely.readthedocs.io/en/latest/project.html) polygons, [WKT (Well-Known Text)](https://en.wikipedia.org/wiki/Well-known_text_representation_of_geometry), and [GeoJSON](https://geojson.org/) dictionaries."
   ]
  },
  {
   "cell_type": "code",
   "execution_count": null,
   "metadata": {},
   "outputs": [],
   "source": [
    "pk.placekey_to_polygon('@5vg-7gq-tjv')"
   ]
  },
  {
   "cell_type": "code",
   "execution_count": null,
   "metadata": {},
   "outputs": [],
   "source": [
    "pk.placekey_to_wkt('@5vg-7gq-tjv')"
   ]
  },
  {
   "cell_type": "code",
   "execution_count": null,
   "metadata": {},
   "outputs": [],
   "source": [
    "pk.placekey_to_geojson('@5vg-7gq-tjv')"
   ]
  },
  {
   "cell_type": "markdown",
   "metadata": {},
   "source": [
    "## Validating Placekeys"
   ]
  },
  {
   "cell_type": "markdown",
   "metadata": {},
   "source": [
    "The Plackey library can validate the format of Placekeys and the Where part (e.g. \"@5vg-7gq-tjv\"). Validation of the What part (e.g. \"223-227@\") can be done via the [Placekey service API](https://docs.placekey.io/)."
   ]
  },
  {
   "cell_type": "code",
   "execution_count": null,
   "metadata": {},
   "outputs": [],
   "source": [
    "pk.placekey_format_is_valid(\"223-227@5vg-7gq-tjv\")"
   ]
  },
  {
   "cell_type": "code",
   "execution_count": null,
   "metadata": {},
   "outputs": [],
   "source": [
    "pk.placekey_format_is_valid(\"223-227@ima-bad-key\")"
   ]
  }
 ],
 "metadata": {
  "kernelspec": {
   "display_name": "Python 3 (ipykernel)",
   "language": "python",
   "name": "python3"
  },
  "language_info": {
   "codemirror_mode": {
    "name": "ipython",
    "version": 3
   },
   "file_extension": ".py",
   "mimetype": "text/x-python",
   "name": "python",
   "nbconvert_exporter": "python",
   "pygments_lexer": "ipython3",
   "version": "3.9.13"
  }
 },
 "nbformat": 4,
 "nbformat_minor": 4
}
