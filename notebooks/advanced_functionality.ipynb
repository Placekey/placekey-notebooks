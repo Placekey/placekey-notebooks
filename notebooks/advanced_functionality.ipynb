{
 "cells": [
  {
   "cell_type": "markdown",
   "metadata": {},
   "source": [
    "# Advanced Functionality"
   ]
  },
  {
   "cell_type": "code",
   "execution_count": 1,
   "metadata": {},
   "outputs": [],
   "source": [
    "import placekey as pk\n",
    "import geopandas as gpd\n",
    "import numpy as np\n",
    "import folium"
   ]
  },
  {
   "cell_type": "markdown",
   "metadata": {},
   "source": [
    "## Approximating regions with Placekeys"
   ]
  },
  {
   "cell_type": "markdown",
   "metadata": {},
   "source": [
    "We've included a data file that contains Census block group (CBG) geometries for California. The original file and more are available from the [Census website](https://www.census.gov/geographies/mapping-files/time-series/geo/tiger-line-file.html)."
   ]
  },
  {
   "cell_type": "code",
   "execution_count": 2,
   "metadata": {},
   "outputs": [
    {
     "data": {
      "text/html": [
       "<div>\n",
       "<style scoped>\n",
       "    .dataframe tbody tr th:only-of-type {\n",
       "        vertical-align: middle;\n",
       "    }\n",
       "\n",
       "    .dataframe tbody tr th {\n",
       "        vertical-align: top;\n",
       "    }\n",
       "\n",
       "    .dataframe thead th {\n",
       "        text-align: right;\n",
       "    }\n",
       "</style>\n",
       "<table border=\"1\" class=\"dataframe\">\n",
       "  <thead>\n",
       "    <tr style=\"text-align: right;\">\n",
       "      <th></th>\n",
       "      <th>STATEFP</th>\n",
       "      <th>COUNTYFP</th>\n",
       "      <th>TRACTCE</th>\n",
       "      <th>BLKGRPCE</th>\n",
       "      <th>NAMELSAD</th>\n",
       "      <th>MTFCC</th>\n",
       "      <th>FUNCSTAT</th>\n",
       "      <th>ALAND</th>\n",
       "      <th>AWATER</th>\n",
       "      <th>INTPTLAT</th>\n",
       "      <th>INTPTLON</th>\n",
       "      <th>geometry</th>\n",
       "    </tr>\n",
       "    <tr>\n",
       "      <th>GEOID</th>\n",
       "      <th></th>\n",
       "      <th></th>\n",
       "      <th></th>\n",
       "      <th></th>\n",
       "      <th></th>\n",
       "      <th></th>\n",
       "      <th></th>\n",
       "      <th></th>\n",
       "      <th></th>\n",
       "      <th></th>\n",
       "      <th></th>\n",
       "      <th></th>\n",
       "    </tr>\n",
       "  </thead>\n",
       "  <tbody>\n",
       "    <tr>\n",
       "      <th>060750122012</th>\n",
       "      <td>06</td>\n",
       "      <td>075</td>\n",
       "      <td>012201</td>\n",
       "      <td>2</td>\n",
       "      <td>Block Group 2</td>\n",
       "      <td>G5030</td>\n",
       "      <td>S</td>\n",
       "      <td>30528</td>\n",
       "      <td>0</td>\n",
       "      <td>+37.7849116</td>\n",
       "      <td>-122.4161659</td>\n",
       "      <td>POLYGON ((-122.41790 37.78517, -122.41626 37.7...</td>\n",
       "    </tr>\n",
       "    <tr>\n",
       "      <th>060750124012</th>\n",
       "      <td>06</td>\n",
       "      <td>075</td>\n",
       "      <td>012401</td>\n",
       "      <td>2</td>\n",
       "      <td>Block Group 2</td>\n",
       "      <td>G5030</td>\n",
       "      <td>S</td>\n",
       "      <td>45978</td>\n",
       "      <td>0</td>\n",
       "      <td>+37.7831562</td>\n",
       "      <td>-122.4149685</td>\n",
       "      <td>POLYGON ((-122.41607 37.78445, -122.41478 37.7...</td>\n",
       "    </tr>\n",
       "    <tr>\n",
       "      <th>060750124023</th>\n",
       "      <td>06</td>\n",
       "      <td>075</td>\n",
       "      <td>012402</td>\n",
       "      <td>3</td>\n",
       "      <td>Block Group 3</td>\n",
       "      <td>G5030</td>\n",
       "      <td>S</td>\n",
       "      <td>62826</td>\n",
       "      <td>0</td>\n",
       "      <td>+37.7830940</td>\n",
       "      <td>-122.4192115</td>\n",
       "      <td>POLYGON ((-122.42107 37.78382, -122.42093 37.7...</td>\n",
       "    </tr>\n",
       "    <tr>\n",
       "      <th>060750126021</th>\n",
       "      <td>06</td>\n",
       "      <td>075</td>\n",
       "      <td>012602</td>\n",
       "      <td>1</td>\n",
       "      <td>Block Group 1</td>\n",
       "      <td>G5030</td>\n",
       "      <td>S</td>\n",
       "      <td>248192</td>\n",
       "      <td>544217</td>\n",
       "      <td>+37.8064743</td>\n",
       "      <td>-122.4356584</td>\n",
       "      <td>POLYGON ((-122.44308 37.80973, -122.43008 37.8...</td>\n",
       "    </tr>\n",
       "    <tr>\n",
       "      <th>060750129011</th>\n",
       "      <td>06</td>\n",
       "      <td>075</td>\n",
       "      <td>012901</td>\n",
       "      <td>1</td>\n",
       "      <td>Block Group 1</td>\n",
       "      <td>G5030</td>\n",
       "      <td>S</td>\n",
       "      <td>90524</td>\n",
       "      <td>0</td>\n",
       "      <td>+37.8010280</td>\n",
       "      <td>-122.4270595</td>\n",
       "      <td>POLYGON ((-122.42967 37.80165, -122.42802 37.8...</td>\n",
       "    </tr>\n",
       "  </tbody>\n",
       "</table>\n",
       "</div>"
      ],
      "text/plain": [
       "             STATEFP COUNTYFP TRACTCE BLKGRPCE       NAMELSAD  MTFCC FUNCSTAT  \\\n",
       "GEOID                                                                           \n",
       "060750122012      06      075  012201        2  Block Group 2  G5030        S   \n",
       "060750124012      06      075  012401        2  Block Group 2  G5030        S   \n",
       "060750124023      06      075  012402        3  Block Group 3  G5030        S   \n",
       "060750126021      06      075  012602        1  Block Group 1  G5030        S   \n",
       "060750129011      06      075  012901        1  Block Group 1  G5030        S   \n",
       "\n",
       "               ALAND  AWATER     INTPTLAT      INTPTLON  \\\n",
       "GEOID                                                     \n",
       "060750122012   30528       0  +37.7849116  -122.4161659   \n",
       "060750124012   45978       0  +37.7831562  -122.4149685   \n",
       "060750124023   62826       0  +37.7830940  -122.4192115   \n",
       "060750126021  248192  544217  +37.8064743  -122.4356584   \n",
       "060750129011   90524       0  +37.8010280  -122.4270595   \n",
       "\n",
       "                                                       geometry  \n",
       "GEOID                                                            \n",
       "060750122012  POLYGON ((-122.41790 37.78517, -122.41626 37.7...  \n",
       "060750124012  POLYGON ((-122.41607 37.78445, -122.41478 37.7...  \n",
       "060750124023  POLYGON ((-122.42107 37.78382, -122.42093 37.7...  \n",
       "060750126021  POLYGON ((-122.44308 37.80973, -122.43008 37.8...  \n",
       "060750129011  POLYGON ((-122.42967 37.80165, -122.42802 37.8...  "
      ]
     },
     "execution_count": 2,
     "metadata": {},
     "output_type": "execute_result"
    }
   ],
   "source": [
    "cbgs = gpd.read_file('../data/CA_2019_census_block_groups_sample/').set_index('GEOID')\n",
    "cbgs.head()"
   ]
  },
  {
   "cell_type": "markdown",
   "metadata": {},
   "source": [
    " The row with `GEOID == 060750124022` corresponds to the CBG that contains San Francisco City Hall, which is the one we want to approximate. GeoPandas stores the geometry of the CBGs in the `geometry` column as Shapely Polygons."
   ]
  },
  {
   "cell_type": "code",
   "execution_count": 3,
   "metadata": {},
   "outputs": [
    {
     "data": {
      "image/svg+xml": [
       "<svg xmlns=\"http://www.w3.org/2000/svg\" xmlns:xlink=\"http://www.w3.org/1999/xlink\" width=\"100.0\" height=\"100.0\" viewBox=\"-122.42097575999999 37.77492324 0.0049705199999863225 0.007742520000000752\" preserveAspectRatio=\"xMinYMin meet\"><g transform=\"matrix(1,0,0,-1,0,75.55758900000001)\"><path fill-rule=\"evenodd\" fill=\"#66cc99\" stroke=\"#555555\" stroke-width=\"0.00015485040000001504\" opacity=\"0.6\" d=\"M -122.420689,37.781954999999996 L -122.420541,37.781973 L -122.418993,37.782168999999996 L -122.417339,37.782379 L -122.417146,37.781447 L -122.41694799999999,37.78047 L -122.41676799999999,37.779584 L -122.41658,37.778658 L -122.41640100000001,37.777723 L -122.416292,37.777494 L -122.417615,37.7766 L -122.41870399999999,37.775645 L -122.419219,37.775316 L -122.41931,37.775233 L -122.41933399999999,37.77521 L -122.419359,37.775431999999995 L -122.419432,37.775908 L -122.419542,37.776364 L -122.419765,37.777291 L -122.419788,37.777387 L -122.41985700000001,37.777732 L -122.419934,37.77812 L -122.419943,37.778238 L -122.420358,37.780072 L -122.420542,37.781017999999996 L -122.420689,37.781954999999996 z\" /></g></svg>"
      ],
      "text/plain": [
       "<shapely.geometry.polygon.Polygon at 0x120debc10>"
      ]
     },
     "execution_count": 3,
     "metadata": {},
     "output_type": "execute_result"
    }
   ],
   "source": [
    "cbg_geometry = cbgs.loc['060750124022']['geometry']\n",
    "cbg_geometry"
   ]
  },
  {
   "cell_type": "markdown",
   "metadata": {},
   "source": [
    "It's nice that Shapely draws the polygon for us, but let's see what it looks like on a map."
   ]
  },
  {
   "cell_type": "code",
   "execution_count": 4,
   "metadata": {},
   "outputs": [
    {
     "data": {
      "text/html": [
       "<div style=\"width:100%;\"><div style=\"position:relative;width:100%;height:0;padding-bottom:60%;\"><span style=\"color:#565656\">Make this Notebook Trusted to load map: File -> Trust Notebook</span><iframe src=\"about:blank\" style=\"position:absolute;width:100%;height:100%;left:0;top:0;border:none !important;\" data-html=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 onload=\"this.contentDocument.open();this.contentDocument.write(atob(this.getAttribute('data-html')));this.contentDocument.close();\" allowfullscreen webkitallowfullscreen mozallowfullscreen></iframe></div></div>"
      ],
      "text/plain": [
       "<folium.folium.Map at 0x120ec8c70>"
      ]
     },
     "execution_count": 4,
     "metadata": {},
     "output_type": "execute_result"
    }
   ],
   "source": [
    "cbg_centroid = next(zip(*cbg_geometry.centroid.xy))  # This is a (long, lat) tuple\n",
    "cbg_map = folium.Map(cbg_centroid[::-1], zoom_start=16, tiles='cartodbpositron')\n",
    "folium.GeoJson(cbg_geometry).add_to(cbg_map)\n",
    "cbg_map"
   ]
  },
  {
   "cell_type": "markdown",
   "metadata": {},
   "source": [
    "The function `polygon_to_placekeys()` generates the set of Placekeys which cover a given polygon. This set is split into two disjoint subsets:\n",
    "\n",
    "* **interior**: Placekeys with 100% of their area contained in the polygon,\n",
    "* **boundary**: Placekeys with more than 0% but less tahn 100% of their area contained in the polygon.\n",
    "    \n",
    "There is an optional parameter for this function, `include_touching`, which when `True` will include Placekeys that intersect the polygon, but have 0% of their area contained in the polygon (e.g. they only share boundary points). In case you are working with polygons specified by WKTs or GeoJSONs, there are equivalent functions for those input types (`wkt_to_placekeys()` and `geojson_to_placekeys()`)."
   ]
  },
  {
   "cell_type": "code",
   "execution_count": 5,
   "metadata": {},
   "outputs": [
    {
     "data": {
      "text/plain": [
       "{'interior': ('@5vg-7gq-tvz',\n",
       "  '@5vg-7gq-tjv',\n",
       "  '@5vg-7gq-v2k',\n",
       "  '@5vg-7gq-tsq',\n",
       "  '@5vg-7gq-7t9'),\n",
       " 'boundary': ('@5vg-7gq-t7q',\n",
       "  '@5vg-7gq-7wk',\n",
       "  '@5vg-7gq-7kf',\n",
       "  '@5vg-7gq-r8v',\n",
       "  '@5vg-7gq-tn5',\n",
       "  '@5vg-7gq-qpv',\n",
       "  '@5vg-7gq-ty9',\n",
       "  '@5vg-7gq-t9z',\n",
       "  '@5vg-7gq-syv',\n",
       "  '@5vg-7gq-7yv',\n",
       "  '@5vg-7gq-rff',\n",
       "  '@5vg-7gq-tqf',\n",
       "  '@5vg-7gq-dn5',\n",
       "  '@5vg-7gq-d9z',\n",
       "  '@5vg-7gq-gx5',\n",
       "  '@5vg-7gq-7nq',\n",
       "  '@5vg-7gq-7qz')}"
      ]
     },
     "execution_count": 5,
     "metadata": {},
     "output_type": "execute_result"
    }
   ],
   "source": [
    "covering_placekeys = pk.polygon_to_placekeys(cbg_geometry, geo_json=True)\n",
    "covering_placekeys"
   ]
  },
  {
   "cell_type": "markdown",
   "metadata": {},
   "source": [
    "Before we continue, here's a function for plotting Placekeys. It can be used on its own, or passed another Folium map to add the Placekeys to."
   ]
  },
  {
   "cell_type": "code",
   "execution_count": 6,
   "metadata": {},
   "outputs": [],
   "source": [
    "def draw_placekeys(placekey_values, zoom_start=18, folium_map=None, hex_color='lightblue', weight=2, labels=False):\n",
    "    \"\"\"\n",
    "    :param placekey_values: A list of Placekey strings\n",
    "    :param zoom_start: Folium zoom level. 18 is suitable for neighboring resolution 10 H3s.\n",
    "    :folium_map: A Folium map object to add the Placekeys to\n",
    "    :labels: Whether or not to add labels for Placekeys\n",
    "    :return: a Folium map object\n",
    "    \n",
    "    \"\"\"\n",
    "    geos = [pk.placekey_to_geo(p) for p in placekey_values]\n",
    "    hexagons = [pk.placekey_to_hex_boundary(p) for p in placekey_values]\n",
    "\n",
    "    if folium_map is None:\n",
    "        centroid = np.mean(geos, axis=0)\n",
    "        folium_map = folium.Map((centroid[0], centroid[1]), zoom_start=zoom_start, tiles='cartodbpositron')\n",
    "\n",
    "    for h in hexagons:\n",
    "        folium.Polygon(\n",
    "            locations=h,\n",
    "            weight=weight,\n",
    "            color=hex_color\n",
    "        ).add_to(folium_map)\n",
    "        \n",
    "    if labels:\n",
    "        for p, g in zip(placekey_values, geos):\n",
    "            icon = folium.features.DivIcon(\n",
    "                icon_size=(120, 36),\n",
    "                icon_anchor=(60, 15),\n",
    "                html='<div style=\"align: center; font-size: 12pt; background-color: lightblue; border-radius: 5px; padding: 2px\">{}</div>'.format(p),\n",
    "            )\n",
    "            \n",
    "            folium.map.Marker(\n",
    "                [g[0], g[1]],\n",
    "                icon=icon\n",
    "            ).add_to(folium_map)\n",
    "        \n",
    "    return folium_map"
   ]
  },
  {
   "cell_type": "code",
   "execution_count": 7,
   "metadata": {},
   "outputs": [
    {
     "data": {
      "text/html": [
       "<div style=\"width:100%;\"><div style=\"position:relative;width:100%;height:0;padding-bottom:60%;\"><span style=\"color:#565656\">Make this Notebook Trusted to load map: File -> Trust Notebook</span><iframe src=\"about:blank\" style=\"position:absolute;width:100%;height:100%;left:0;top:0;border:none !important;\" data-html=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 onload=\"this.contentDocument.open();this.contentDocument.write(atob(this.getAttribute('data-html')));this.contentDocument.close();\" allowfullscreen webkitallowfullscreen mozallowfullscreen></iframe></div></div>"
      ],
      "text/plain": [
       "<folium.folium.Map at 0x120ec8c70>"
      ]
     },
     "execution_count": 7,
     "metadata": {},
     "output_type": "execute_result"
    }
   ],
   "source": [
    "pk_cbg_map = draw_placekeys(covering_placekeys['boundary'], folium_map=cbg_map, hex_color='orange')\n",
    "pk_cbg_map = draw_placekeys(covering_placekeys['interior'], folium_map=pk_cbg_map, hex_color='red')\n",
    "\n",
    "pk_cbg_map"
   ]
  },
  {
   "cell_type": "markdown",
   "metadata": {},
   "source": [
    "## Proximity of Placekeys"
   ]
  },
  {
   "cell_type": "markdown",
   "metadata": {},
   "source": [
    "Similar Placekeys are physically close to each other, and often physically close places will have similar Placekeys (this won't always be true since we're trying to cover the earth with a linear ordering of codes). Below is our earlier example with Placekeys labelled by their Where part."
   ]
  },
  {
   "cell_type": "code",
   "execution_count": 8,
   "metadata": {},
   "outputs": [
    {
     "data": {
      "text/html": [
       "<div style=\"width:100%;\"><div style=\"position:relative;width:100%;height:0;padding-bottom:60%;\"><span style=\"color:#565656\">Make this Notebook Trusted to load map: File -> Trust Notebook</span><iframe src=\"about:blank\" style=\"position:absolute;width:100%;height:100%;left:0;top:0;border:none !important;\" data-html=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 onload=\"this.contentDocument.open();this.contentDocument.write(atob(this.getAttribute('data-html')));this.contentDocument.close();\" allowfullscreen webkitallowfullscreen mozallowfullscreen></iframe></div></div>"
      ],
      "text/plain": [
       "<folium.folium.Map at 0x1051d3af0>"
      ]
     },
     "execution_count": 8,
     "metadata": {},
     "output_type": "execute_result"
    }
   ],
   "source": [
    "draw_placekeys(\n",
    "    covering_placekeys['interior'] + covering_placekeys['boundary'],\n",
    "    zoom_start=17, labels=True\n",
    ")"
   ]
  },
  {
   "cell_type": "markdown",
   "metadata": {},
   "source": [
    "We provide a function for explicitly computing the distance in meters between two Placekeys based on the centers of the Where parts."
   ]
  },
  {
   "cell_type": "code",
   "execution_count": 9,
   "metadata": {},
   "outputs": [
    {
     "data": {
      "text/plain": [
       "473.56101045983115"
      ]
     },
     "execution_count": 9,
     "metadata": {},
     "output_type": "execute_result"
    }
   ],
   "source": [
    "pk.placekey_distance('@5vg-7gq-dn5', '@5vg-7gq-t9z')"
   ]
  },
  {
   "cell_type": "markdown",
   "metadata": {},
   "source": [
    "The library also contains a table of the maximal distance in meters between two Placekeys based on the length of their common prefix."
   ]
  },
  {
   "cell_type": "code",
   "execution_count": 10,
   "metadata": {},
   "outputs": [
    {
     "data": {
      "text/plain": [
       "{0: 20040000.0,\n",
       " 1: 20040000.0,\n",
       " 2: 2777000.0,\n",
       " 3: 1065000.0,\n",
       " 4: 152400.0,\n",
       " 5: 21770.0,\n",
       " 6: 8227.0,\n",
       " 7: 1176.0,\n",
       " 8: 444.3,\n",
       " 9: 63.47}"
      ]
     },
     "execution_count": 10,
     "metadata": {},
     "output_type": "execute_result"
    }
   ],
   "source": [
    "pk.get_prefix_distance_dict()"
   ]
  },
  {
   "cell_type": "markdown",
   "metadata": {},
   "source": [
    "## Outputing Placekeys to geometry formats"
   ]
  },
  {
   "cell_type": "markdown",
   "metadata": {},
   "source": [
    "In case of a need to either visualize Placekeys or to serialize their shape in a data file, the Placekey library has several output options for the geometry of a Placekey. The Placekey library by default\n",
    "1. represents points as (latitudue, longitude)\n",
    "2. orients the boundaries of polygons counter-clockwise\n",
    "\n",
    "The GeoJSON format represents points as (longitude, latitude), so all output functions have a parameter `geo_json` which when `True` will cause points to be output in this format. Setting this flag will also cause list of boundary points to have the first and last entry the same. Functions with `geojson` in their name have `geo_json=True` by default, while other functions have `geo_json=False` by default. This difference is easy to spot with `placekey_to_hex_boundary()`."
   ]
  },
  {
   "cell_type": "code",
   "execution_count": 11,
   "metadata": {},
   "outputs": [
    {
     "data": {
      "text/plain": [
       "((37.77921928451977, -122.41844077039543),\n",
       " (37.77972548542876, -122.41780166521563),\n",
       " (37.78039571852498, -122.41800851332172),\n",
       " (37.780559746916104, -122.41885447351558),\n",
       " (37.78005354361958, -122.41949357434298),\n",
       " (37.77938331431949, -122.41928671932915))"
      ]
     },
     "execution_count": 11,
     "metadata": {},
     "output_type": "execute_result"
    }
   ],
   "source": [
    "pk.placekey_to_hex_boundary('@5vg-7gq-tjv')"
   ]
  },
  {
   "cell_type": "code",
   "execution_count": 12,
   "metadata": {},
   "outputs": [
    {
     "data": {
      "text/plain": [
       "((-122.41844077039543, 37.77921928451977),\n",
       " (-122.41780166521563, 37.77972548542876),\n",
       " (-122.41800851332172, 37.78039571852498),\n",
       " (-122.41885447351558, 37.780559746916104),\n",
       " (-122.41949357434298, 37.78005354361958),\n",
       " (-122.41928671932915, 37.77938331431949),\n",
       " (-122.41844077039543, 37.77921928451977))"
      ]
     },
     "execution_count": 12,
     "metadata": {},
     "output_type": "execute_result"
    }
   ],
   "source": [
    "pk.placekey_to_hex_boundary('@5vg-7gq-tjv', geo_json=True)"
   ]
  },
  {
   "cell_type": "markdown",
   "metadata": {},
   "source": [
    "Placekeys can also be output to [Shapely](https://shapely.readthedocs.io/en/latest/project.html) polygons, [WKT (Well-Known Text)](https://en.wikipedia.org/wiki/Well-known_text_representation_of_geometry), and [GeoJSON](https://geojson.org/) dictionaries."
   ]
  },
  {
   "cell_type": "code",
   "execution_count": 13,
   "metadata": {},
   "outputs": [
    {
     "data": {
      "image/svg+xml": [
       "<svg xmlns=\"http://www.w3.org/2000/svg\" xmlns:xlink=\"http://www.w3.org/1999/xlink\" width=\"100.0\" height=\"100.0\" viewBox=\"37.77915160815468 -122.41956125070807 0.0014758151265183983 0.0018272618575281285\" preserveAspectRatio=\"xMinYMin meet\"><g transform=\"matrix(1,0,0,-1,0,-244.8372952395586)\"><path fill-rule=\"evenodd\" fill=\"#66cc99\" stroke=\"#555555\" stroke-width=\"3.654523715056257e-05\" opacity=\"0.6\" d=\"M 37.77921928451977,-122.41844077039543 L 37.77938331431949,-122.41928671932915 L 37.78005354361958,-122.41949357434298 L 37.780559746916104,-122.41885447351558 L 37.78039571852498,-122.41800851332172 L 37.77972548542876,-122.41780166521563 L 37.77921928451977,-122.41844077039543 z\" /></g></svg>"
      ],
      "text/plain": [
       "<shapely.geometry.polygon.Polygon at 0x120ef2ee0>"
      ]
     },
     "execution_count": 13,
     "metadata": {},
     "output_type": "execute_result"
    }
   ],
   "source": [
    "pk.placekey_to_polygon('@5vg-7gq-tjv')"
   ]
  },
  {
   "cell_type": "code",
   "execution_count": 14,
   "metadata": {},
   "outputs": [
    {
     "data": {
      "text/plain": [
       "'POLYGON ((37.77921928451977 -122.4184407703954, 37.77938331431949 -122.4192867193292, 37.78005354361958 -122.419493574343, 37.7805597469161 -122.4188544735156, 37.78039571852498 -122.4180085133217, 37.77972548542876 -122.4178016652156, 37.77921928451977 -122.4184407703954))'"
      ]
     },
     "execution_count": 14,
     "metadata": {},
     "output_type": "execute_result"
    }
   ],
   "source": [
    "pk.placekey_to_wkt('@5vg-7gq-tjv')"
   ]
  },
  {
   "cell_type": "code",
   "execution_count": 15,
   "metadata": {},
   "outputs": [
    {
     "data": {
      "text/plain": [
       "{'type': 'Polygon',\n",
       " 'coordinates': (((-122.41844077039543, 37.77921928451977),\n",
       "   (-122.41780166521563, 37.77972548542876),\n",
       "   (-122.41800851332172, 37.78039571852498),\n",
       "   (-122.41885447351558, 37.780559746916104),\n",
       "   (-122.41949357434298, 37.78005354361958),\n",
       "   (-122.41928671932915, 37.77938331431949),\n",
       "   (-122.41844077039543, 37.77921928451977)),)}"
      ]
     },
     "execution_count": 15,
     "metadata": {},
     "output_type": "execute_result"
    }
   ],
   "source": [
    "pk.placekey_to_geojson('@5vg-7gq-tjv')"
   ]
  },
  {
   "cell_type": "markdown",
   "metadata": {},
   "source": [
    "## Validating Placekeys"
   ]
  },
  {
   "cell_type": "markdown",
   "metadata": {},
   "source": [
    "The Plackey library can validate the format of Placekeys and the Where part (e.g. \"@5vg-7gq-tjv\"). Validation of the What part (e.g. \"223-227@\") can be done via the [Placekey service API](https://docs.placekey.io/)."
   ]
  },
  {
   "cell_type": "code",
   "execution_count": 16,
   "metadata": {},
   "outputs": [
    {
     "data": {
      "text/plain": [
       "True"
      ]
     },
     "execution_count": 16,
     "metadata": {},
     "output_type": "execute_result"
    }
   ],
   "source": [
    "pk.placekey_format_is_valid(\"223-227@5vg-7gq-tjv\")"
   ]
  },
  {
   "cell_type": "code",
   "execution_count": 17,
   "metadata": {},
   "outputs": [
    {
     "data": {
      "text/plain": [
       "False"
      ]
     },
     "execution_count": 17,
     "metadata": {},
     "output_type": "execute_result"
    }
   ],
   "source": [
    "pk.placekey_format_is_valid(\"223-227@ima-bad-key\")"
   ]
  }
 ],
 "metadata": {
  "kernelspec": {
   "display_name": "Python 3",
   "language": "python",
   "name": "python3"
  },
  "language_info": {
   "codemirror_mode": {
    "name": "ipython",
    "version": 3
   },
   "file_extension": ".py",
   "mimetype": "text/x-python",
   "name": "python",
   "nbconvert_exporter": "python",
   "pygments_lexer": "ipython3",
   "version": "3.8.5"
  }
 },
 "nbformat": 4,
 "nbformat_minor": 4
}
