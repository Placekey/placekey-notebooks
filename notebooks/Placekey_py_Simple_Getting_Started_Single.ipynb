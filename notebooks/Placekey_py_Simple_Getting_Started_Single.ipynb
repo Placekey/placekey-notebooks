{
  "cells": [
    {
      "cell_type": "markdown",
      "metadata": {
        "id": "Vd-OForWha0H"
      },
      "source": [
        "![image.png](data:image/png;base64,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)"
      ]
    },
    {
      "cell_type": "markdown",
      "metadata": {
        "id": "eryNMVQuiok7"
      },
      "source": [
        "## Calling the Single API\n",
        "Getting a Placekey for your data is super easy with the `plackey-py` library.\n",
        "\n",
        "\n",
        "To Note: for any query, you can use any variation of the required fields minimum inputs here: [minimum required inputs](https://docs.placekey.io/documentation/placekey-api/input-parameters/minimum-inputs)\n"
      ]
    },
    {
      "cell_type": "markdown",
      "metadata": {
        "id": "RyDx08HuT1XG"
      },
      "source": [
        "## Install the Package"
      ]
    },
    {
      "cell_type": "code",
      "execution_count": 2,
      "metadata": {
        "colab": {
          "base_uri": "https://localhost:8080/"
        },
        "id": "lTNJFX52N1PD",
        "outputId": "5f46902b-a807-4b24-cace-8a5090e1fa4f"
      },
      "outputs": [
        {
          "name": "stdout",
          "output_type": "stream",
          "text": [
            "Collecting placekey\n",
            "  Downloading placekey-0.0.21-py3-none-any.whl.metadata (5.6 kB)\n",
            "Collecting h3<4,>=3.6.1 (from placekey)\n",
            "  Downloading h3-3.7.7-cp310-cp310-manylinux_2_17_x86_64.manylinux2014_x86_64.whl.metadata (4.9 kB)\n",
            "Requirement already satisfied: shapely in /usr/local/lib/python3.10/dist-packages (from placekey) (2.0.6)\n",
            "Requirement already satisfied: requests in /usr/local/lib/python3.10/dist-packages (from placekey) (2.32.3)\n",
            "Collecting ratelimit (from placekey)\n",
            "  Downloading ratelimit-2.2.1.tar.gz (5.3 kB)\n",
            "  Preparing metadata (setup.py) ... \u001b[?25l\u001b[?25hdone\n",
            "Collecting backoff (from placekey)\n",
            "  Downloading backoff-2.2.1-py3-none-any.whl.metadata (14 kB)\n",
            "Requirement already satisfied: charset-normalizer<4,>=2 in /usr/local/lib/python3.10/dist-packages (from requests->placekey) (3.4.0)\n",
            "Requirement already satisfied: idna<4,>=2.5 in /usr/local/lib/python3.10/dist-packages (from requests->placekey) (3.10)\n",
            "Requirement already satisfied: urllib3<3,>=1.21.1 in /usr/local/lib/python3.10/dist-packages (from requests->placekey) (2.2.3)\n",
            "Requirement already satisfied: certifi>=2017.4.17 in /usr/local/lib/python3.10/dist-packages (from requests->placekey) (2024.12.14)\n",
            "Requirement already satisfied: numpy<3,>=1.14 in /usr/local/lib/python3.10/dist-packages (from shapely->placekey) (1.26.4)\n",
            "Downloading placekey-0.0.21-py3-none-any.whl (15 kB)\n",
            "Downloading h3-3.7.7-cp310-cp310-manylinux_2_17_x86_64.manylinux2014_x86_64.whl (1.2 MB)\n",
            "\u001b[2K   \u001b[90m━━━━━━━━━━━━━━━━━━━━━━━━━━━━━━━━━━━━━━━━\u001b[0m \u001b[32m1.2/1.2 MB\u001b[0m \u001b[31m43.9 MB/s\u001b[0m eta \u001b[36m0:00:00\u001b[0m\n",
            "\u001b[?25hDownloading backoff-2.2.1-py3-none-any.whl (15 kB)\n",
            "Building wheels for collected packages: ratelimit\n",
            "  Building wheel for ratelimit (setup.py) ... \u001b[?25l\u001b[?25hdone\n",
            "  Created wheel for ratelimit: filename=ratelimit-2.2.1-py3-none-any.whl size=5895 sha256=7c82feea5bcdef0807702b81bbf135bb6607b89bfa280c3962df7c8d56804ccc\n",
            "  Stored in directory: /root/.cache/pip/wheels/27/5f/ba/e972a56dcbf5de9f2b7d2b2a710113970bd173c4dcd3d2c902\n",
            "Successfully built ratelimit\n",
            "Installing collected packages: ratelimit, h3, backoff, placekey\n",
            "Successfully installed backoff-2.2.1 h3-3.7.7 placekey-0.0.21 ratelimit-2.2.1\n"
          ]
        }
      ],
      "source": [
        "!pip install placekey"
      ]
    },
    {
      "cell_type": "markdown",
      "metadata": {
        "id": "u-YxfqOmT3it"
      },
      "source": [
        "## Initialize the Placekey API"
      ]
    },
    {
      "cell_type": "code",
      "execution_count": 3,
      "metadata": {
        "id": "MlkQZs6CZCjo"
      },
      "outputs": [],
      "source": [
        "from placekey.api import PlacekeyAPI\n",
        "import pandas as pd\n",
        "import json\n",
        "pk_api = PlacekeyAPI(api_key=\"<your placekey api key>\")"
      ]
    },
    {
      "cell_type": "markdown",
      "metadata": {
        "id": "dm_zyJ-pk2p1"
      },
      "source": [
        "#### Getting a Placekey for a Query without Place Metadata"
      ]
    },
    {
      "cell_type": "code",
      "execution_count": 5,
      "metadata": {
        "colab": {
          "base_uri": "https://localhost:8080/"
        },
        "id": "vF8CGiyRdhph",
        "outputId": "5db3cdec-5aff-4794-903c-a8aada4cf758"
      },
      "outputs": [
        {
          "data": {
            "text/plain": [
              "{'query_id': '0',\n",
              " 'placekey': '227-223@5vg-82n-pgk',\n",
              " 'address_placekey': '227@5vg-82n-pgk',\n",
              " 'building_placekey': '227@5vg-82n-pgk'}"
            ]
          },
          "execution_count": 5,
          "metadata": {},
          "output_type": "execute_result"
        }
      ],
      "source": [
        "query = {\n",
        "   \"location_name\": \"Twin Peaks Petroleum\",\n",
        "  \"street_address\": \"598 Portola Dr\",\n",
        "  \"city\": \"San Francisco\",\n",
        "  \"region\": \"CA\",\n",
        "  \"postal_code\": \"94131\",\n",
        "  \"iso_country_code\": \"US\"\n",
        "}\n",
        "fields=[\"placekey\", \"building_placekey\", \"address_placekey\"] # additionial fields you can request [\"confidence_score\", \"geocode\", \"upi\",\"geoid\",\"parcel\", \"gers\"]\n",
        "pk_api.lookup_placekey(**query, fields=fields)"
      ]
    },
    {
      "cell_type": "markdown",
      "metadata": {
        "id": "jOLU6NXwoh5Y"
      },
      "source": [
        "#### Getting a Placekey for a Query with Place Metadata\n",
        "- The Placekey API allows you to pass contextual information that may be beneficial to matching with the option [`place_metadata`](https://docs.placekey.io/documentation/placekey-api/input-parameters/optional-parameters) field"
      ]
    },
    {
      "cell_type": "code",
      "execution_count": 7,
      "metadata": {
        "colab": {
          "base_uri": "https://localhost:8080/"
        },
        "id": "u343TfzRod3A",
        "outputId": "856daa07-fcd5-4fbd-9bd8-31ced81309d6"
      },
      "outputs": [
        {
          "data": {
            "text/plain": [
              "{'query_id': '0',\n",
              " 'placekey': '227@5vg-82n-pgk',\n",
              " 'address_placekey': '227@5vg-82n-pgk',\n",
              " 'building_placekey': '227@5vg-82n-pgk',\n",
              " 'confidence_score': 'HIGH',\n",
              " 'gers': None,\n",
              " 'upi': None,\n",
              " 'parcel': None,\n",
              " 'geoid': None,\n",
              " 'geocode': {'location': {'lat': 37.74557, 'lng': -122.4517},\n",
              "  'location_type': 'APPROXIMATE'}}"
            ]
          },
          "execution_count": 7,
          "metadata": {},
          "output_type": "execute_result"
        }
      ],
      "source": [
        "query = {\n",
        "    \"street_address\": \"598 Portola Dr\",\n",
        "    \"city\": \"San Francisco\",\n",
        "    \"region\": \"CA\",\n",
        "    \"postal_code\": \"94131\",\n",
        "    \"iso_country_code\": \"US\",\n",
        "    \"place_metadata\": {\"naics_code\": \"45115\"}\n",
        "}\n",
        "fields=[\"placekey\", \"building_placekey\", \"address_placekey\", \"confidence_score\", \"geocode\", \"upi\",\"geoid\",\"parcel\", \"gers\"]\n",
        "pk_api.lookup_placekey(**query, fields=fields)"
      ]
    }
  ],
  "metadata": {
    "colab": {
      "provenance": []
    },
    "kernelspec": {
      "display_name": "Python 3",
      "name": "python3"
    },
    "language_info": {
      "name": "python"
    }
  },
  "nbformat": 4,
  "nbformat_minor": 0
}
